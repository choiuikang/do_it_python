{
 "cells": [
  {
   "cell_type": "markdown",
   "id": "2a4c38bd",
   "metadata": {},
   "source": [
    "# 04-1 함수\n",
    "함수를 설명하기 전에 믹서를 생각해 보자. 우리는 믹서에 과일을 넣는다. 그리고 믹서를 사용해서 과일을 갈아 과일 주스를 만든다. 우리가 믹서에 넣는 과일은 '입력'이 되고 과일 주스는 '출력'이 된다. 그렇다면 믹서는 무엇인가?<br>우리가 배우려는 함수가 바로 믹서와 비슷하다. 입력값을 가지고 어떤 일을 수행한 다음에 그 결과물을 내어놓는 것, 이것이 바로 함수가 하는 일이다. 우리는 어려서부터 함수에 대해 공부했지만 함수에 관해 깊이 생각해 본 적이 별로 없다. 예를 들어 y=2x+3도 함수이다. 하지만 이를 수학 시간에 배운 직선 그래프로만 알고 있지 x에 어떤 값을 넣었을 때 어떤 변화에의해서 y값이 나오는지 그 과정에 대해서는 별로 관심을 두지 않았을 것디아.<br>\n",
    "이제 우리는 함수에 대해 조금 더 생각해 보는 시간을 가져야 한다. 프로그래밍에서 함수는 정말 중요하기 때문이다. 자, 이제 파이썬 함수의 세꼐로 깊이 들어가 보자."
   ]
  },
  {
   "cell_type": "markdown",
   "id": "37b20103",
   "metadata": {},
   "source": [
    "## 함수를 사용하는 이유는 무엇일까?\n",
    "프로그래밍을 하다 보면 똑같은 내용을 반복해서 작성하고 있는 자신을 발견할 때가 종종 있다. 이때가 바로 함수가 필요한 때이다. 즉 반복되는 부분이 있을 경우 '반복적으로 사용되는 가치 있는 부분'을 한 뭉치로 묶어서'어떤 입력값을 주었을 때 어떤 결괏값을 돌려준다'라는 식의 함수로 작성하는 것이 현명하다.<br>함수를 사용하는 또다른 이유는 자신이 만든 프로그램을 함수화하면 프로그램 흐름을 일목 요연하게 볼 수 있기 때문이다. 마치 공장에서 원재료가 여러 공정을 거쳐 하나의 상품이 되는 것처럼 프로그램에서도 입력한 값이 여러 함수를 거치면서 원하는 결괏값을 내는 것을 볼수 있다. 이렇게 되면 프로그램 흐름도 잘 파악할 수 있고 오류가 어디에서 나는지도 바로 알아차릴 수 있다. 함수를 잘 사용하고 함수를 적절하게 만들 줄 아는 사람이 능력 있는 프로그래머이다."
   ]
  },
  {
   "cell_type": "markdown",
   "id": "d826b260",
   "metadata": {},
   "source": [
    "## 파이썬 함수의 구조\n",
    "def 함수 이름(매개변수):\n",
    "- 수행할 문장1\n",
    "- 수행할 문장2\n",
    "- .....<br>\n",
    "파이썬의 함수의 구조는 위쪽과 같다. def는 함수를 만들 때 사용하는 예약어이며, 함수 이름은 함수를 만드는 사람이 임의로 만들 수 있다. 함수 이름 뒤 괄호 안의 매개변수는 이 함수에 입력으로 전달되는 값을 받는 변수이다. 이렇게 함수를 정의한 다음 if, while,for문 등과 마찬가지로 함수에서 수행할 문장을 입력한다.<br>\n",
    "간단하지만 많은것을 설명해 주는 다음 예를 보자."
   ]
  },
  {
   "cell_type": "code",
   "execution_count": 1,
   "id": "a8fb8c82",
   "metadata": {},
   "outputs": [],
   "source": [
    "def add(a,b):\n",
    "    return a+b"
   ]
  },
  {
   "cell_type": "markdown",
   "id": "c10dfbba",
   "metadata": {},
   "source": [
    "위 함수는 다음과 같이 풀이된다.<br>\n",
    "이 함수의 이름(함수 이름)은 add이고 입력으로 2개의 값을 받으며 결괏값은 2개의 입력값을 더한 값이다."
   ]
  },
  {
   "cell_type": "markdown",
   "id": "c2a6cf1d",
   "metadata": {},
   "source": [
    "여기에서 return은 함수의 결괏값을 돌려주는 명령어이다. 먼저 다음과 같이 add함수를 만들자."
   ]
  },
  {
   "cell_type": "code",
   "execution_count": 2,
   "id": "bad65943",
   "metadata": {},
   "outputs": [],
   "source": [
    "def add(a,b):\n",
    "    return a+b"
   ]
  },
  {
   "cell_type": "markdown",
   "id": "68325d2d",
   "metadata": {},
   "source": [
    "이제 직접  add함수를 사용해 보자."
   ]
  },
  {
   "cell_type": "code",
   "execution_count": 3,
   "id": "344ba89b",
   "metadata": {},
   "outputs": [
    {
     "name": "stdout",
     "output_type": "stream",
     "text": [
      "7\n"
     ]
    }
   ],
   "source": [
    "a=3\n",
    "b=4\n",
    "c=add(a,b)\n",
    "print(c)"
   ]
  },
  {
   "cell_type": "markdown",
   "id": "6e6513c9",
   "metadata": {},
   "source": [
    "변수 a에 3,b에 4를 대입한 다음 앞에서 만든add함수에 a와 b를 입력값으로 넣어준다. 그리고 변수 c에 add함수의 결괏값을 대입하면 print(c)로 c의 값을 확인할 수 있다."
   ]
  },
  {
   "cell_type": "markdown",
   "id": "d5cb5b3b",
   "metadata": {},
   "source": [
    "## 매개변수와 인수\n",
    "매개변수와 인수는 혼용해서 사용되는 헷갈리는 용어이므로 잘 기억해 두자. 매개변수는 함수에 입력으로 전달된 값을 받는 변수를 의미하고 인수는 함수를 호출할 때 전달하는 입력값을 의미한다."
   ]
  },
  {
   "cell_type": "code",
   "execution_count": 4,
   "id": "45c3a9d6",
   "metadata": {},
   "outputs": [
    {
     "name": "stdout",
     "output_type": "stream",
     "text": [
      "7\n"
     ]
    }
   ],
   "source": [
    "def add(a,b):\n",
    "    return a+b\n",
    "print(add(3,4))"
   ]
  },
  {
   "cell_type": "markdown",
   "id": "4b1dfb95",
   "metadata": {},
   "source": [
    "## 같은 의미를 가진 여러 가지 용어들에 주의 하자\n",
    "프로그래밍을 공부할 때 어려운 부분 중 하나가 용어의 혼용이라고 할 수 있다. 우리는 공부하면서 원서를 보기도 하고 누군가의 변역본을 보기도 하면서 의미는 같지만 표현이 다른 용어를 자주 만나게 된다. 한 예로 입력값을 다른 말로 함수의 인수, 매개변수 등으로 말하기도 하고 결괏값을 출력값, 반환 값, 돌려주는 값 등으로 말하기도 한다. 이렇듯 많은 용어가 여러 가지 다른 말로 표현되지만 의미는 동일한 경우가 많다. 따라서 이런 용어를 기억해 놓아야 머리가 덜 아플것이다."
   ]
  },
  {
   "cell_type": "markdown",
   "id": "6509ab79",
   "metadata": {},
   "source": [
    "## 입력값과 결괏값에 따른 함수의 현태\n",
    "함수는 들어온 입력값을 받아 어떤 처리를 하여 적절한 결괏값을 돌려준다.<br>함수의 현태는 입력값과 결괏값의 존재 유무에 따라 4가지 유형으로 나뉜다. 자세히 알아보자."
   ]
  },
  {
   "cell_type": "markdown",
   "id": "3285d665",
   "metadata": {},
   "source": [
    "### 일반적인 함수\n",
    "def 함수 이름(매개변수):\n",
    "- 수행할 문장\n",
    "- .......<br>return 결괏값<br> 입력값이 있고 결괏값이 있는 함수가 일반적인 함수이다. 앞으로 여러분이 프로그래밍을 할 때 만들 함수는 대부분 위쪽과 비슷한 형태일 것이다."
   ]
  },
  {
   "cell_type": "markdown",
   "id": "d7a6afde",
   "metadata": {},
   "source": [
    "다음은 일반 함수의 전형적인 예이다."
   ]
  },
  {
   "cell_type": "code",
   "execution_count": 5,
   "id": "6dc90ee2",
   "metadata": {},
   "outputs": [],
   "source": [
    "def add(a,b):\n",
    "    result=a+b\n",
    "    return result"
   ]
  },
  {
   "cell_type": "markdown",
   "id": "35cfb0ad",
   "metadata": {},
   "source": [
    "add 함수는 2개의 입력값을 받아서 서로 더한 결괏값을 돌려준다.<br> 이 함수를 사용하는 방법은 다음과 같다. 입력값으로 3과 4를 주고 결괏값을 돌려받아 보자."
   ]
  },
  {
   "cell_type": "code",
   "execution_count": 6,
   "id": "e85cd404",
   "metadata": {},
   "outputs": [
    {
     "name": "stdout",
     "output_type": "stream",
     "text": [
      "7\n"
     ]
    }
   ],
   "source": [
    "a=add(3,4)\n",
    "print(a)"
   ]
  },
  {
   "cell_type": "markdown",
   "id": "65a9e98b",
   "metadata": {},
   "source": [
    "이처럼 입력값과 결괏값이 있는 함수의 사용법을 절리하면 다음과 같다.<br> 결괏값을 받을 변수= 함수이름(입력인수1, 2,....)"
   ]
  },
  {
   "cell_type": "markdown",
   "id": "b933c63a",
   "metadata": {},
   "source": [
    "### 입력값이 없는 함수\n",
    "입력값이 없는 함수가 존재할까? 당연히 존재한다. 다음을 알아보자"
   ]
  },
  {
   "cell_type": "code",
   "execution_count": 7,
   "id": "f8fe76c7",
   "metadata": {},
   "outputs": [],
   "source": [
    "def say():\n",
    "    return'hi'"
   ]
  },
  {
   "cell_type": "markdown",
   "id": "6855422c",
   "metadata": {},
   "source": [
    "say라는 이름의 함수를 만들었다. 그런데 매개변수 부분을 나타내는 함수 이름 뒤의 괄호 안이 비어있다. 이함수는 어떻게 사용하는 걸까?"
   ]
  },
  {
   "cell_type": "markdown",
   "id": "430310e2",
   "metadata": {},
   "source": [
    "다음을 직접 입력해 보자."
   ]
  },
  {
   "cell_type": "code",
   "execution_count": 8,
   "id": "0a275009",
   "metadata": {},
   "outputs": [
    {
     "name": "stdout",
     "output_type": "stream",
     "text": [
      "hi\n"
     ]
    }
   ],
   "source": [
    "a=say()\n",
    "print(a)"
   ]
  },
  {
   "cell_type": "markdown",
   "id": "77fb2f69",
   "metadata": {},
   "source": [
    "위 함수를 쓰기 위해서는 say()처럼 괄호 안에 아무 값도 넣지 않아야 한다. 이 함수는 입력값은 없지만 결괏값으로 HI라는 문자열을 돌려준다. a=say()처럼 작성하면 a에 HI 문자열이 대입되는 것이다."
   ]
  },
  {
   "cell_type": "markdown",
   "id": "ef032087",
   "metadata": {},
   "source": [
    "이처럼 입력값이 없고 결괏값만 있는 함수는 다음과 같이 사용된다.<br> 결괏값을 받을 변수 = 함수이름()"
   ]
  },
  {
   "cell_type": "markdown",
   "id": "0caba5fe",
   "metadata": {},
   "source": [
    "### 결괏값이 없는 함수\n",
    "결괏값이 없는 함수 역시 존재한다. 다음 예를 보자."
   ]
  },
  {
   "cell_type": "code",
   "execution_count": 9,
   "id": "532ddd4a",
   "metadata": {},
   "outputs": [],
   "source": [
    "def add(a,b):\n",
    "    print(\"%d,%d의 합은 %d입니다.\"%(a,b,a+b))"
   ]
  },
  {
   "cell_type": "markdown",
   "id": "e9b4a966",
   "metadata": {},
   "source": [
    "결괏값이 없는 함수는 호출해도 돌려주는 값이 없기 떄문에 다음과 같이 사용한다."
   ]
  },
  {
   "cell_type": "code",
   "execution_count": 10,
   "id": "d6d78757",
   "metadata": {},
   "outputs": [
    {
     "name": "stdout",
     "output_type": "stream",
     "text": [
      "3,4의 합은 7입니다.\n"
     ]
    }
   ],
   "source": [
    "add(3,4)"
   ]
  },
  {
   "cell_type": "markdown",
   "id": "7474eac7",
   "metadata": {},
   "source": [
    "즉 결괏값이 없는 함수는 다음과 같이 사용한다.<br> 함수이름(입력인수1, 입력인수2,.....)"
   ]
  },
  {
   "cell_type": "markdown",
   "id": "14f8d780",
   "metadata": {},
   "source": [
    "결괏값이 진짜 없는지 확인하기 위해 다음 예를 직접 입력해 보자."
   ]
  },
  {
   "cell_type": "code",
   "execution_count": 11,
   "id": "5af6b1ea",
   "metadata": {},
   "outputs": [
    {
     "name": "stdout",
     "output_type": "stream",
     "text": [
      "3,4의 합은 7입니다.\n"
     ]
    }
   ],
   "source": [
    "a=add(3,4)"
   ]
  },
  {
   "cell_type": "markdown",
   "id": "f0640b34",
   "metadata": {},
   "source": [
    "아마도 여러분은 '3,4의 합은 7입니다.'라는 문장을 출력해 주었는데 왜 결괏값이 없다는 것인지 의아하게 생각할 것이다. 이 부분이 초보자들이 혼란스로워하는 부분이기도 한데 print문은 함수의 구성 요소중 하나인 <수행할 문장>에 해당하는 부분일 뿐이다. 결괏값은 당연히 없다. 결괏값은 오직 return 명령어로만 돌려받을 수 있다."
   ]
  },
  {
   "cell_type": "markdown",
   "id": "90a89de9",
   "metadata": {},
   "source": [
    "이를 확인해 보자. 돌려받을 값을 a 변수에 대입하여 출력해 보면 결괏값이 있는지 없는지 알수 있다."
   ]
  },
  {
   "cell_type": "code",
   "execution_count": 12,
   "id": "d1ebcbc3",
   "metadata": {},
   "outputs": [
    {
     "name": "stdout",
     "output_type": "stream",
     "text": [
      "3,4의 합은 7입니다.\n"
     ]
    }
   ],
   "source": [
    "a=add(3,4)"
   ]
  },
  {
   "cell_type": "code",
   "execution_count": 13,
   "id": "27f3bd6c",
   "metadata": {},
   "outputs": [
    {
     "name": "stdout",
     "output_type": "stream",
     "text": [
      "None\n"
     ]
    }
   ],
   "source": [
    "print(a)"
   ]
  },
  {
   "cell_type": "markdown",
   "id": "10f6441e",
   "metadata": {},
   "source": [
    "a 값은 None이다, None이란 거짓을 나타내는 자료형이라고 언급한 적이 있다. add함수처럼 결괏값이 없을 때 a=add(3,4)처럼 쓰면 함수 add는 반환 값으로 a변수에 None을 돌려준다. 이것을 가지고 결괏값이 있다고 생각하면 곤란하다."
   ]
  },
  {
   "cell_type": "markdown",
   "id": "ba737877",
   "metadata": {},
   "source": [
    "### 입력값도 결괏값도 없는 함수\n",
    "입력값도 결괏값도 없는 함수 역시 존재한다. 다음 예를 보자."
   ]
  },
  {
   "cell_type": "code",
   "execution_count": 14,
   "id": "a3d9e7de",
   "metadata": {},
   "outputs": [],
   "source": [
    "def say():\n",
    "    print('HI')"
   ]
  },
  {
   "cell_type": "markdown",
   "id": "7ae24650",
   "metadata": {},
   "source": [
    "입력 인수를 받는 매개변수도 없고 return문도 없으니 입력값도 결괏값도 없는 함수이다.<br>이 함수를 사용하는 방법은 단 한 가지이다."
   ]
  },
  {
   "cell_type": "code",
   "execution_count": 15,
   "id": "15815828",
   "metadata": {},
   "outputs": [
    {
     "name": "stdout",
     "output_type": "stream",
     "text": [
      "HI\n"
     ]
    }
   ],
   "source": [
    "say()"
   ]
  },
  {
   "cell_type": "markdown",
   "id": "42cd2896",
   "metadata": {},
   "source": [
    "즉 입력값도 결괏값도 없는 함수는 다음과 같이 사용한다.<br> 함수이름()"
   ]
  },
  {
   "cell_type": "code",
   "execution_count": 16,
   "id": "f3b2cea7",
   "metadata": {},
   "outputs": [],
   "source": [
    "def add(a,b):\n",
    "    return a+b"
   ]
  },
  {
   "cell_type": "markdown",
   "id": "5febda57",
   "metadata": {},
   "source": [
    "앞에서 알아본 add함수이다. 이함수를 다음과 같이 매개변수를 지정하여 사용할수 있다."
   ]
  },
  {
   "cell_type": "code",
   "execution_count": 17,
   "id": "1f51df31",
   "metadata": {},
   "outputs": [
    {
     "name": "stdout",
     "output_type": "stream",
     "text": [
      "10\n"
     ]
    }
   ],
   "source": [
    "result=add(a=3,b=7)\n",
    "print(result)"
   ]
  },
  {
   "cell_type": "markdown",
   "id": "c36098b4",
   "metadata": {},
   "source": [
    "매개변수를 지정하면 다음과 같이 순서에 상관없이 사용할 수 있다는 장점이 있다."
   ]
  },
  {
   "cell_type": "code",
   "execution_count": 18,
   "id": "941c1a86",
   "metadata": {},
   "outputs": [
    {
     "name": "stdout",
     "output_type": "stream",
     "text": [
      "8\n"
     ]
    }
   ],
   "source": [
    "result=add(b=5,a=3)\n",
    "print(result)"
   ]
  },
  {
   "cell_type": "markdown",
   "id": "51db2b45",
   "metadata": {},
   "source": [
    "## 입력값이 몇 개가 될지 모를 때는 어떻게 해야 할까?\n",
    "### def 함수이름(*매개변수):\n",
    "- 수행할 문장\n",
    "- ......<br>\n",
    "입력값이 여러 개일 때 그 입력값을 모두 더해 주는 함수를 생각해 보자. 하지만 몇 개가 입력될지 모를 때는 어떻게 해야할까? 아마도 난감할 것이다. 파이썬은 이런 문제를 해결하기 위해 위쪽과 같은 방법을 제공한다. 일반적으로 볼 수 있는 함수 형태에서 괄호 안의 매개변수 부분이 *매개변수로 바뀌었다."
   ]
  },
  {
   "cell_type": "markdown",
   "id": "14e90888",
   "metadata": {},
   "source": [
    "### 여러 개의 입력값을 받는 함수 만들기\n",
    "다음 예를 통해 여러 개의 입력값을 모두 더하는 함수를 직접 만들어 보자. 예를 들어 add_many(1,2)이면 3을, add_many(1,2,3)이면 6을 add_many(1,2,3,4,5,6,7,8,9,10)이면 55를 돌려주는 함수를 만들어 보자."
   ]
  },
  {
   "cell_type": "code",
   "execution_count": 19,
   "id": "77db8ec3",
   "metadata": {},
   "outputs": [],
   "source": [
    "def add_many(*args):\n",
    "    result=0\n",
    "    for i in args:\n",
    "        result=result+i\n",
    "    return result        "
   ]
  },
  {
   "cell_type": "markdown",
   "id": "1f5ecff1",
   "metadata": {},
   "source": [
    "위에서 만든 add_many 함수는 입력값이 몇 개이든 상관이 없다. *args처럼 매개변수 이름앞에*을 붙이면 입력값을 전부 모아서 튜플로 만들어 주기 때문이다. 만약 abb_many(1,2,3)처럼 이 함수를 쓰면 args는 (1,2,3)이 되고, add_many(1,2,3,4,5,6,7,8,9,10)처럼 쓰면 args는 (1,2,3,4,5,6,7,8,9,10)이 된다. 여기에서 *args는 임의로 정한 변수 이름이다. *pey,*python처럼 아무 이름이나 써도 된다."
   ]
  },
  {
   "cell_type": "markdown",
   "id": "306b6007",
   "metadata": {},
   "source": [
    "실제로 이 함수를 직접 실행해 보자."
   ]
  },
  {
   "cell_type": "code",
   "execution_count": 20,
   "id": "cd4a06ec",
   "metadata": {},
   "outputs": [
    {
     "name": "stdout",
     "output_type": "stream",
     "text": [
      "6\n"
     ]
    }
   ],
   "source": [
    "result=add_many(1,2,3)\n",
    "print(result)"
   ]
  },
  {
   "cell_type": "code",
   "execution_count": 21,
   "id": "d6aa9e70",
   "metadata": {},
   "outputs": [
    {
     "name": "stdout",
     "output_type": "stream",
     "text": [
      "55\n"
     ]
    }
   ],
   "source": [
    "result=add_many(1,2,3,4,5,6,7,8,9,10)\n",
    "print(result)"
   ]
  },
  {
   "cell_type": "raw",
   "id": "79bbb871",
   "metadata": {},
   "source": [
    "add_many(1,2,3)으로 함수를 호출하면 6을 돌려주고, add_many(1,2,3,4,5,6,7,8,9,10)을 대입하면 55를 돌려준다."
   ]
  },
  {
   "cell_type": "markdown",
   "id": "45dca11b",
   "metadata": {},
   "source": [
    "여러 개의 입력을 처리할 때 def add_many(*args)처럼 함수의 매개변수로*args만 사용할수 있는 것은 아니다. 다음 예를 보자."
   ]
  },
  {
   "cell_type": "code",
   "execution_count": 22,
   "id": "f609fe02",
   "metadata": {},
   "outputs": [],
   "source": [
    "def add_mul(choice,*args):\n",
    "    if choice ==\"add\":\n",
    "        result=0\n",
    "        for i in args:\n",
    "            result=result+i\n",
    "    elif choice ==\"mul\":\n",
    "        result=1\n",
    "        for i in args:\n",
    "            result=result*i\n",
    "    return result"
   ]
  },
  {
   "cell_type": "markdown",
   "id": "47bb1fd9",
   "metadata": {},
   "source": [
    "add_mul 함수는 여러 개의 입력값을 의미하는 *args 매개변수 앞에 choice 매개변수가 추가되어 있다. 이함수는 다음과 같이 사용할 수 있다."
   ]
  },
  {
   "cell_type": "code",
   "execution_count": 23,
   "id": "2fe4be6c",
   "metadata": {},
   "outputs": [
    {
     "name": "stdout",
     "output_type": "stream",
     "text": [
      "15\n"
     ]
    }
   ],
   "source": [
    "result=add_mul('add',1,2,3,4,5)\n",
    "print(result)"
   ]
  },
  {
   "cell_type": "code",
   "execution_count": 24,
   "id": "8cee54a5",
   "metadata": {},
   "outputs": [
    {
     "name": "stdout",
     "output_type": "stream",
     "text": [
      "120\n"
     ]
    }
   ],
   "source": [
    "result=add_mul('mul',1,2,3,4,5)\n",
    "print(result)"
   ]
  },
  {
   "cell_type": "markdown",
   "id": "2c2f6430",
   "metadata": {},
   "source": [
    "매개변수 choice에 'add'가 입력된 경우 *args에 입력되는 모든 값을 더해서 15를 돌려주고,'mul'이 입력된 경우 *atgs에 입력되는 모든 값을 곱해서 120을 돌려준다."
   ]
  },
  {
   "cell_type": "markdown",
   "id": "733fa5f0",
   "metadata": {},
   "source": [
    "## 키워드 파라미터\n",
    "이번에는 키워드 파라미터에 대해 알아보자. 키워드 파라미터를 사용할 때는 매개변수 앞에 별 두 개(**)를 뭍인다. 역시 이것도 예제로 알아보자. 먼저 다음과 같은 함수를 작성한다."
   ]
  },
  {
   "cell_type": "code",
   "execution_count": 25,
   "id": "505472c9",
   "metadata": {},
   "outputs": [],
   "source": [
    "def print_kwargs(**kwargs):\n",
    "    print(kwargs)"
   ]
  },
  {
   "cell_type": "markdown",
   "id": "5dec9674",
   "metadata": {},
   "source": [
    "ptint_kwargs 함수는 매개변수 kwargs를 출력하는 함수이다. 이제 함수를 다음과 같이 사용해보자."
   ]
  },
  {
   "cell_type": "code",
   "execution_count": 26,
   "id": "0234be27",
   "metadata": {},
   "outputs": [
    {
     "name": "stdout",
     "output_type": "stream",
     "text": [
      "{'a': 1}\n"
     ]
    }
   ],
   "source": [
    "print_kwargs(a=1)"
   ]
  },
  {
   "cell_type": "code",
   "execution_count": 27,
   "id": "a82947cf",
   "metadata": {},
   "outputs": [
    {
     "name": "stdout",
     "output_type": "stream",
     "text": [
      "{'name': 'foo', 'age': 3}\n"
     ]
    }
   ],
   "source": [
    "print_kwargs(name='foo', age=3)"
   ]
  },
  {
   "cell_type": "markdown",
   "id": "542f3cde",
   "metadata": {},
   "source": [
    "입력값 a=1 또는 name='foo', age=3이 모드 딕셔너리로 만들어져서 출력된다는 것을 확인할 수 있다.\n",
    "즉 **kwargs처럼 매개변수 이름 앞에 **을 붙이면 매개변수 kwargs는 딕셔너리가 되고 모든 key=value형태의 결괏값이 그 딕셔너리에 저장된다."
   ]
  },
  {
   "cell_type": "markdown",
   "id": "2ccb5100",
   "metadata": {},
   "source": [
    "## 함수의 결괏값은 언제나 하나이다.\n",
    "먼저 다음 함수를 만들어 보자."
   ]
  },
  {
   "cell_type": "code",
   "execution_count": 28,
   "id": "068325d4",
   "metadata": {},
   "outputs": [],
   "source": [
    "def add_and_mul(a,b):\n",
    "    return (a+b, a*b)"
   ]
  },
  {
   "cell_type": "markdown",
   "id": "3189a83c",
   "metadata": {},
   "source": [
    "이함수를 다음과 같이 호출하면 어떻게 될까?"
   ]
  },
  {
   "cell_type": "code",
   "execution_count": 29,
   "id": "161e4d44",
   "metadata": {},
   "outputs": [],
   "source": [
    "result = add_and_mul(3,4)"
   ]
  },
  {
   "cell_type": "markdown",
   "id": "3ee977ac",
   "metadata": {},
   "source": [
    "결괏값은 a+b와 a*b 2개인데 결괏값을 받아들이는 변수는 result 하나만 쓰였으니 오류가 발생하지 않을까? 당연한 의문이다. 하지만 오류는 발생하지 않는다. 그 이유는 함수의 결괏값은 2개가 아니라 언제나 1개라는 데 있다. add_and_mul 함수의 결괏값 a+b, a*b는 튜플값 하나인 (a+b,a*b)로 돌려준다.\n"
   ]
  },
  {
   "cell_type": "markdown",
   "id": "3c7c26ee",
   "metadata": {},
   "source": [
    "따라서 result변수는 다음과 같은 값을 갖게 된다.<br> result = (7,12)<br> 즉 결과값으로 (7,12)라는 튜플 값을 갖게 되는 것이다."
   ]
  },
  {
   "cell_type": "markdown",
   "id": "2c41b3b3",
   "metadata": {},
   "source": [
    "만약 이하나의 튜플 값을 2개의 결괏값처럼 받고 싶다면 다음과 같이 함수를 호출하면 된다."
   ]
  },
  {
   "cell_type": "code",
   "execution_count": 30,
   "id": "bc111705",
   "metadata": {},
   "outputs": [],
   "source": [
    "sesult1,sesult2 =add_and_mul(3,4)"
   ]
  },
  {
   "cell_type": "raw",
   "id": "7b21dcb9",
   "metadata": {},
   "source": [
    "이렇게 호출하면 sesult1,sesult2=(7,12)가 되어 sesult1은 7이 되고 sesult2는 12가 된다."
   ]
  },
  {
   "cell_type": "markdown",
   "id": "edc30896",
   "metadata": {},
   "source": [
    "또 다음과 같은 의문이 생길 수도 있다."
   ]
  },
  {
   "cell_type": "code",
   "execution_count": 31,
   "id": "3d1c4664",
   "metadata": {},
   "outputs": [],
   "source": [
    "def add_and_mul(a,b):\n",
    "    return a+b\n",
    "    return a*b"
   ]
  },
  {
   "cell_type": "markdown",
   "id": "1e0bf008",
   "metadata": {},
   "source": [
    "위와 같이 return문을 2번 사용하면 2개의 결괏값을 돌려주지 않을까? 하지만 파이썬에서 위와 같은 함수는 참 어리석은 함수이다."
   ]
  },
  {
   "cell_type": "markdown",
   "id": "380d0cba",
   "metadata": {},
   "source": [
    "그 이유는 add_and_mul 함수를 호출해 보면 알수 있다."
   ]
  },
  {
   "cell_type": "code",
   "execution_count": 32,
   "id": "9b294f0a",
   "metadata": {},
   "outputs": [
    {
     "name": "stdout",
     "output_type": "stream",
     "text": [
      "5\n"
     ]
    }
   ],
   "source": [
    "result = add_and_mul(2,3)\n",
    "print(result)"
   ]
  },
  {
   "cell_type": "markdown",
   "id": "3e867180",
   "metadata": {},
   "source": [
    "이 예에서 볼 수 있듯이 두 번째 return문인 return a*b는 실행되지 않았다. 따라서 함수는 다음과 완전히 동일하다."
   ]
  },
  {
   "cell_type": "code",
   "execution_count": 33,
   "id": "307fff01",
   "metadata": {},
   "outputs": [],
   "source": [
    "def  add_and_mul(a,b):\n",
    "    return a+b"
   ]
  },
  {
   "cell_type": "markdown",
   "id": "51248a4c",
   "metadata": {},
   "source": [
    "즉 함수는 return문을 만나는 순간 결과값을 돌려준 다음 함수를 빠져나가게 된다."
   ]
  },
  {
   "cell_type": "markdown",
   "id": "db6f0bc5",
   "metadata": {},
   "source": [
    "## return의 또 다른 쓰임새\n",
    "특별한 상황일 때 함수를 빠져나가고 싶다면 return을 단독으로 써서 함수를 즉시 빠져나갈 수 있다. 다음 예를 보자"
   ]
  },
  {
   "cell_type": "code",
   "execution_count": 34,
   "id": "b7fc4825",
   "metadata": {},
   "outputs": [],
   "source": [
    "def say_nick(nick):\n",
    "    if nick == \"바보\":\n",
    "        return\n",
    "    print(\"나의 별명은 %s입니다.\"%nick)"
   ]
  },
  {
   "cell_type": "markdown",
   "id": "97704005",
   "metadata": {},
   "source": [
    "위 함수는'별명'을 입력으로 전달받아 출력하는 함수이다. 이 함수 역시 반환 값(결괏값)은 없다.(문자열을 출력한다는 것과 반환 값이 있다는 것은 전혀 다른 말이다. 혼동하지 말자. 함수의 반환 값은 오로지 return문에 의해서만 생성된다).<br>만약에 입력값으로'바보'라는 값이 들어오면 문자열을 출력하지 않고 함수를 즉시 빠져나간다."
   ]
  },
  {
   "cell_type": "code",
   "execution_count": 35,
   "id": "3b72411d",
   "metadata": {},
   "outputs": [
    {
     "name": "stdout",
     "output_type": "stream",
     "text": [
      "나의 별명은 야호입니다.\n"
     ]
    }
   ],
   "source": [
    "say_nick('야호')"
   ]
  },
  {
   "cell_type": "code",
   "execution_count": 36,
   "id": "8588e51b",
   "metadata": {},
   "outputs": [],
   "source": [
    "say_nick('바보')"
   ]
  },
  {
   "cell_type": "markdown",
   "id": "eeb3058f",
   "metadata": {},
   "source": [
    "이처럼 return으로 함수를 빠져나가는 방법은 실제 프로그래밍에서 자주 사용한다."
   ]
  },
  {
   "cell_type": "markdown",
   "id": "41c98ebe",
   "metadata": {},
   "source": [
    "## 매개변수에 초깃값 미리 설정하기\n",
    "이번에는 조금 다른 형태로 함수의 인수를 전달하는 방법에 대해서 알아보자. 매개변수에 초깃값을 미리 설정해 주는 경우이다."
   ]
  },
  {
   "cell_type": "code",
   "execution_count": 37,
   "id": "46abfd33",
   "metadata": {},
   "outputs": [],
   "source": [
    "def say_myself(name,old,man=True):\n",
    "    print(\"나의 이름은 %s입니다.\"% name)\n",
    "    print(\"나이는 %d살입니다.\"% old)\n",
    "    if man:\n",
    "        print(\"남자입니다.\")\n",
    "    else:\n",
    "        print(\"여자입니다.\")"
   ]
  },
  {
   "cell_type": "markdown",
   "id": "44de672e",
   "metadata": {},
   "source": [
    "위 함수를 보면 매개변수가 name, old, man=True 이렇게 3개다. 그런데 낯선 것이 나왔다. man=True처럼 매개변수에 미리 값을 넣어 준 것이다. 이것이 바로 함수의 매개변수 초기값을 설정하는 방법이다. 함수의 매개변수에 들어갈 값이 항상 변하는 것이 아닐 경우에는 이렇게 함수의 초깃값을 미리 설정해 두면 유용하다."
   ]
  },
  {
   "cell_type": "code",
   "execution_count": 38,
   "id": "74e60358",
   "metadata": {},
   "outputs": [
    {
     "name": "stdout",
     "output_type": "stream",
     "text": [
      "나의 이름은 박응용입니다.\n",
      "나이는 27살입니다.\n",
      "남자입니다.\n"
     ]
    }
   ],
   "source": [
    "say_myself(\"박응용\",27)"
   ]
  },
  {
   "cell_type": "code",
   "execution_count": 39,
   "id": "c7fc2b21",
   "metadata": {},
   "outputs": [
    {
     "name": "stdout",
     "output_type": "stream",
     "text": [
      "나의 이름은 박응용입니다.\n",
      "나이는 27살입니다.\n",
      "남자입니다.\n"
     ]
    }
   ],
   "source": [
    "say_myself(\"박응용\",27, True)"
   ]
  },
  {
   "cell_type": "markdown",
   "id": "7a57519f",
   "metadata": {},
   "source": [
    "입력값으로\"박응용\",27처럼 2개를 주면 name에는 \"박응용\"이 old에는 27이 대입된다. 그리고 man이라는 변수에는 입력값을 주지 않았지만 초깃값 True를 갖게 된다.<br>따라서 위 예에서 함수를 사용한 2가지 방법은 모두 동일한 결과를 출력한다.<br>이제 초깃값이 설정된 부분을 False로 바꿔보자."
   ]
  },
  {
   "cell_type": "code",
   "execution_count": 42,
   "id": "b56572a7",
   "metadata": {},
   "outputs": [
    {
     "name": "stdout",
     "output_type": "stream",
     "text": [
      "나의 이름은 박응선입니다.\n",
      "나이는 27살입니다.\n",
      "여자입니다.\n"
     ]
    }
   ],
   "source": [
    "say_myself(\"박응선\", 27, False)"
   ]
  },
  {
   "cell_type": "markdown",
   "id": "a0380334",
   "metadata": {},
   "source": [
    "man 변수에 False 값이 대입되어 위와 같은 결과가 출력된다."
   ]
  },
  {
   "cell_type": "markdown",
   "id": "650d689e",
   "metadata": {},
   "source": [
    "함수의 매개변수에 초깃값을 설정할 때 주의할 것이 하나 있다. 만약 위에서 본 say_myself함수를 다음과 같이 만들면 어떻게 될까?"
   ]
  },
  {
   "cell_type": "code",
   "execution_count": 44,
   "id": "129b5d43",
   "metadata": {},
   "outputs": [
    {
     "ename": "SyntaxError",
     "evalue": "non-default argument follows default argument (<ipython-input-44-e9fb4d1197a5>, line 1)",
     "output_type": "error",
     "traceback": [
      "\u001b[0;36m  File \u001b[0;32m\"<ipython-input-44-e9fb4d1197a5>\"\u001b[0;36m, line \u001b[0;32m1\u001b[0m\n\u001b[0;31m    def say_myself(name,man=True, old):\u001b[0m\n\u001b[0m                   ^\u001b[0m\n\u001b[0;31mSyntaxError\u001b[0m\u001b[0;31m:\u001b[0m non-default argument follows default argument\n"
     ]
    }
   ],
   "source": [
    "def say_myself(name,man=True, old):\n",
    "    print(\"나의 이름은 %s입니다.\"% name)\n",
    "    print(\"나이는 %d살입니다.\"% old)\n",
    "    if man:\n",
    "        print(\"남자입니다.\")\n",
    "    else:\n",
    "        print(\"여자입니다.\")"
   ]
  },
  {
   "cell_type": "markdown",
   "id": "f27f5118",
   "metadata": {},
   "source": [
    "이전 함수와 바뀐 부분은 초깃값을 설정한 매개변수의 위치이다. 결론을 미리 말하면 이것은 함수를 실행할 때 오류가 발생한다.<br>얼핏 생각하기에 위 함수를 호출하려면 다음과 같이 하면 될 것 같다."
   ]
  },
  {
   "cell_type": "markdown",
   "id": "e7ab4664",
   "metadata": {},
   "source": [
    "say_myself(\"박응용\", 27)"
   ]
  },
  {
   "cell_type": "markdown",
   "id": "968939f6",
   "metadata": {},
   "source": [
    "위와 같이 함수를 호출한다면 name 변수에는 \"박응용\"이 들어갈 것이다. 하지만 파이썬 인터프리터는 27을 man변수와 old변수중 어느 곳에 대입해야 할지 알수 없게 된다."
   ]
  },
  {
   "cell_type": "markdown",
   "id": "d97cfd79",
   "metadata": {},
   "source": [
    "위 오류 메시지는 초깃값을 설정해 놓은 매개변수 뒤에 초깃값을 설정해 놓지 않은 매개변수는 사용할 수 없다는 뜻이다. 즉 매개변수로 (name, old, man=True)는 되지만 (name, man=True, old)는 안된다는 것이다. 초기화시키고 싶은 매개변수를 항상 뒤쪽에 놓는 것을 잊지 말자."
   ]
  },
  {
   "cell_type": "markdown",
   "id": "e4a9bb30",
   "metadata": {},
   "source": [
    "## 함수 안에서 선언한 변수의 효력 범위\n",
    "함수 안에서 사용할 변수의 이름을 함수 밖에서도 동일하게 사용한다면 어떻게 될까? 이런 궁금증이 생겼던 독자라면 이번에 확실하게 답을 찾을 수 있을 것이다.<br> 다음 예를 보자."
   ]
  },
  {
   "cell_type": "code",
   "execution_count": 45,
   "id": "e9f00704",
   "metadata": {},
   "outputs": [
    {
     "name": "stdout",
     "output_type": "stream",
     "text": [
      "1\n"
     ]
    }
   ],
   "source": [
    "# vartest.py\n",
    "a=1\n",
    "def vartest(a):\n",
    "    a=a+1\n",
    "    \n",
    "vartest(a)\n",
    "print(a)"
   ]
  },
  {
   "cell_type": "markdown",
   "id": "4657499b",
   "metadata": {},
   "source": [
    "먼저 a라는 변수를 생성하고 1을 대입한다. 다음 입력으로 들어온 값에 1을 더해 주고 결괏값은 돌려주지 않는 vartest 함수를 선언한다. 그리고 vartest 함수에 입력값으로 a를 주었다. 마지막으로 a의 값을 출력하는 print(a)를 입력한다. 과연 결괏값은 무엇이 나올까?"
   ]
  },
  {
   "cell_type": "markdown",
   "id": "b332fe1c",
   "metadata": {},
   "source": [
    "당연히 vartest 함수에서 매개변수 a의 값에 1을 더했으니까 2가 출력될 것 같지만 프로그램소스를 작성해서 실행해 보면 결괏값은 1이 나온다. 그 이유는 함수 안에서 새로 만든 매개변수는 함수 안에서만 사용하는 '함수만의 변수'이기 때문이다. 즉 def vartest(a)에서 입력값을 전달받는 매개변수 a는 함수 안에서만 사용하는 변수이지 함수 밖의 변수a가 아니라는 뜻이다"
   ]
  },
  {
   "cell_type": "markdown",
   "id": "1b8abfd4",
   "metadata": {},
   "source": [
    "따라서 vartest 함수는 다음처럼 변수 이름을 hello로 한 vartest함수와 완전히 동일하다."
   ]
  },
  {
   "cell_type": "code",
   "execution_count": 46,
   "id": "b4d2fb2e",
   "metadata": {},
   "outputs": [],
   "source": [
    "def vartest(hello):\n",
    "    hello=hello+1"
   ]
  },
  {
   "cell_type": "markdown",
   "id": "0ada7daf",
   "metadata": {},
   "source": [
    "즉 함수 안에서 사용하는 매개변수는 함수 밖의 변수 이름과는 전혀 상관이 없다는 뜻이다."
   ]
  },
  {
   "cell_type": "markdown",
   "id": "151b4e56",
   "metadata": {},
   "source": [
    "다음 예를 보면 더욱 분명하게 이해할 수 있을 것이다."
   ]
  },
  {
   "cell_type": "code",
   "execution_count": 47,
   "id": "80d22ac6",
   "metadata": {},
   "outputs": [
    {
     "ename": "NameError",
     "evalue": "name 'vartset' is not defined",
     "output_type": "error",
     "traceback": [
      "\u001b[0;31m---------------------------------------------------------------------------\u001b[0m",
      "\u001b[0;31mNameError\u001b[0m                                 Traceback (most recent call last)",
      "\u001b[0;32m<ipython-input-47-c64abf76b9a8>\u001b[0m in \u001b[0;36m<module>\u001b[0;34m\u001b[0m\n\u001b[1;32m      3\u001b[0m     \u001b[0ma\u001b[0m\u001b[0;34m=\u001b[0m\u001b[0ma\u001b[0m\u001b[0;34m+\u001b[0m\u001b[0;36m1\u001b[0m\u001b[0;34m\u001b[0m\u001b[0;34m\u001b[0m\u001b[0m\n\u001b[1;32m      4\u001b[0m \u001b[0;34m\u001b[0m\u001b[0m\n\u001b[0;32m----> 5\u001b[0;31m \u001b[0mvartset\u001b[0m\u001b[0;34m(\u001b[0m\u001b[0;36m3\u001b[0m\u001b[0;34m)\u001b[0m\u001b[0;34m\u001b[0m\u001b[0;34m\u001b[0m\u001b[0m\n\u001b[0m\u001b[1;32m      6\u001b[0m \u001b[0mprint\u001b[0m\u001b[0;34m(\u001b[0m\u001b[0ma\u001b[0m\u001b[0;34m)\u001b[0m\u001b[0;34m\u001b[0m\u001b[0;34m\u001b[0m\u001b[0m\n",
      "\u001b[0;31mNameError\u001b[0m: name 'vartset' is not defined"
     ]
    }
   ],
   "source": [
    "# vartert_error.py\n",
    "def vartest(a):\n",
    "    a=a+1\n",
    "    \n",
    "vartset(3)\n",
    "print(a)"
   ]
  },
  {
   "cell_type": "markdown",
   "id": "c5405606",
   "metadata": {},
   "source": [
    "위 프로그램 소스를 에디터로 작성해서 실행하면 어떻게 될까? 오류가 발생할 것이라고 생각한 독자는 모든 것을 이해한 독자이다. vartest(3)을 수행하면 vartest함수 안에서 a는 4가 되지만 함수를 호출하고 난 뒤에 print(a) 문장은 오류가 발생하게 된다. 그이유는 print(a)에서 입력받아야 하는 a 변수를 어디에서도 찾을 수가 없기 때문이다. 다시 말하지만 함수 안에서 선언한 매개변수는 함수 안에서만 사용될 뿐 함수 밖에서는 사용되지 않는다. 이것을 이해하는 것은 매우 중요하다."
   ]
  },
  {
   "cell_type": "markdown",
   "id": "f843393c",
   "metadata": {},
   "source": [
    "## 함수 안에서 함수 밖의 변수를 병경하는 방법\n",
    "그렇다면 vartest라는 함수를 사용해서 함수 밖의 변수 a를 1만큼 증가시킬 수 있는 방법은 없을까? 이 질문에는 2가지 해결 방법이 있다."
   ]
  },
  {
   "cell_type": "markdown",
   "id": "829d0320",
   "metadata": {},
   "source": [
    "### 1. return 사용하기"
   ]
  },
  {
   "cell_type": "code",
   "execution_count": 48,
   "id": "6a9b831f",
   "metadata": {},
   "outputs": [
    {
     "name": "stdout",
     "output_type": "stream",
     "text": [
      "2\n"
     ]
    }
   ],
   "source": [
    "# vartest_return.py\n",
    "a=1\n",
    "def vartest(a):\n",
    "    a=a+1\n",
    "    return a\n",
    "    \n",
    "a= vartest(a)\n",
    "print(a)"
   ]
  },
  {
   "cell_type": "markdown",
   "id": "3cb8b24b",
   "metadata": {},
   "source": [
    "첫 번째 방법은 return을 사용하는 방법이다. vartest 함수는 입력으로 들어온 값에 1을 더한 값을 돌려준다. 따라서 a=vartest(a)라고 대입하면 a가 vartest함수의 결과값으로 바뀐다. 여기에서도 물론 vartest 함수 안의  a매개변수는 함수 밖의 a와는 다른 것이다."
   ]
  },
  {
   "cell_type": "markdown",
   "id": "74549182",
   "metadata": {},
   "source": [
    "### 2. glo 명령어 사용하기"
   ]
  },
  {
   "cell_type": "code",
   "execution_count": 49,
   "id": "909039c8",
   "metadata": {},
   "outputs": [
    {
     "name": "stdout",
     "output_type": "stream",
     "text": [
      "2\n"
     ]
    }
   ],
   "source": [
    "# vartest_global.py\n",
    "a=1\n",
    "def vartest():\n",
    "    global a\n",
    "    a=a+1\n",
    "    \n",
    "vartest()\n",
    "print(a)"
   ]
  },
  {
   "cell_type": "markdown",
   "id": "ffef1b5e",
   "metadata": {},
   "source": [
    "두 번째 방법은 global 명령어를 사용하는 방법이다. 위 예에서 볼 수 있듯이 vartest 함수 안의 globla a 문장은 함수 안에서 함수 밖의 a 변수를 직접 사용하겠다는 뜻이다. 하지만 프로그래밍을 할 때 global 명령어는 사용하지 않는 것이 좋다. 왜냐하면 삼수는 독립적으로 존재하는 것이 좋기 때문이다. 외부 변수에 종속적인 함수는 그다지 좋은 함수가 아니다. 그러므로 가급적 global 명령어를 사용하는 이 방법은 피하고 첫 번째 방법을 사용하기를 권한다."
   ]
  },
  {
   "cell_type": "markdown",
   "id": "a3c83138",
   "metadata": {},
   "source": [
    "## lambda\n",
    "lambda는 함수를 생성할 때 사용하는 예약어로 def와 동일한 역할을 한다. 보통 함수를 한줄로 간결하게 만들 때 사용한다. 우리말로는'람다'라고 읽고 def를 사용해야 할 정도로 복작하지 않거나 def를 사용할 수 없는 곳에 주로 쓰인다."
   ]
  },
  {
   "cell_type": "markdown",
   "id": "08dbf853",
   "metadata": {},
   "source": [
    "사용법은 다음과 같다."
   ]
  },
  {
   "cell_type": "markdown",
   "id": "97d39b56",
   "metadata": {},
   "source": [
    "lambda 매개변수1,매개변수2,...:매개변수를 사용한 표현식"
   ]
  },
  {
   "cell_type": "markdown",
   "id": "d12fec52",
   "metadata": {},
   "source": [
    "한번 직접 만들어 보자."
   ]
  },
  {
   "cell_type": "code",
   "execution_count": 50,
   "id": "0e1d3c84",
   "metadata": {},
   "outputs": [
    {
     "name": "stdout",
     "output_type": "stream",
     "text": [
      "7\n"
     ]
    }
   ],
   "source": [
    "add=lambda a, b: a+b\n",
    "result=add(3,4)\n",
    "print(result)"
   ]
  },
  {
   "cell_type": "markdown",
   "id": "5e46728d",
   "metadata": {},
   "source": [
    "add는 두개의 인수를 받아 서로 더한 값을 돌려주는 lambda함수이다. 위 예제는 def를 사용한 다음 함수와 하는 일이 완정히 동일하다."
   ]
  },
  {
   "cell_type": "code",
   "execution_count": 51,
   "id": "5f2855a4",
   "metadata": {},
   "outputs": [
    {
     "name": "stdout",
     "output_type": "stream",
     "text": [
      "7\n"
     ]
    }
   ],
   "source": [
    "def add(a,b):\n",
    "    return a+b\n",
    "result=add(3,4)\n",
    "print(result)"
   ]
  },
  {
   "cell_type": "markdown",
   "id": "b77f0311",
   "metadata": {},
   "source": [
    "# 04-2 사용사 입력과 출력\n",
    "우리들이 사용하는 대부분의 완성된 프로그램은 사용자 입력에 따라 그에 맞는 출력을 내보낸다. 대표적인 예로 게시판에 글을 작석한 후'확인'버튼을 눌려야만(입력)우리가 작성한 글이 게시판에 올라가는(출력)것을 들 수 있다.<br>\n",
    "우리는 이미 함수 부분에서 입력과 출력이 어떤 의미를 가지는지 알아보았다. 지금부터는 좀더 다양하게 사용자의 입력을 받는 방법과 출력하는 방법을 알아보자.<br>\n",
    "## 사용자 입력 \n",
    "사용자가 입력한 값을 어떤 변수에 대입하고 싶을 때는 어떻게 해야 할까?\n",
    "### input의 사용"
   ]
  },
  {
   "cell_type": "code",
   "execution_count": 53,
   "id": "a8c3d3b7",
   "metadata": {},
   "outputs": [
    {
     "name": "stdout",
     "output_type": "stream",
     "text": [
      "Life is too short, you need pythone\n"
     ]
    }
   ],
   "source": [
    "a = input()"
   ]
  },
  {
   "cell_type": "code",
   "execution_count": 54,
   "id": "fe6b9baa",
   "metadata": {},
   "outputs": [
    {
     "data": {
      "text/plain": [
       "'Life is too short, you need pythone'"
      ]
     },
     "execution_count": 54,
     "metadata": {},
     "output_type": "execute_result"
    }
   ],
   "source": [
    "a"
   ]
  },
  {
   "cell_type": "markdown",
   "id": "c6bc8937",
   "metadata": {},
   "source": [
    "input은 입력되는 모든 것을 문자열로 취급한다.\n",
    "### 프롬프트 값을 띄워서 사용자 입력받기\n",
    "사용자에게 입력받을 때'숫자를 입력하세요'라든지'이름을 입력하세요'라는 안내 문구 또는 질문이 나오도록 하고 싶을 때가 있다. 그럴 때는 input()의 괄호 안에 질문을 입력하여 프롬프트를 띄워주면된다.<br>\n",
    "input(\"질문 내용\")<br>\n",
    "다음 예를 직접 입력해 보자."
   ]
  },
  {
   "cell_type": "code",
   "execution_count": 55,
   "id": "e8ddb98e",
   "metadata": {},
   "outputs": [
    {
     "name": "stdout",
     "output_type": "stream",
     "text": [
      "숫자를 입력하세요:\n"
     ]
    }
   ],
   "source": [
    "number = input(\"숫자를 입력하세요:\")"
   ]
  },
  {
   "cell_type": "markdown",
   "id": "428d4875",
   "metadata": {},
   "source": [
    "위와 같은 질문을 볼 수 있을 것이다.<br>\n",
    "숫자를 입력하라는 프롬프트에 3을 입력하면 변수 number에 3이 대입된다. print(number)로 출력해서 제대로 입력되었는지 확인해 보자."
   ]
  },
  {
   "cell_type": "code",
   "execution_count": 56,
   "id": "06bb35fb",
   "metadata": {},
   "outputs": [
    {
     "name": "stdout",
     "output_type": "stream",
     "text": [
      "숫자를 입력하세요:3\n"
     ]
    }
   ],
   "source": [
    "number = input(\"숫자를 입력하세요:\")"
   ]
  },
  {
   "cell_type": "code",
   "execution_count": 57,
   "id": "1b8446d9",
   "metadata": {},
   "outputs": [
    {
     "name": "stdout",
     "output_type": "stream",
     "text": [
      "3\n"
     ]
    }
   ],
   "source": [
    "print(number)"
   ]
  },
  {
   "cell_type": "markdown",
   "id": "b9088416",
   "metadata": {},
   "source": [
    "## print 자세히 알기\n",
    "지금껏 print문이 수행해 온 일은 우리가 입력한 자료형을 출력하는 것이었다. print의 사용예는 다음과 같다."
   ]
  },
  {
   "cell_type": "code",
   "execution_count": 58,
   "id": "7912bb90",
   "metadata": {},
   "outputs": [
    {
     "name": "stdout",
     "output_type": "stream",
     "text": [
      "123\n"
     ]
    }
   ],
   "source": [
    "a =123\n",
    "print(a)"
   ]
  },
  {
   "cell_type": "code",
   "execution_count": 59,
   "id": "49ddec1f",
   "metadata": {},
   "outputs": [
    {
     "name": "stdout",
     "output_type": "stream",
     "text": [
      "Python\n"
     ]
    }
   ],
   "source": [
    "a = \"Python\"\n",
    "print(a)"
   ]
  },
  {
   "cell_type": "code",
   "execution_count": 60,
   "id": "aa9dec4a",
   "metadata": {},
   "outputs": [
    {
     "name": "stdout",
     "output_type": "stream",
     "text": [
      "[1, 2, 3]\n"
     ]
    }
   ],
   "source": [
    "a = [1,2,3]\n",
    "print(a)"
   ]
  },
  {
   "cell_type": "markdown",
   "id": "adec313b",
   "metadata": {},
   "source": [
    "이제 print문으로 할 수 있는 일에 대해서 조금 더 자세하게 알아보자.\n",
    "### 큰따옴표(\")로 둘러싸인 문자열은 + 연산과 동일하다."
   ]
  },
  {
   "cell_type": "code",
   "execution_count": 61,
   "id": "f24ed695",
   "metadata": {},
   "outputs": [
    {
     "name": "stdout",
     "output_type": "stream",
     "text": [
      "Lifeistooshort\n"
     ]
    }
   ],
   "source": [
    "print(\"Life\"\"is\"\"too\" \"short\")"
   ]
  },
  {
   "cell_type": "code",
   "execution_count": 62,
   "id": "50e500d4",
   "metadata": {},
   "outputs": [
    {
     "name": "stdout",
     "output_type": "stream",
     "text": [
      "Lifeistoo short\n"
     ]
    }
   ],
   "source": [
    "print(\"Life\"+\"is\"+\"too short\")"
   ]
  },
  {
   "cell_type": "markdown",
   "id": "cf985272",
   "metadata": {},
   "source": [
    "위 예에서 (1)과 (2)는 완전히 동일한 결괏값을 출력한다. 즉 따옴표로 둘러싸인 문자열을 연속해서 쓰면 + 연산을 한 것과 같다.<br>\n",
    "### 문자열 띄어쓰기 콤바로 한다."
   ]
  },
  {
   "cell_type": "code",
   "execution_count": 64,
   "id": "db7e47f4",
   "metadata": {},
   "outputs": [
    {
     "name": "stdout",
     "output_type": "stream",
     "text": [
      "Lifs is too short\n"
     ]
    }
   ],
   "source": [
    "print(\"Lifs\",\"is\",\"too short\")"
   ]
  },
  {
   "cell_type": "markdown",
   "id": "15e6bd04",
   "metadata": {},
   "source": [
    "콤마(,)를 사용하면 문자열 사이에 띄어쓰기를 할 수 있다.\n",
    "#### 한 줄에 결괏값을 출력하기\n",
    "03-3에서 for문을 배울 때 만들었던 구구단 프로그램에서 보았듯이 한 줄에 결괏값을 계속 이어서 출력하려면 매개변수 end를 사용해 끝 문자를 지정해야 한다."
   ]
  },
  {
   "cell_type": "code",
   "execution_count": 67,
   "id": "dc458c39",
   "metadata": {},
   "outputs": [
    {
     "name": "stdout",
     "output_type": "stream",
     "text": [
      "0123456789"
     ]
    }
   ],
   "source": [
    "for i in range(10):\n",
    "    print(i, end='')"
   ]
  },
  {
   "cell_type": "markdown",
   "id": "687923f3",
   "metadata": {},
   "source": [
    "# 04-3 파일 읽고 쓰기\n",
    "우리는 이책에서 이제까지 값을 '입력'받을 때는 사용자가 직접 입력하는 방식을 사용했고'출력'할 때는 모니터 화면에 결괏값을 출력하는 방식으로 프로그래밍해 왔다. 하지만 입출력 방법이 꼭 이것만 있는 것은 아니다. 이번에는 파일을 통한 입출력 방법에 대해 알아보자. 여기에서는 파일을 새로 만든 다음 프로그램이 만든 결괏값을 새 파일에 적어볼 것이다. 또 파일에 적은 내용을 읽고, 새로운 내용을 추가하는 방법도 알아볼 것이다."
   ]
  },
  {
   "cell_type": "markdown",
   "id": "b982901d",
   "metadata": {},
   "source": [
    "## 파일 생성하기\n",
    "다음 소스 코드를 에디터로 작성해서 저장한 후 실행해 보자. 프로그램을 실행한 디렉터리에 새로운 파일이 하나 생성된 것을 확인할 수 있을 것이다"
   ]
  },
  {
   "cell_type": "code",
   "execution_count": 90,
   "id": "f08b2a3e",
   "metadata": {},
   "outputs": [
    {
     "ename": "FileNotFoundError",
     "evalue": "[Errno 2] No such file or directory: '/do_it_python/새파일.txt'",
     "output_type": "error",
     "traceback": [
      "\u001b[0;31m---------------------------------------------------------------------------\u001b[0m",
      "\u001b[0;31mFileNotFoundError\u001b[0m                         Traceback (most recent call last)",
      "\u001b[0;32m<ipython-input-90-f8e7dae0a79b>\u001b[0m in \u001b[0;36m<module>\u001b[0;34m\u001b[0m\n\u001b[0;32m----> 1\u001b[0;31m \u001b[0mf\u001b[0m \u001b[0;34m=\u001b[0m \u001b[0mopen\u001b[0m\u001b[0;34m(\u001b[0m\u001b[0;34m\"/do_it_python/새파일.txt\"\u001b[0m\u001b[0;34m,\u001b[0m \u001b[0;34m'w'\u001b[0m\u001b[0;34m)\u001b[0m\u001b[0;34m\u001b[0m\u001b[0;34m\u001b[0m\u001b[0m\n\u001b[0m\u001b[1;32m      2\u001b[0m \u001b[0mf\u001b[0m\u001b[0;34m.\u001b[0m\u001b[0mclose\u001b[0m\u001b[0;34m(\u001b[0m\u001b[0;34m)\u001b[0m\u001b[0;34m\u001b[0m\u001b[0;34m\u001b[0m\u001b[0m\n",
      "\u001b[0;31mFileNotFoundError\u001b[0m: [Errno 2] No such file or directory: '/do_it_python/새파일.txt'"
     ]
    }
   ],
   "source": [
    "f = open(\"/do_it_python/새파일.txt\", 'w')\n",
    "f.close()"
   ]
  },
  {
   "cell_type": "code",
   "execution_count": 87,
   "id": "1994b33b",
   "metadata": {},
   "outputs": [
    {
     "data": {
      "text/plain": [
       "'/home/dmlrkd67/python_study/do_it_python'"
      ]
     },
     "execution_count": 87,
     "metadata": {},
     "output_type": "execute_result"
    }
   ],
   "source": [
    "pwd"
   ]
  },
  {
   "cell_type": "markdown",
   "id": "4a1c68da",
   "metadata": {},
   "source": [
    "파일을 생성하기 위해 우리는 파이썬 내장 함수 open을 사용했다. open함수는 다음과 같이'파일 이름'과 '파일 열기 모드'를 입력값으로 받고 결괏값으로 파일 객체를 돌려준다.<br>\n",
    "파일 객체 = open(파일 이름, 파일 열기 모드)<br>\n",
    "파일 열기 모드에는 다음과 같은 것이 있다.\n",
    "- 파일 열기 모드 : 설명\n",
    "- r : 읽기모드-파일을 읽기만 할 때 사용\n",
    "- w : 쓰기모드 = 파일에 내용을 쓸 때 사용\n",
    "- a : 추가 모드 - 파일의 마지막에 새로운 내용을 추가할 때 사용 \n",
    "\n",
    "파일을 쓰기 모드로 열면 해당 파일이 이미 존재할 경우 원래 있던 내용이 모두 사라지고, 해당 파일이 존재하지 않으면 새로운 파일이 생성된다. 위 예에서는 디렉터리에 파일이 없는 상태에서 새파일.txt를 쓰기 모드인'w'로 열었기 때문에 새파일.txt라는 이름의 새로운 파일이 현재 디렉터리에 생성되는 것이다.<br>\n",
    "만약 새파일.txt파일을 C:/doit 디렉터리에 생서하고 싶다면 다음과 같이 작성해야 한다."
   ]
  },
  {
   "cell_type": "markdown",
   "id": "e57d6469",
   "metadata": {},
   "source": [
    "위 예에서는 f.close()는 열려 있는 파일 객체를 닫아 주는 역할을 한다. 사실 이 문장은 생략해도 된다. 프로그램을 종료할 때 파이썬 프로그램이 열려 있는 파일의 객체를 자동으로 닫아주기 때문이다. 하지만 close()를 사용해서 열려 있는 파일을 직접 닫아 주는 것이 좋다. 쓰기모드로 열었더 파일을 닫지 않고 다시 사용하려고 하면 오류가 발생하기 때문이다.\n",
    "## 파일을 쓰기 모드로 열어 출력값 적기\n",
    "위 예에서는 파일을 쓰기 모드로 열기만 했지 정작 아무것도 쓰지는 않았다. 이번에는 에디터를 열고 프로그램의 출력값을 파일에 직접 써보자."
   ]
  },
  {
   "cell_type": "code",
   "execution_count": 70,
   "id": "6074e562",
   "metadata": {},
   "outputs": [
    {
     "data": {
      "text/plain": [
       "<function TextIOWrapper.close()>"
      ]
     },
     "execution_count": 70,
     "metadata": {},
     "output_type": "execute_result"
    }
   ],
   "source": [
    "# writedata.py\n",
    "f = open(\"새파일.txt\",'w')\n",
    "for i in range(1,11):\n",
    "    data = \"%d번째 줄입니다.\\n\" % i\n",
    "    f.write(data)\n",
    "f.close"
   ]
  },
  {
   "cell_type": "markdown",
   "id": "aa242a3d",
   "metadata": {},
   "source": [
    "위 프로그램을 다음 프로그램과 비교해보자."
   ]
  },
  {
   "cell_type": "code",
   "execution_count": 71,
   "id": "b0f5653f",
   "metadata": {},
   "outputs": [
    {
     "name": "stdout",
     "output_type": "stream",
     "text": [
      "1번째 줄입니다.\n",
      "\n",
      "2번째 줄입니다.\n",
      "\n",
      "3번째 줄입니다.\n",
      "\n",
      "4번째 줄입니다.\n",
      "\n",
      "5번째 줄입니다.\n",
      "\n",
      "6번째 줄입니다.\n",
      "\n",
      "7번째 줄입니다.\n",
      "\n",
      "8번째 줄입니다.\n",
      "\n",
      "9번째 줄입니다.\n",
      "\n",
      "10번째 줄입니다.\n",
      "\n"
     ]
    }
   ],
   "source": [
    "for i in range(1,11):\n",
    "    data = \"%d번째 줄입니다.\\n\" % i\n",
    "    print(data)"
   ]
  },
  {
   "cell_type": "markdown",
   "id": "9d4b2607",
   "metadata": {},
   "source": [
    "두 프로그램의 다른 점은 data를 출력하는 방법이다. 두 번째 방법은 우리가 계속 사용해 왔던 모니터 화면에 출력하는 방법이고, 첫 번째 방법은 모니터 화면 대신 파일에 결괏값을 적는 방법이다. 두 방법의 차이점은 print 대신 파일 객체 f의 write 함수를 사용한 것 말고는 없으니 바로 눈에 들어올 것이다."
   ]
  },
  {
   "cell_type": "markdown",
   "id": "725a7510",
   "metadata": {},
   "source": [
    "## 프로그램의 외부에 저장된 파일을 읽는 여러 가지 방법\n",
    "파이썬에는 외부 파일을 읽어 들여 프로그램에서 사용할 수 있는 여러 가지 방법이 있다. 이번에는 그 방법을 자세히 알아보자.\n",
    "###  readline 함수 사용하기\n",
    "첫 번째 방법은 readline 함수를 사용하는 방법이다. 다음 예를 보자."
   ]
  },
  {
   "cell_type": "code",
   "execution_count": 76,
   "id": "fd646d6b",
   "metadata": {},
   "outputs": [
    {
     "name": "stdout",
     "output_type": "stream",
     "text": [
      "\n"
     ]
    }
   ],
   "source": [
    "f = open(\"새파일.txt\",'r')\n",
    "line = f.readline()\n",
    "print(line)\n",
    "f.close()"
   ]
  },
  {
   "cell_type": "code",
   "execution_count": null,
   "id": "056e478a",
   "metadata": {},
   "outputs": [],
   "source": []
  }
 ],
 "metadata": {
  "kernelspec": {
   "display_name": "Python 3",
   "language": "python",
   "name": "python3"
  },
  "language_info": {
   "codemirror_mode": {
    "name": "ipython",
    "version": 3
   },
   "file_extension": ".py",
   "mimetype": "text/x-python",
   "name": "python",
   "nbconvert_exporter": "python",
   "pygments_lexer": "ipython3",
   "version": "3.8.8"
  }
 },
 "nbformat": 4,
 "nbformat_minor": 5
}
