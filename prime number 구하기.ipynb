{
 "cells": [
  {
   "cell_type": "markdown",
   "id": "8b3add24",
   "metadata": {},
   "source": [
    "# 1~100의 소수를 구해보자."
   ]
  },
  {
   "cell_type": "markdown",
   "id": "9d368336",
   "metadata": {},
   "source": [
    "소수란 : 소수는 1보다 큰 자연수 중 1과 자기 자신만을 약수로 가지는 수다."
   ]
  },
  {
   "cell_type": "markdown",
   "id": "4b39718d",
   "metadata": {},
   "source": [
    "나눗셈 후 나머지를 반환하는 % 연산자.<br>"
   ]
  },
  {
   "cell_type": "code",
   "execution_count": 411,
   "id": "b9c4ba17",
   "metadata": {},
   "outputs": [
    {
     "data": {
      "text/plain": [
       "1"
      ]
     },
     "execution_count": 411,
     "metadata": {},
     "output_type": "execute_result"
    }
   ],
   "source": [
    "7%3"
   ]
  },
  {
   "cell_type": "markdown",
   "id": "31ca69d4",
   "metadata": {},
   "source": [
    "7 = 3 * 2 + 1"
   ]
  },
  {
   "cell_type": "code",
   "execution_count": 412,
   "id": "1cdc6a64",
   "metadata": {},
   "outputs": [
    {
     "data": {
      "text/plain": [
       "0"
      ]
     },
     "execution_count": 412,
     "metadata": {},
     "output_type": "execute_result"
    }
   ],
   "source": [
    "7%7"
   ]
  },
  {
   "cell_type": "code",
   "execution_count": 413,
   "id": "1f754ad2",
   "metadata": {},
   "outputs": [
    {
     "data": {
      "text/plain": [
       "0"
      ]
     },
     "execution_count": 413,
     "metadata": {},
     "output_type": "execute_result"
    }
   ],
   "source": [
    "7%1"
   ]
  },
  {
   "cell_type": "markdown",
   "id": "ef851025",
   "metadata": {},
   "source": [
    "이렇게 나머지가 0 즉 소수는 약수 2개 이하인 숫자를 구할것이다."
   ]
  },
  {
   "cell_type": "markdown",
   "id": "23e5a139",
   "metadata": {},
   "source": [
    "소수 인지 아닌지 판별부터 해보자."
   ]
  },
  {
   "cell_type": "code",
   "execution_count": 414,
   "id": "9db3ccb2",
   "metadata": {},
   "outputs": [
    {
     "name": "stdout",
     "output_type": "stream",
     "text": [
      "7 를 1 나누었을때 나머지값 0\n",
      "약수의개수 1\n",
      "7 를 2 나누었을때 나머지값 1\n",
      "7 를 3 나누었을때 나머지값 1\n",
      "7 를 4 나누었을때 나머지값 3\n",
      "7 를 5 나누었을때 나머지값 2\n",
      "7 를 6 나누었을때 나머지값 1\n",
      "7 를 7 나누었을때 나머지값 0\n",
      "약수의개수 2\n",
      "소수\n"
     ]
    }
   ],
   "source": [
    "a =0\n",
    "j =7\n",
    "for i in range(1,j+1):\n",
    "    k = j%i\n",
    "    print(j,\"를\",i,\"나누었을때\",\"나머지값\",k)\n",
    "    if k== 0:\n",
    "        a=a+1\n",
    "        print(\"약수의개수\",a)\n",
    "if a ==2:\n",
    "    print(\"소수\")\n",
    "else :\n",
    "    print(\"소수가 아님\")"
   ]
  },
  {
   "cell_type": "markdown",
   "id": "46a67e56",
   "metadata": {},
   "source": [
    "이제 1부터 100까지를 판별해보자."
   ]
  },
  {
   "cell_type": "code",
   "execution_count": 50,
   "id": "ba977f64",
   "metadata": {},
   "outputs": [],
   "source": [
    "aa_list= []\n",
    "for j in range(1,100): #(1)번 for문 1부터 1씩 증가하면서 99가 될때까지 반복\n",
    "    a=0\n",
    "    for i in range(1,j+1): # (2번) for 1부터 (1)번 for문 자기 자신숫자까지.(예: 1번포문 숫자 2면 2번포문 2까지만 나누어진다.)\n",
    "        k=j%i # j를 i 나누었을떄 \n",
    "        if k == 0: # 나머지 값이 0이 되는 약수.\n",
    "            a=a+1 # 약수의 개수를 1부터 증가하며 누적 시킨다.\n",
    "    if a==2: # 약수가 2개일때.\n",
    "        aa_list.append(j) # 약수가 2개 일떄 리스트에 추가킨다."
   ]
  },
  {
   "cell_type": "code",
   "execution_count": 29,
   "id": "02d1d313",
   "metadata": {},
   "outputs": [
    {
     "name": "stdout",
     "output_type": "stream",
     "text": [
      "[2, 3, 5, 7, 11, 13, 17, 19, 23, 29, 31, 37, 41, 43, 47, 53, 59, 61, 67, 71, 73, 79, 83, 89, 97]\n"
     ]
    }
   ],
   "source": [
    "print(aa_list)"
   ]
  }
 ],
 "metadata": {
  "kernelspec": {
   "display_name": "Python 3",
   "language": "python",
   "name": "python3"
  },
  "language_info": {
   "codemirror_mode": {
    "name": "ipython",
    "version": 3
   },
   "file_extension": ".py",
   "mimetype": "text/x-python",
   "name": "python",
   "nbconvert_exporter": "python",
   "pygments_lexer": "ipython3",
   "version": "3.8.8"
  }
 },
 "nbformat": 4,
 "nbformat_minor": 5
}
