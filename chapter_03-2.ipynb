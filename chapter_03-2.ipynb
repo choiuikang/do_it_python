{
 "cells": [
  {
   "cell_type": "markdown",
   "id": "b2a1baab",
   "metadata": {},
   "source": [
    "# while문\n",
    "## while문의 기본 구조\n",
    "반복해서 문장을 수행해야 할 경우 while문을 사용한다. 그래서 while문을 반복문이라고도 부른다.<br>다음은 while문의 기본 구조이다."
   ]
  },
  {
   "cell_type": "markdown",
   "id": "2c23fc3b",
   "metadata": {},
   "source": [
    "### while 조건문:\n",
    "- 수행할 문장1\n",
    "- 수행할 문장2\n",
    "- 수행할 문장3\n",
    "- .......<br>\n",
    "while문은 조건문이 참인 동안에 while문아래의 문장이 반복해서 수행된다."
   ]
  },
  {
   "cell_type": "markdown",
   "id": "51e82fd6",
   "metadata": {},
   "source": [
    "'열 번 찍어 안 넘어가는 나무 없다.'는 속담을 파이썬 프로그램으로 만든다면 다음과 같이 될 것이다."
   ]
  },
  {
   "cell_type": "code",
   "execution_count": 1,
   "id": "539c7c8e",
   "metadata": {},
   "outputs": [
    {
     "name": "stdout",
     "output_type": "stream",
     "text": [
      "나무를 1번 찍었습니다.\n",
      "나무를 2번 찍었습니다.\n",
      "나무를 3번 찍었습니다.\n",
      "나무를 4번 찍었습니다.\n",
      "나무를 5번 찍었습니다.\n",
      "나무를 6번 찍었습니다.\n",
      "나무를 7번 찍었습니다.\n",
      "나무를 8번 찍었습니다.\n",
      "나무를 9번 찍었습니다.\n",
      "나무를 10번 찍었습니다.\n",
      "나무 넘어갑니다.\n"
     ]
    }
   ],
   "source": [
    "treeHit = 0\n",
    "while treeHit < 10:\n",
    "    treeHit = treeHit + 1\n",
    "    print(\"나무를 %d번 찍었습니다.\" % treeHit)\n",
    "    if treeHit == 10:\n",
    "        print(\"나무 넘어갑니다.\")"
   ]
  },
  {
   "cell_type": "markdown",
   "id": "7c308ef7",
   "metadata": {},
   "source": [
    "위 예에서 while문의 조건문은 treeHit <10이다. 즉 treeHit가 10보다 작은 동안에 while문안의 문장을 계속 수핸한다. while문 안의 문장을 보면 제일 먼저 treeHit=treeHit+1로 treeHit값이 계속 1씩 증가한다. 그리고 나무를 treeHit번만큼 찍었음을 알리는 문장을 출력하고 treeHit가 10이 되면 '나무 넘어갑니다.' 라는 문장을 출력한다. 그러고 나면 treeHit < 10 조건문이 거짓이 되므로 while문을 빠져나가게 된다."
   ]
  },
  {
   "cell_type": "markdown",
   "id": "727fc33c",
   "metadata": {},
   "source": [
    "다음은 while문이 반복되는 과정을 순서대로 정리한 표이다. 이렇게 긴 과정을 소스 코드 단5줄로 만들수 있다니 놀랍지 않은가?"
   ]
  },
  {
   "cell_type": "markdown",
   "id": "8f8ec68b",
   "metadata": {},
   "source": [
    "treeHit$\\quad$조건문$\\quad$조건판단$\\quad$$\\quad$수행하는 문장$\\quad$$\\quad$while문\n",
    "- 0$\\quad$ 0<10 $\\quad$$\\quad$ 참$\\quad$$\\quad$나무를 1번찍었습니다.$\\quad$$\\quad$반복\n",
    "- 1$\\quad$ 1<10 $\\quad$$\\quad$ 참$\\quad$$\\quad$나무를 2번찍었습니다.$\\quad$$\\quad$반복\n",
    "- 2$\\quad$ 2<10 $\\quad$$\\quad$ 참$\\quad$$\\quad$나무를 3번찍었습니다.$\\quad$$\\quad$반복\n",
    "- 3$\\quad$ 3<10 $\\quad$$\\quad$ 참$\\quad$$\\quad$나무를 4번찍었습니다.$\\quad$$\\quad$반복\n",
    "- 4$\\quad$ 4<10 $\\quad$$\\quad$ 참$\\quad$$\\quad$나무를 5번찍었습니다.$\\quad$$\\quad$반복\n",
    "- 5$\\quad$ 5<10 $\\quad$$\\quad$ 참$\\quad$$\\quad$나무를 6번찍었습니다.$\\quad$$\\quad$반복\n",
    "- 6$\\quad$ 6<10 $\\quad$$\\quad$ 참$\\quad$$\\quad$나무를 7번찍었습니다.$\\quad$$\\quad$반복\n",
    "- 7$\\quad$ 7<10 $\\quad$$\\quad$ 참$\\quad$$\\quad$나무를 8번찍었습니다.$\\quad$$\\quad$반복\n",
    "- 8$\\quad$ 8<10 $\\quad$$\\quad$ 참$\\quad$$\\quad$나무를 9번찍었습니다.$\\quad$$\\quad$반복\n",
    "- 9$\\quad$ 9<10 $\\quad$$\\quad$ 참$\\quad$$\\quad$나무를 10번찍었습니다.$\\quad$$\\quad$반복<br>\n",
    "$\\quad$$\\quad$$\\quad$$\\quad$$\\quad$$\\quad$$\\quad$$\\quad$$\\quad$나무넘어갑니다.\n",
    "- 10$\\quad$ 10<10$\\quad$$\\quad$거짓$\\quad$$\\quad$$\\quad$$\\quad$$\\quad$$\\quad$$\\quad$$\\quad$$\\quad$$\\quad$종료"
   ]
  },
  {
   "cell_type": "markdown",
   "id": "089d77cc",
   "metadata": {},
   "source": [
    "## while문 만들기 \n",
    "이번에는 여러 가지 선택지 중 하나를 선택해서 입력받는 예제를 만들어 보자. 먼저 다음과 같이 여러 줄짜리 문자열을 입력한다."
   ]
  },
  {
   "cell_type": "code",
   "execution_count": 8,
   "id": "87233c3c",
   "metadata": {},
   "outputs": [],
   "source": [
    "prompt = \"\"\"\n",
    "   1. Add\n",
    "   2. Del\n",
    "   3. List\n",
    "   4. Quit\n",
    "   \n",
    "   Enter number:\"\"\""
   ]
  },
  {
   "cell_type": "markdown",
   "id": "63a6436c",
   "metadata": {},
   "source": [
    "이어서 number 변수에 0을 먼저 대입한다. 이렇게 변수를 먼저 설정해 놓지 않으면 다음에 나올 while문의 조건문인 number!=4에서 변수가 존재하지 않는다는 오류가 발생한다."
   ]
  },
  {
   "cell_type": "code",
   "execution_count": 12,
   "id": "35ab0555",
   "metadata": {},
   "outputs": [
    {
     "name": "stdout",
     "output_type": "stream",
     "text": [
      "\n",
      "   1. Add\n",
      "   2. Del\n",
      "   3. List\n",
      "   4. Quit\n",
      "   \n",
      "   Enter number:\n",
      "1\n",
      "\n",
      "   1. Add\n",
      "   2. Del\n",
      "   3. List\n",
      "   4. Quit\n",
      "   \n",
      "   Enter number:\n",
      "4\n"
     ]
    }
   ],
   "source": [
    "number=0\n",
    "while number !=4:\n",
    "    print(prompt)\n",
    "    number = int(input())"
   ]
  },
  {
   "cell_type": "markdown",
   "id": "d70c594b",
   "metadata": {},
   "source": [
    "while문을 보면 number가 4가 아닌 동안prompt를 출력하고 사용자로부터 번호를 입력 받는다. 다음 결과 화면처럼 사용자가 값 4를 입력하지 않으면 계속해서 prompt를 출력한다."
   ]
  },
  {
   "cell_type": "markdown",
   "id": "84fe1ba9",
   "metadata": {},
   "source": [
    "4를 입력하면 조건문이 거짓이 되어 while문을 빠져나가게 된다."
   ]
  },
  {
   "cell_type": "markdown",
   "id": "336fe1b1",
   "metadata": {},
   "source": [
    "## while문 강제로 빠져나가기\n",
    "while문은 조건문이 참인 동안 계속해서 while문 안의 내용을 반복적으로 수행한다. 하지만 강제로 while문을 빠져나가고 싶을 때가 있다.\n",
    "예를 들어 거피 자판기를 생각해 보자. 자판기 안에 커피가 충분히 있을 때에는 동전을 넣으면 커피가 나온다. 그런데 자판기가 제대로 작동하려면 커피가 얼마나 남았는지 항상 검사해야 한다. 만약 커피가 떨어졌다면 판매를 중단하고'판매 중지' 문구를 사용자에게 보여주어야 한다. 이렇게 판매를 강제로 멈추게 하는 것이 바로 break문이다. <br> 다음 예는 커피 자판기 이야기를 파이썬 프로그램으로 표현해 본 것이다."
   ]
  },
  {
   "cell_type": "code",
   "execution_count": 20,
   "id": "8ea5df6f",
   "metadata": {},
   "outputs": [
    {
     "name": "stdout",
     "output_type": "stream",
     "text": [
      "돈을 받았으니 커피를 줍니다.\n",
      "남은 커피의 양은 %d 개 입니다.\n",
      "돈을 받았으니 커피를 줍니다.\n",
      "남은 커피의 양은 %d 개 입니다.\n",
      "돈을 받았으니 커피를 줍니다.\n",
      "남은 커피의 양은 %d 개 입니다.\n",
      "돈을 받았으니 커피를 줍니다.\n",
      "남은 커피의 양은 %d 개 입니다.\n",
      "돈을 받았으니 커피를 줍니다.\n",
      "남은 커피의 양은 %d 개 입니다.\n",
      "돈을 받았으니 커피를 줍니다.\n",
      "남은 커피의 양은 %d 개 입니다.\n",
      "돈을 받았으니 커피를 줍니다.\n",
      "남은 커피의 양은 %d 개 입니다.\n",
      "돈을 받았으니 커피를 줍니다.\n",
      "남은 커피의 양은 %d 개 입니다.\n",
      "돈을 받았으니 커피를 줍니다.\n",
      "남은 커피의 양은 %d 개 입니다.\n",
      "돈을 받았으니 커피를 줍니다.\n",
      "남은 커피의 양은 %d 개 입니다.\n",
      "커피가 다떨어졌습니다 판매를 중지합니다.\n"
     ]
    }
   ],
   "source": [
    "coffee=10\n",
    "money=300\n",
    "while money:\n",
    "    print(\"돈을 받았으니 커피를 줍니다.\")\n",
    "    coffee= coffee -1\n",
    "    print(\"남은 커피의 양은 %d 개 입니다.\")\n",
    "    if coffee == 0:\n",
    "        print(\"커피가 다떨어졌습니다 판매를 중지합니다.\")\n",
    "        break"
   ]
  },
  {
   "cell_type": "markdown",
   "id": "383c7659",
   "metadata": {},
   "source": [
    "money가 300으로 고정되어 있으므로 while money:에서 조건문인 money는 0이 아니기 때문에 항상 참이다. 따라서 무한히 반복되는 무한 루프를 돌게된다. 그리고 while 문의 내용을 한 번 수행할 때마다 coffee= coffee -1에 의해서 chffee의 개수가 1개씩 줄어든다. 만약 coffee가 0이 되면 if coffee ==0: 문장에서 coffee ==0:이 참이 되므로 if문 다음 문장\"커피가 다 떨어졌습니다. 판매를 중지합니다.\"가 수행되고 break문이 호출되어 while문을 빠져나가게 된다.<br>\n",
    "하지만 실제 자판기는 위 예처럼 작동하지 않을 것이다. 다음은 자판기의 실제 작동 과정과 비슷하게 만들어 본예이다. 이해가 안되더라도 걱정 말자. 다음예는 조금 복잡하니까 대화형 인터프리터를 사용하지 말고 IDLE 에디터를 사용해서 작성해 보자."
   ]
  },
  {
   "cell_type": "code",
   "execution_count": 31,
   "id": "fa71fe93",
   "metadata": {},
   "outputs": [
    {
     "name": "stdout",
     "output_type": "stream",
     "text": [
      "돈을 넣어 주세요:500\n",
      "거스름돈 200를 주고 커피를 줍니다.\n"
     ]
    },
    {
     "ename": "NameError",
     "evalue": "name 'coffe' is not defined",
     "output_type": "error",
     "traceback": [
      "\u001b[0;31m---------------------------------------------------------------------------\u001b[0m",
      "\u001b[0;31mNameError\u001b[0m                                 Traceback (most recent call last)",
      "\u001b[0;32m<ipython-input-31-f0472188cbe4>\u001b[0m in \u001b[0;36m<module>\u001b[0;34m\u001b[0m\n\u001b[1;32m     12\u001b[0m         \u001b[0mprint\u001b[0m\u001b[0;34m(\u001b[0m\u001b[0;34m\"돈을 다시 돌려주고 커피를 주지 않습니다.\"\u001b[0m\u001b[0;34m)\u001b[0m\u001b[0;34m\u001b[0m\u001b[0;34m\u001b[0m\u001b[0m\n\u001b[1;32m     13\u001b[0m         \u001b[0mprint\u001b[0m\u001b[0;34m(\u001b[0m\u001b[0;34m\"남은 커피의 양은 %d개입니다.\"\u001b[0m\u001b[0;34m%\u001b[0m \u001b[0mcoffee\u001b[0m\u001b[0;34m)\u001b[0m\u001b[0;34m\u001b[0m\u001b[0;34m\u001b[0m\u001b[0m\n\u001b[0;32m---> 14\u001b[0;31m     \u001b[0;32mif\u001b[0m \u001b[0mcoffe\u001b[0m\u001b[0;34m==\u001b[0m\u001b[0;36m0\u001b[0m\u001b[0;34m:\u001b[0m\u001b[0;34m\u001b[0m\u001b[0;34m\u001b[0m\u001b[0m\n\u001b[0m\u001b[1;32m     15\u001b[0m         \u001b[0mprint\u001b[0m\u001b[0;34m(\u001b[0m\u001b[0;34m\"커피가 다 떨어졌습니다. 판매를 중지합니다.\"\u001b[0m\u001b[0;34m)\u001b[0m\u001b[0;34m\u001b[0m\u001b[0;34m\u001b[0m\u001b[0m\n\u001b[1;32m     16\u001b[0m         \u001b[0;32mbreak\u001b[0m\u001b[0;34m\u001b[0m\u001b[0;34m\u001b[0m\u001b[0m\n",
      "\u001b[0;31mNameError\u001b[0m: name 'coffe' is not defined"
     ]
    }
   ],
   "source": [
    "# coffee.py\n",
    "coffee=10\n",
    "while True:\n",
    "    money=int(input(\"돈을 넣어 주세요:\"))\n",
    "    if money == 300:\n",
    "        print(\"커피를 줍니다.\")\n",
    "        coffee = coffee-1\n",
    "    elif money > 300:\n",
    "        print(\"거스름돈 %d를 주고 커피를 줍니다.\"%(money -300))\n",
    "        coffee=coffee-1\n",
    "    else:\n",
    "        print(\"돈을 다시 돌려주고 커피를 주지 않습니다.\")\n",
    "        print(\"남은 커피의 양은 %d개입니다.\"% coffee)\n",
    "    if coffe==0:\n",
    "        print(\"커피가 다 떨어졌습니다. 판매를 중지합니다.\")\n",
    "        break"
   ]
  },
  {
   "cell_type": "markdown",
   "id": "9a3951ec",
   "metadata": {},
   "source": [
    "위 프로그램 소스를 따로 설명하지는 않겠다. 여러분이 소스를 입력하면서 무슨 내용인지 이해할 수 있다면 지금껏 배운 if문이나 while문을 이해했다고 보면 된다. 만약 money = int(input(\"돈을 넣어 주세요:\"))문장이 이해되지 않는다면 이문장은 사용자로부터 값을 입력받는 부분이고 입력 받은 숫자를 money 변수에 대입하는 것이라고만 알아두자."
   ]
  },
  {
   "cell_type": "markdown",
   "id": "69e07ae2",
   "metadata": {},
   "source": [
    "## while문의 맨 처음으로 돌아가기\n",
    "while문 안의 문장을 수행할 때 입력 조건을 검사해서 조건에 맞지 않으면 while문을 빠져나간다. 그런데 프로그래밍을 하다 보면 while문을 빠져나가지 않고 while문의 맨 처음 으로 다시 돌아가게 만들고 싶은 경우가 생기게 된다. 이때 사용하는 것이 바로 continue문이다. <br> 1부터 10까지의 숫자 중에서 홀수만 출력하는 것을 while문을 사용해서 작성한다고 생각해 보자. 어떤방법이 좋을까?"
   ]
  },
  {
   "cell_type": "code",
   "execution_count": 32,
   "id": "54d5e05d",
   "metadata": {},
   "outputs": [
    {
     "name": "stdout",
     "output_type": "stream",
     "text": [
      "1\n",
      "3\n",
      "5\n",
      "7\n",
      "9\n"
     ]
    }
   ],
   "source": [
    "a=0\n",
    "while a < 10:\n",
    "    a=a+1\n",
    "    if a%2 ==0:continue\n",
    "    print(a)"
   ]
  },
  {
   "cell_type": "markdown",
   "id": "f8701fed",
   "metadata": {},
   "source": [
    "위 예는 1부터 10까지의 숫자중 홀수만 출력하는 예이다. a가 10보다 작은 동안a는 1만끔씩 계속 증가한다. if a%2==0(a를 2로 나누었을 때 나머지가 0인 경우)이 참이 되는 경우는 a가 짝수일 때이다. 즉 a가 짝수이면 continue 문장을 수행한다. 이 continue문은 while문의 맨 처음 (조건문:a<10)으로 돌아가게 하는 명령어이다. 따라서 위 예에서 a가 짝수이면 print(a)는 수행되지 않을 것이다."
   ]
  },
  {
   "cell_type": "markdown",
   "id": "bbf95be7",
   "metadata": {},
   "source": [
    "## 무한 루프\n",
    "이번에는 무한루프에 대해 알아보자. 무한 루프란 무한히 반복한다는 의미이다. 우리가 사용하는 일반 프로그램 중에서 무한 루프 개념을 사용하지 않는 프로그램은 거의 없다. 그만큼 자주 사용한다는 뜻이다."
   ]
  },
  {
   "cell_type": "markdown",
   "id": "039dfcc6",
   "metadata": {},
   "source": [
    "### while True:\n",
    "- 수행할 문장1\n",
    "- 수행할 문장2\n",
    "- ......"
   ]
  },
  {
   "cell_type": "markdown",
   "id": "65ed5910",
   "metadata": {},
   "source": [
    "파이썬에서 무한 루프는 while 문으로 구현할 수 있다. 위쪽은 무한 루프의 기본 형태이다. while문의 조건문이 True이므로 항상 참이 된다. 따라서 While문 안에 있는 문장들은 무한하게 수행될 것이다."
   ]
  },
  {
   "cell_type": "markdown",
   "id": "4c27cfb1",
   "metadata": {},
   "source": [
    "다음 무한 루프 예이다."
   ]
  },
  {
   "cell_type": "code",
   "execution_count": null,
   "id": "f0bf6dbe",
   "metadata": {},
   "outputs": [],
   "source": [
    "while True:\n",
    "    print(\"Ctrl+c를 눌러야 while문을 빠져나갈 수 있습니다.\")"
   ]
  },
  {
   "cell_type": "code",
   "execution_count": null,
   "id": "1141811c",
   "metadata": {},
   "outputs": [],
   "source": [
    "위 문장은 영원히 출력된다. 하지만 이 예처럼 아무 의미 없이 무한 루프를 돌리는 경우는 거의 없을 것이다. Ctrl + C를 눌러 빠져나가자."
   ]
  },
  {
   "cell_type": "markdown",
   "id": "463cf151",
   "metadata": {},
   "source": [
    "출처 : \"점프투파이썬\""
   ]
  }
 ],
 "metadata": {
  "kernelspec": {
   "display_name": "Python 3",
   "language": "python",
   "name": "python3"
  },
  "language_info": {
   "codemirror_mode": {
    "name": "ipython",
    "version": 3
   },
   "file_extension": ".py",
   "mimetype": "text/x-python",
   "name": "python",
   "nbconvert_exporter": "python",
   "pygments_lexer": "ipython3",
   "version": "3.8.8"
  }
 },
 "nbformat": 4,
 "nbformat_minor": 5
}
