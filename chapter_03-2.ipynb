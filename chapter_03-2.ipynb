{
 "cells": [
  {
   "cell_type": "markdown",
   "id": "b2a1baab",
   "metadata": {},
   "source": [
    "# while문\n",
    "## while문의 기본 구조\n",
    "반복해서 문장을 수행해야 할 경우 while문을 사용한다. 그래서 while문을 반복문이라고도 부른다.<br>다음은 while문의 기본 구조이다."
   ]
  },
  {
   "cell_type": "markdown",
   "id": "2c23fc3b",
   "metadata": {},
   "source": [
    "### while 조건문:\n",
    "- 수행할 문장1\n",
    "- 수행할 문장2\n",
    "- 수행할 문장3\n",
    "- .......<br>\n",
    "while문은 조건문이 참인 동안에 while문아래의 문장이 반복해서 수행된다."
   ]
  },
  {
   "cell_type": "markdown",
   "id": "51e82fd6",
   "metadata": {},
   "source": [
    "'열 번 찍어 안 넘어가는 나무 없다.'는 속담을 파이썬 프로그램으로 만든다면 다음과 같이 될 것이다."
   ]
  },
  {
   "cell_type": "code",
   "execution_count": null,
   "id": "539c7c8e",
   "metadata": {},
   "outputs": [],
   "source": [
    "treeHit = 0\n",
    "while treeHit < 10:\n",
    "    treeHit = treeHit + 1\n",
    "    print(\"나무를 %d번 찍었습니다.\" % treeHit)\n",
    "    if treeHit == 10:\n",
    "        print(\"나무 넘어갑니다.\")"
   ]
  },
  {
   "cell_type": "markdown",
   "id": "7c308ef7",
   "metadata": {},
   "source": [
    "위 예에서 while문의 조건문은 treeHit <10이다. 즉 treeHit가 10보다 작은 동안에 while문안의 문장을 계속 수핸한다. while문 안의 문장을 보면 제일 먼저 treeHit=treeHit+1로 treeHit값이 계속 1씩 증가한다. 그리고 나무를 treeHit번만큼 찍었음을 알리는 문장을 출력하고 treeHit가 10이 되면 '나무 넘어갑니다.' 라는 문장을 출력한다. 그러고 나면 treeHit < 10 조건문이 거짓이 되므로 while문을 빠져나가게 된다."
   ]
  },
  {
   "cell_type": "markdown",
   "id": "727fc33c",
   "metadata": {},
   "source": [
    "다음은 while문이 반복되는 과정을 순서대로 정리한 표이다. 이렇게 긴 과정을 소스 코드 단5줄로 만들수 있다니 놀랍지 않은가?"
   ]
  },
  {
   "cell_type": "markdown",
   "id": "8f8ec68b",
   "metadata": {},
   "source": [
    "treeHit$\\quad$조건문$\\quad$조건판단$\\quad$$\\quad$수행하는 문장$\\quad$$\\quad$while문\n",
    "- 0$\\quad$ 0<10 $\\quad$$\\quad$ 참$\\quad$$\\quad$나무를 1번찍었습니다.$\\quad$$\\quad$반복\n",
    "- 1$\\quad$ 1<10 $\\quad$$\\quad$ 참$\\quad$$\\quad$나무를 2번찍었습니다.$\\quad$$\\quad$반복\n",
    "- 2$\\quad$ 2<10 $\\quad$$\\quad$ 참$\\quad$$\\quad$나무를 3번찍었습니다.$\\quad$$\\quad$반복\n",
    "- 3$\\quad$ 3<10 $\\quad$$\\quad$ 참$\\quad$$\\quad$나무를 4번찍었습니다.$\\quad$$\\quad$반복\n",
    "- 4$\\quad$ 4<10 $\\quad$$\\quad$ 참$\\quad$$\\quad$나무를 5번찍었습니다.$\\quad$$\\quad$반복\n",
    "- 5$\\quad$ 5<10 $\\quad$$\\quad$ 참$\\quad$$\\quad$나무를 6번찍었습니다.$\\quad$$\\quad$반복\n",
    "- 6$\\quad$ 6<10 $\\quad$$\\quad$ 참$\\quad$$\\quad$나무를 7번찍었습니다.$\\quad$$\\quad$반복\n",
    "- 7$\\quad$ 7<10 $\\quad$$\\quad$ 참$\\quad$$\\quad$나무를 8번찍었습니다.$\\quad$$\\quad$반복\n",
    "- 8$\\quad$ 8<10 $\\quad$$\\quad$ 참$\\quad$$\\quad$나무를 9번찍었습니다.$\\quad$$\\quad$반복\n",
    "- 9$\\quad$ 9<10 $\\quad$$\\quad$ 참$\\quad$$\\quad$나무를 10번찍었습니다.$\\quad$$\\quad$반복<br>\n",
    "$\\quad$$\\quad$$\\quad$$\\quad$$\\quad$$\\quad$$\\quad$$\\quad$$\\quad$나무넘어갑니다.\n",
    "- 10$\\quad$ 10<10$\\quad$$\\quad$거짓$\\quad$$\\quad$$\\quad$$\\quad$$\\quad$$\\quad$$\\quad$$\\quad$$\\quad$$\\quad$종료"
   ]
  },
  {
   "cell_type": "code",
   "execution_count": null,
   "id": "d342b575",
   "metadata": {},
   "outputs": [],
   "source": []
  },
  {
   "cell_type": "code",
   "execution_count": null,
   "id": "711d7d03",
   "metadata": {},
   "outputs": [],
   "source": []
  }
 ],
 "metadata": {
  "kernelspec": {
   "display_name": "Python 3",
   "language": "python",
   "name": "python3"
  },
  "language_info": {
   "codemirror_mode": {
    "name": "ipython",
    "version": 3
   },
   "file_extension": ".py",
   "mimetype": "text/x-python",
   "name": "python",
   "nbconvert_exporter": "python",
   "pygments_lexer": "ipython3",
   "version": "3.8.8"
  }
 },
 "nbformat": 4,
 "nbformat_minor": 5
}
