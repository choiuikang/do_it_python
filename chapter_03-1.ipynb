{
 "cells": [
  {
   "cell_type": "markdown",
   "id": "6cf4f313",
   "metadata": {},
   "source": [
    "# if문\n",
    "## if문은 왜 필요할까?\n",
    "다음과 같은 상상을 해보자<br>\n",
    "돈이 있으면 택시를 타고, 돈이 없으면 걸어간다.<br>\n",
    "우리 모두에게 일어날 수 있는 상황 중 하나이다. 프로그래밍도 사람이 하는 것이므로 위 문장처럼 주어진 조건을 판단한 후 그 상황에 맞게 처리해야 할 경우가 생긴다. 이렇듯 프로그래밍에서 조건을 판단하여 해당 조건에 맞는 상황을 수행하는 데 쓰는 것이 바로 if문이다.<br>\n",
    "위와 같은 상황을 파이썬에서는 다음과 같이 표현할 수 있다."
   ]
  },
  {
   "cell_type": "code",
   "execution_count": 2,
   "id": "25172a36",
   "metadata": {},
   "outputs": [
    {
     "name": "stdout",
     "output_type": "stream",
     "text": [
      "택시를 타고 가라\n"
     ]
    }
   ],
   "source": [
    "money=True\n",
    "if money:\n",
    "    print(\"택시를 타고 가라\")\n",
    "else:\n",
    "    print(\"걸어 가라\")"
   ]
  },
  {
   "cell_type": "markdown",
   "id": "c457b659",
   "metadata": {},
   "source": [
    "##  if문의 기본 구조\n",
    "if 조건문: <br>\n",
    "- 수행할 문장1\n",
    "- 수행할 문장2\n",
    "- .....<br>\n",
    "else:<br>\n",
    "- 수행할 문장A\n",
    "- 수행할 문장B\n",
    "- .....<br>\n",
    "\n",
    "조건문을 테스트해서 참이면 if문 바로 다음 문장들을 수행하고, 조건문이 거짓이면 else문 다음 문장들을 수행하게 된다. 그러므로 else문은 if문 없이 독립적으로 사용할 수 없다."
   ]
  },
  {
   "cell_type": "markdown",
   "id": "93596402",
   "metadata": {},
   "source": [
    "### 들여쓰기\n",
    "#### if 조건문:\n",
    "- 수행할 문장1\n",
    "- 수행할 문장2\n",
    "- 수행할 문장3 <br>\n",
    "if문을 만들 때는 if조건문: 바로 아래 문장부터 if문에 속하는 모든 문장에 들여쓰기를 해주어야 한다. 위에서 보는 것과 같이 조건문이 참일 경우  '수행할 문장1'을 들여쓰기했고 '수행할 문장2'와 '수행할 문장3'도 들여쓰기 해 주었다. 다른 프로그래밍 언어를 사용해 온 사람들은 파이썬에서 '수행할 문장'을 들여쓰기하는 것을 무시하는 경우가 많으니 더 주의 해야한다."
   ]
  },
  {
   "cell_type": "markdown",
   "id": "295524d9",
   "metadata": {},
   "source": [
    "#### 조건문:\n",
    "- 수행할 문장1\n",
    "- 수행할 문장2\n",
    "- 수행할 문장3 <br> 위처럼 작성하면 오류가 발생한다. '수행할 문장2' 를 들여쓰기하지 않았기 때문이다. IDLE 에디터에서 다음과 같이 작성하여 실행해 보자. 여기에서는 오류가 뜨는지 확인만 하면 되니 IDLE 에디터 창에서 바로 실행하자."
   ]
  },
  {
   "cell_type": "code",
   "execution_count": 1,
   "id": "48bb3a61",
   "metadata": {},
   "outputs": [
    {
     "ename": "IndentationError",
     "evalue": "unexpected indent (<ipython-input-1-81fb4ac19001>, line 5)",
     "output_type": "error",
     "traceback": [
      "\u001b[0;36m  File \u001b[0;32m\"<ipython-input-1-81fb4ac19001>\"\u001b[0;36m, line \u001b[0;32m5\u001b[0m\n\u001b[0;31m    print(\"가라\")\u001b[0m\n\u001b[0m    ^\u001b[0m\n\u001b[0;31mIndentationError\u001b[0m\u001b[0;31m:\u001b[0m unexpected indent\n"
     ]
    }
   ],
   "source": [
    "money=True\n",
    "if money:\n",
    "    print('택시를')\n",
    "print(\"타고\")\n",
    "    print(\"가라\")"
   ]
  },
  {
   "cell_type": "markdown",
   "id": "17cf72d5",
   "metadata": {},
   "source": [
    "들여쓰기 오류가 발생하는 것을 확인할 수 있다."
   ]
  },
  {
   "cell_type": "markdown",
   "id": "eed86b97",
   "metadata": {},
   "source": [
    "다음과 같은 경우에도 오류가 발생한다.'수행할 문장3'을 들여쓰기했지만 '수행할 문장1'이나  '수행할 문장2'와 들여쓰기의 너비가 다르다. 즉 들여쓰기는 언제나 같은 너비로 해야 한다."
   ]
  },
  {
   "cell_type": "markdown",
   "id": "9df2d8c5",
   "metadata": {},
   "source": [
    "if 조건문:\n",
    "    수행할 문장1\n",
    "    수행할 문장1\n",
    "         수행할 문장3"
   ]
  },
  {
   "cell_type": "code",
   "execution_count": 4,
   "id": "e23dba14",
   "metadata": {},
   "outputs": [
    {
     "ename": "IndentationError",
     "evalue": "unexpected indent (<ipython-input-4-8f3801210ea3>, line 5)",
     "output_type": "error",
     "traceback": [
      "\u001b[0;36m  File \u001b[0;32m\"<ipython-input-4-8f3801210ea3>\"\u001b[0;36m, line \u001b[0;32m5\u001b[0m\n\u001b[0;31m    print(\"가라\")\u001b[0m\n\u001b[0m    ^\u001b[0m\n\u001b[0;31mIndentationError\u001b[0m\u001b[0;31m:\u001b[0m unexpected indent\n"
     ]
    }
   ],
   "source": [
    "money=True\n",
    "if money:\n",
    "    print(\"택시를\")\n",
    "    print(\"타고\")\n",
    "        print(\"가라\")"
   ]
  },
  {
   "cell_type": "markdown",
   "id": "1ac235c3",
   "metadata": {},
   "source": [
    "마찬가지로 들여쓰기 오류가 발생하는 것을 확인할 수 있다.\n",
    "<br> 그렇다면 들여쓰기는 공백으로 하는것이 좋을까? 아니면 탭으로 하는것이 좋을까?  이에 대한 논란은 파이썬을 사용하는 사람들 사이에서 아직도 계속되고 있다. 탭으로 하자는 쪽과 공백으로 하자는 쪽 모두가 동의하는 내용은 단 하나, 2가지를 혼용해서 쓰지는 말자는 것이다. 공백으로 할 거면 항상 공백으로 통일하고, 탭으로 할 거면 항상 탭으로 소스에서 눈으로 보이는 것이 아니기 때문에 혼용해서 쓰면 오류의 원인이 되니 주의하자."
   ]
  },
  {
   "cell_type": "markdown",
   "id": "af7e35cc",
   "metadata": {},
   "source": [
    "## 조건문 다음에 콜론(:)을 잊지 말자!\n",
    "if 조건문 뒤에는 반드시 콜론(:)이 붙는다. 어떤 특별한 의미가 있다기보다는 파이썬의 문법 구조이다. 왜 하필 콜론(:)인지 궁금하다면 파이썬을 만든 귀도에게 직접 물어보아야 할것이다. 앞으로 배울 while이나 for,def, class문에도 역시 문장의 끝에 콜론(:)이 항상 들어간다. 초보자들은 이 콜론(:)을 빠뜨리는 경우가 많으니 특히 주의하자 <br> 파이썬이 다른 언어보다 보기 쉽고 소스 코드가 간결한 이뉴는 바로 콜론(:)을 사용하여 들여쓰기를 하도록 만들었기 때문이다. 하지만 이는 숙력된 프로그래머들이 파이썬을 처음 접할때 제일 혼란스러워하는 부분이기도 하다. 다른언어에서는 if문을 {}기호로 감싸지만 파이썬에서는 들여쓰기로 해결한다는 점을 기억하자."
   ]
  },
  {
   "cell_type": "markdown",
   "id": "7cf905d9",
   "metadata": {},
   "source": [
    "## 조건문이란 무엇인가?\n",
    "if 조건문에서 '조건문'이란 참과 거짓을 판단하는 문장을 말한다.<br>\n",
    "앞에서 살펴본 택시 예제에서 조건문은 money가 된다."
   ]
  },
  {
   "cell_type": "code",
   "execution_count": 9,
   "id": "dac5f3f9",
   "metadata": {},
   "outputs": [
    {
     "ename": "SyntaxError",
     "evalue": "unexpected EOF while parsing (<ipython-input-9-ff17eb57904c>, line 2)",
     "output_type": "error",
     "traceback": [
      "\u001b[0;36m  File \u001b[0;32m\"<ipython-input-9-ff17eb57904c>\"\u001b[0;36m, line \u001b[0;32m2\u001b[0m\n\u001b[0;31m    if money:\u001b[0m\n\u001b[0m             ^\u001b[0m\n\u001b[0;31mSyntaxError\u001b[0m\u001b[0;31m:\u001b[0m unexpected EOF while parsing\n"
     ]
    }
   ],
   "source": [
    "money=True\n",
    "if money:"
   ]
  },
  {
   "cell_type": "markdown",
   "id": "08bf371e",
   "metadata": {},
   "source": [
    "money는 True이기 때문에 조건이 참이 되어 if 문 다음 문장을 수행한다."
   ]
  },
  {
   "cell_type": "markdown",
   "id": "d51f11f7",
   "metadata": {},
   "source": [
    "### 비교연산자\n",
    "이번에는 조건문에 비교 연산자(<,>,==,!=,>=,<=)를 쓰는방법에 대해 알아보자."
   ]
  },
  {
   "cell_type": "markdown",
   "id": "c1abb08c",
   "metadata": {},
   "source": [
    "다음 표는 비교 연산자를 잘 설명해 준다.<br>\n",
    "비교 연산자 $\\quad$    설명 <br>\n",
    "- x<y  $\\quad$ - x가 y보다 작다.\n",
    "- x>y  $\\quad$ - x가 y보다 크다.\n",
    "- x==y $\\quad$- x가 y가 같다.\n",
    "- x!=y $\\quad$ - 와 y가 같지 않다.\n",
    "- x>=y $\\quad$- x가 y보다 크거나 같다.\n",
    "- x<=y $\\quad$- x가 y보다 작거나 같다."
   ]
  },
  {
   "cell_type": "markdown",
   "id": "15f15600",
   "metadata": {},
   "source": [
    "이제 위 연산자를 어떻게 사용하는지 알아보자."
   ]
  },
  {
   "cell_type": "code",
   "execution_count": 10,
   "id": "6b7b2e13",
   "metadata": {},
   "outputs": [
    {
     "data": {
      "text/plain": [
       "True"
      ]
     },
     "execution_count": 10,
     "metadata": {},
     "output_type": "execute_result"
    }
   ],
   "source": [
    "x=3\n",
    "y=2\n",
    "x>y"
   ]
  },
  {
   "cell_type": "markdown",
   "id": "81f427c0",
   "metadata": {},
   "source": [
    "x에 3을, y에 2를 대입한 다음에 x>y라는 조건문을 수행하면 True를 돌려준다. x>y 조건문이 참이기 때문이다."
   ]
  },
  {
   "cell_type": "code",
   "execution_count": 11,
   "id": "878be762",
   "metadata": {},
   "outputs": [
    {
     "data": {
      "text/plain": [
       "False"
      ]
     },
     "execution_count": 11,
     "metadata": {},
     "output_type": "execute_result"
    }
   ],
   "source": [
    "x<y"
   ]
  },
  {
   "cell_type": "markdown",
   "id": "a73e6215",
   "metadata": {},
   "source": [
    "위 조건문은 거짓이기 때문이 False를 돌려준다."
   ]
  },
  {
   "cell_type": "code",
   "execution_count": 12,
   "id": "1f214573",
   "metadata": {},
   "outputs": [
    {
     "data": {
      "text/plain": [
       "False"
      ]
     },
     "execution_count": 12,
     "metadata": {},
     "output_type": "execute_result"
    }
   ],
   "source": [
    "x==y"
   ]
  },
  {
   "cell_type": "markdown",
   "id": "b95bf65a",
   "metadata": {},
   "source": [
    "x와 y는 같지 않다. 따라서 위 조건문은 거짓이다."
   ]
  },
  {
   "cell_type": "code",
   "execution_count": 13,
   "id": "8808c500",
   "metadata": {},
   "outputs": [
    {
     "data": {
      "text/plain": [
       "True"
      ]
     },
     "execution_count": 13,
     "metadata": {},
     "output_type": "execute_result"
    }
   ],
   "source": [
    "x!=y"
   ]
  },
  {
   "cell_type": "markdown",
   "id": "ea0c242e",
   "metadata": {},
   "source": [
    "x와 y는 같지 않다. 따라서 위 조건문은 참이다."
   ]
  },
  {
   "cell_type": "markdown",
   "id": "f6b90b13",
   "metadata": {},
   "source": [
    "앞에서 살펴본 택시 예제를 다음처럼 바꾸려면 어떻게 해야 할까?<br>\n",
    "만약 3000원 이상의 돈을 가지고 있으면 택시를 타고 그렇지 않으면 걸어 가라."
   ]
  },
  {
   "cell_type": "code",
   "execution_count": 19,
   "id": "3ec447fc",
   "metadata": {},
   "outputs": [
    {
     "name": "stdout",
     "output_type": "stream",
     "text": [
      "걸어 가라\n"
     ]
    }
   ],
   "source": [
    "money=2000\n",
    "if money>=3000:\n",
    "    print(\"택시를 타고 가라\")\n",
    "else:\n",
    "    print(\"걸어 가라\")"
   ]
  },
  {
   "cell_type": "markdown",
   "id": "94e7408f",
   "metadata": {},
   "source": [
    "moeny>=3000 조건문이 거짓이 되기 떄문에 else 문 다음 문장을 수행하게 된다."
   ]
  },
  {
   "cell_type": "markdown",
   "id": "453e2d17",
   "metadata": {},
   "source": [
    "### and, or, not\n",
    "조건을 판단하기 위해 사용하는 다른 연산자로는 and, or, not이 있다. 각각의 연산자는 다음 처럼 동작한다.\n",
    "- 연산자 $\\quad$  설명\n",
    "- x or y $\\quad$  x와 y둘 중에 하나만 참이어도 참이다.\n",
    "- x and y$\\quad$x와 y 모두 참이여야 참이다.\n",
    "- not x $\\quad$    x가 거짓이면 참이다."
   ]
  },
  {
   "cell_type": "markdown",
   "id": "5c73abaa",
   "metadata": {},
   "source": [
    "다음 예를 통해 or 연산자의 사용법을 알아보자.<br>\n",
    "돈이 3000원 이상 있거나 카드가 있다면 택시를 타고 그렇지 않으면 걸어가라."
   ]
  },
  {
   "cell_type": "code",
   "execution_count": 21,
   "id": "8907cdd2",
   "metadata": {},
   "outputs": [
    {
     "name": "stdout",
     "output_type": "stream",
     "text": [
      "택시를 타고 가라\n"
     ]
    }
   ],
   "source": [
    "money=2000\n",
    "card=True\n",
    "if money >=3000 or card:\n",
    "    print(\"택시를 타고 가라\")\n",
    "else:\n",
    "    print(\"걸어 가라\")"
   ]
  },
  {
   "cell_type": "markdown",
   "id": "c17b387d",
   "metadata": {},
   "source": [
    "money는 2000이지만  card가 True 이기 떄문에 money>= 3000 or card 조건문이 참이 된다. 따라서 if문 다음 '택시를 타고가라' 문장이 출력된다."
   ]
  },
  {
   "cell_type": "markdown",
   "id": "b0a41b1f",
   "metadata": {},
   "source": [
    "### x in s, x not s\n",
    "더 나아가 파이썬은 다른 프로그래밍 언어에서 쉽게 볼 수 없는 재미있는 조건물을 제공한다.<br> 바로 다음과 같은 것들이다.\n",
    "- in$\\quad$$\\quad$$\\quad$$\\quad$$\\quad$not in\n",
    "- x in 리스트$\\quad$x not in리스트\n",
    "- x in 튜플$\\quad$ x not in 튜플\n",
    "- x in 문자열 $\\quad$ x not in 문자열"
   ]
  },
  {
   "cell_type": "markdown",
   "id": "909f67a9",
   "metadata": {},
   "source": [
    "영어 단어 in의 뜻이 '~안에'라는 것을 생각해 보면 다음 예가 쉽게 이해될 것이다."
   ]
  },
  {
   "cell_type": "code",
   "execution_count": 22,
   "id": "d6f2c755",
   "metadata": {},
   "outputs": [
    {
     "data": {
      "text/plain": [
       "True"
      ]
     },
     "execution_count": 22,
     "metadata": {},
     "output_type": "execute_result"
    }
   ],
   "source": [
    "1in[1,2,3]"
   ]
  },
  {
   "cell_type": "code",
   "execution_count": 24,
   "id": "2c9c314e",
   "metadata": {},
   "outputs": [
    {
     "data": {
      "text/plain": [
       "False"
      ]
     },
     "execution_count": 24,
     "metadata": {},
     "output_type": "execute_result"
    }
   ],
   "source": [
    "1 not in[1,2,3]"
   ]
  },
  {
   "cell_type": "markdown",
   "id": "775ee8a8",
   "metadata": {},
   "source": [
    "앞에서 첫 번째 예는'[1,2,3,]이라는 리스트 안에 1이 있는가?' 조건문이다. 1은 [1,2,3]안에 있으므로 참이 되어 True를 돌려준다. 두 번째 예는 '[1,2,3] 리스트 안에 1이 없는가?' 조건문이다. 1은 [1,2,3] 안에 있으므로 거짓이 되어 False를 돌려준다."
   ]
  },
  {
   "cell_type": "markdown",
   "id": "bd6fb7e3",
   "metadata": {},
   "source": [
    "다음은 튜플과 문자열에 적용한 예이다. 각각의 결과가 나온 이유는 쉽게 유출할 수 있다."
   ]
  },
  {
   "cell_type": "code",
   "execution_count": 25,
   "id": "e2c08dad",
   "metadata": {},
   "outputs": [
    {
     "data": {
      "text/plain": [
       "True"
      ]
     },
     "execution_count": 25,
     "metadata": {},
     "output_type": "execute_result"
    }
   ],
   "source": [
    "'a'in('a','b','c')"
   ]
  },
  {
   "cell_type": "code",
   "execution_count": 26,
   "id": "8ec49370",
   "metadata": {},
   "outputs": [
    {
     "data": {
      "text/plain": [
       "True"
      ]
     },
     "execution_count": 26,
     "metadata": {},
     "output_type": "execute_result"
    }
   ],
   "source": [
    "'j' not in 'python'"
   ]
  },
  {
   "cell_type": "markdown",
   "id": "521a3827",
   "metadata": {},
   "source": [
    "이번에는 우리가 계속 사용해 온 택시 예제에 in을 적용해 보자.<br>\n",
    "만얀 주머니에 돈이 있으면 택시를 타고, 없으면 걸어가라."
   ]
  },
  {
   "cell_type": "code",
   "execution_count": 27,
   "id": "4e7769dd",
   "metadata": {},
   "outputs": [
    {
     "name": "stdout",
     "output_type": "stream",
     "text": [
      "택시를 타고 가라\n"
     ]
    }
   ],
   "source": [
    "pocket=['paper','cellphone','money']\n",
    "if 'money' in pocket:\n",
    "    print(\"택시를 타고 가라\")\n",
    "else:\n",
    "    print(\"걸어 가라\")"
   ]
  },
  {
   "cell_type": "markdown",
   "id": "5c5fc609",
   "metadata": {},
   "source": [
    "['paper', 'cellphone', 'money'] 리스트 안에 'money'가 있으므로 'money' in pocket은 참이 된다. 따라서 if문 다음 문장이 수행된다."
   ]
  },
  {
   "cell_type": "markdown",
   "id": "19306e4a",
   "metadata": {},
   "source": [
    "## 다양한 조건을 판단하는  elif\n",
    "if와 else만으로 다양한 조건을 판단하기 어렵다. 다음 예를 보더라도 if와 else만으로는 조건을 판단하는데 어려움을 겪게 된다.<br>\n",
    "- 주머니에 돈이 있으면 택시를 타고, 주머니에 돈은 없지만 카드가 있으면 택시를 타고, 돈도 없고 카드도 없으면 걸어가라."
   ]
  },
  {
   "cell_type": "markdown",
   "id": "bb09beb2",
   "metadata": {},
   "source": [
    "위 문장을 보면 조건을 판단하는 부분이 두 군데가 있다. 먼저 주머니에 돈이 있는지를 판단해야 하고 주머니에 돈이 없으면 다시 카드가 있는지 판단해야 한다.<br>\n",
    "if와 else만으로 위 문장을 표현하려면 다음과 같이 할 수 있다."
   ]
  },
  {
   "cell_type": "code",
   "execution_count": 28,
   "id": "a19dcb9e",
   "metadata": {},
   "outputs": [
    {
     "name": "stdout",
     "output_type": "stream",
     "text": [
      "택시를 타고 가라\n"
     ]
    }
   ],
   "source": [
    "pecket=['paper','cellphone']\n",
    "card=True\n",
    "if'money'in pocket:\n",
    "    print(\"택시를 타고 가라\")\n",
    "else:\n",
    "    if card:\n",
    "        print(\"택시를 타고 가라\")\n",
    "    else:\n",
    "        print(\"걸어가라\")"
   ]
  },
  {
   "cell_type": "markdown",
   "id": "524332d1",
   "metadata": {},
   "source": [
    "언뜻 보기에도 이해하기 어렵고 산만한 느낌이 든다. 이런 복잡함을 해결하기 위해 파이썬에서는 다중 조건 판단을 가능하게 하는 elif를 사용한다.<br>위 예를 elif 를 사용하면 다음과 같이 바꿀 수 있다."
   ]
  },
  {
   "cell_type": "code",
   "execution_count": 29,
   "id": "137513c8",
   "metadata": {},
   "outputs": [
    {
     "name": "stdout",
     "output_type": "stream",
     "text": [
      "택시를 타고 가라\n"
     ]
    }
   ],
   "source": [
    "pocket=['paper','cellphone']\n",
    "card=True\n",
    "if 'money' in pocket:\n",
    "    print(\"택시를 타고 가라\")\n",
    "elif card:\n",
    "    print(\"택시를 타고 가라\")\n",
    "else:\n",
    "    print(\"걸어 가라\")"
   ]
  },
  {
   "cell_type": "markdown",
   "id": "669650d2",
   "metadata": {},
   "source": [
    "즉 elif는 이전 조건문이 거짓일 때 수행된다. if, elif, else를 모두 사용할 때 기본 구조는 오른쪽과 같다."
   ]
  },
  {
   "cell_type": "markdown",
   "id": "fbb9c287",
   "metadata": {},
   "source": [
    "### if 조건문:\n",
    "- 수행할 문장 1-1\n",
    "- 수행할 문장 1-2\n",
    "- .....<br>\n",
    "### elif 조건문2:\n",
    "- 수행할 문장 2-1\n",
    "- 수행할 문장 2-1\n",
    "- .....<br>\n",
    "### elif 조건문N:\n",
    "- 수행할 문장 N-1\n",
    "- 수행할 문장 N-2\n",
    "- .....<br>\n",
    "....\n",
    "#### else\n",
    "- 수행할 문장A\n",
    "- 수행할 문장B\n",
    "- ......"
   ]
  },
  {
   "cell_type": "markdown",
   "id": "01a972e2",
   "metadata": {},
   "source": [
    "## 조건부 표현식\n",
    "다음 같은 코드를 보자."
   ]
  },
  {
   "cell_type": "markdown",
   "id": "6750d159",
   "metadata": {},
   "source": [
    "if score >=60:\n",
    "    message=\"success\"\n",
    "else:\n",
    "    message=\"failure\""
   ]
  },
  {
   "cell_type": "markdown",
   "id": "e44263b9",
   "metadata": {},
   "source": [
    "위 코드는 score가 60 이상일 경우 message에 문자열에 \"success\"를, 아닐 경우에는 \"failure\"를 대입하는 코드이다.<br> 파이썬의 조건부 표현식을 사용하면 위 코드를 다음과 같이 간단히 표현할 수 있다."
   ]
  },
  {
   "cell_type": "markdown",
   "id": "c4ce3a4e",
   "metadata": {},
   "source": [
    "message=\"success\" if score >=60 else \"failure\""
   ]
  },
  {
   "cell_type": "markdown",
   "id": "46c1669b",
   "metadata": {},
   "source": [
    "조건부 표현식은 다음과 같이 정의한다."
   ]
  },
  {
   "cell_type": "markdown",
   "id": "111575c7",
   "metadata": {},
   "source": [
    "조건문이 참인 경우 if 조건문 else 조건문이 거짓인 경우<br>\n",
    "조건부 표현식은 가독성에 유리하고 한 줄로 작성할 수 있어 활용성이 좋다."
   ]
  },
  {
   "cell_type": "markdown",
   "id": "827adccb",
   "metadata": {},
   "source": [
    "출처 : \"점프투파이썬\""
   ]
  }
 ],
 "metadata": {
  "kernelspec": {
   "display_name": "Python 3",
   "language": "python",
   "name": "python3"
  },
  "language_info": {
   "codemirror_mode": {
    "name": "ipython",
    "version": 3
   },
   "file_extension": ".py",
   "mimetype": "text/x-python",
   "name": "python",
   "nbconvert_exporter": "python",
   "pygments_lexer": "ipython3",
   "version": "3.8.8"
  }
 },
 "nbformat": 4,
 "nbformat_minor": 5
}
