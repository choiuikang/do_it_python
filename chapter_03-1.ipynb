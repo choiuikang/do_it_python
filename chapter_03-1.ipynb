{
 "cells": [
  {
   "cell_type": "markdown",
   "id": "6cf4f313",
   "metadata": {},
   "source": [
    "# if문\n",
    "## if문은 왜 필요할까?\n",
    "다음과 같은 상상을 해보자<br>\n",
    "돈이 있으면 택시를 타고, 돈이 없으면 걸어간다.<br>\n",
    "우리 모두에게 일어날 수 있는 상황 중 하나이다. 프로그래밍도 사람이 하는 것이므로 위 문장처럼 주어진 조건을 판단한 후 그 상황에 맞게 처리해야 할 경우가 생긴다. 이렇듯 프로그래밍에서 조건을 판단하여 해당 조건에 맞는 상황을 수행하는 데 쓰는 것이 바로 if문이다.<br>\n",
    "위와 같은 상황을 파이썬에서는 다음과 같이 표현할 수 있다."
   ]
  },
  {
   "cell_type": "code",
   "execution_count": 2,
   "id": "25172a36",
   "metadata": {},
   "outputs": [
    {
     "name": "stdout",
     "output_type": "stream",
     "text": [
      "택시를 타고 가라\n"
     ]
    }
   ],
   "source": [
    "money=True\n",
    "if money:\n",
    "    print(\"택시를 타고 가라\")\n",
    "else:\n",
    "        print(\"걸어 가라\")"
   ]
  },
  {
   "cell_type": "markdown",
   "id": "c457b659",
   "metadata": {},
   "source": [
    "##  if문의 기본 구조\n",
    "if 조건문: <br>\n",
    "- 수행할 문장1\n",
    "- 수행할 문장2\n",
    "- .....<br>\n",
    "else:<br>\n",
    "- 수행할 문장A\n",
    "- 수행할 문장B\n",
    "- .....<br>\n",
    "\n",
    "조건문을 테스트해서 참이면 if문 바로 다음 문장들을 수행하고, 조건문이 거짓이면 else문 다음 문장들을 수행하게 된다. 그러므로 else문은 if문 없이 독립적으로 사용할 수 없다."
   ]
  },
  {
   "cell_type": "markdown",
   "id": "93596402",
   "metadata": {},
   "source": [
    "### 들여쓰기\n",
    "if 조건문:\n",
    "- \n",
    "if문을 만들 때는 if조건문: 바로 아래 문장부터 if문에 속하는 모든 문장에 들여쓰기를 해주어야 한다. 위에서 보는 것과 같이 조건문이 참일 경우  '수행할 문장1'을 들여쓰기했고 '수행할 문장2'와 '수행할 문장3'도 들여쓰기 해 주었다. 다른 프로그래밍 언어를 사용해 온 사람들은 파이썬에서 '수행할 문장'을 들여쓰기하는 것을 무시하는 경우가 많으니 더 주의 해야한다."
   ]
  },
  {
   "cell_type": "code",
   "execution_count": null,
   "id": "5cfdd440",
   "metadata": {},
   "outputs": [],
   "source": []
  }
 ],
 "metadata": {
  "kernelspec": {
   "display_name": "Python 3",
   "language": "python",
   "name": "python3"
  },
  "language_info": {
   "codemirror_mode": {
    "name": "ipython",
    "version": 3
   },
   "file_extension": ".py",
   "mimetype": "text/x-python",
   "name": "python",
   "nbconvert_exporter": "python",
   "pygments_lexer": "ipython3",
   "version": "3.8.8"
  }
 },
 "nbformat": 4,
 "nbformat_minor": 5
}
