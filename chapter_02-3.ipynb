{
 "cells": [
  {
   "cell_type": "markdown",
   "id": "8209a63b",
   "metadata": {},
   "source": [
    "## 02-3 리스트 자료형\n",
    "지금까지 우리는 숫자와 문자열에 대해서 알아보았다. 하지만 숫자와 문자열만으로 프로그래밍을 하기엔 부족함 점이 많다. 예를 들어 1부터 10까지의 숫자 중 홀수 모음인 1,3,5,7,9 의 집합을 생각해 보자. 이런 숫자 모음을 숫자나 문자열로 표현하기는 쉽지 않다. 파이썬에는 이러한 불편함을 해소할 수 있는 자료형이 존재한다. 그것이 바로 여기에서 공부할 리스트이다."
   ]
  },
  {
   "cell_type": "markdown",
   "id": "1a685da9",
   "metadata": {},
   "source": [
    "## 리스트는 어떻게 만들고 사용할까?\n",
    "리스트를 사용하려면 1,3,5,7,9 숫자 모음을 다음과 같이 간단하게 표현할 수 있다."
   ]
  },
  {
   "cell_type": "code",
   "execution_count": 1,
   "id": "9b0f955c",
   "metadata": {},
   "outputs": [],
   "source": [
    "odd=[1,3,5,7,9]"
   ]
  },
  {
   "cell_type": "markdown",
   "id": "00122d60",
   "metadata": {},
   "source": [
    "리스트를 만들 떄는 위에서 보는 것과 같이 대괄호([])로 감싸 주고 각 요솟값은 쉼표(,)로 구분해 준다.\n",
    "리스트명= [요소1, 요소2, 요소3, .....]"
   ]
  },
  {
   "cell_type": "markdown",
   "id": "18628658",
   "metadata": {},
   "source": [
    "여러 가지 리스트의 생김새를 살펴보면 다음과 같다."
   ]
  },
  {
   "cell_type": "code",
   "execution_count": 2,
   "id": "0105ac53",
   "metadata": {},
   "outputs": [],
   "source": [
    "a=[]\n",
    "b=[1, 2, 3]\n",
    "c=['Life', 'is', 'too', 'short']\n",
    "d=[1, 2, 'Life', 'is']\n",
    "e=[1,2,['Life', 'is']]"
   ]
  },
  {
   "cell_type": "markdown",
   "id": "750093f9",
   "metadata": {},
   "source": [
    "리스트는 a처럼 아무것도 포함하지 않아 비어 있는 리스트([])일 수도 있고 b처럼 숫자를 요솟값으로 가질 수도 있고 c처럼 문자열을 요솟값으로 가질 수도 있다. 또한 d처럼 숫자와 문자열을 함께 요솟값으로 가질 수도 있으며 e처럼 리스트자체를 요솟값으로 가질 수도 있다. 즉 리스트 안에는 어떠한 자료형도 포함시킬 수 있다."
   ]
  },
  {
   "cell_type": "markdown",
   "id": "dd00114c",
   "metadata": {},
   "source": [
    "## 리스트 인덱싱과 슬라이싱\n",
    "리스트도 문자열처럼 인덱싱과 슬라이싱이 가능하다. 백문이 불여일견. 말로 설명하는 것보다 직접 예를 실행해 보면서 리스트의 기본 구조를 이해하는 것이 쉽다. 대화형 인터프리터로 따라 하며 확실하게 이해하자.\n",
    "\n",
    "### 리스트의 인덱싱\n",
    "리스트 역시 문자열처럼 인덱싱을 적용 할 수 있다. 먼저 a 변수에 [1,2,3,] 값을 설정한다."
   ]
  },
  {
   "cell_type": "code",
   "execution_count": 3,
   "id": "44d0bd75",
   "metadata": {},
   "outputs": [
    {
     "data": {
      "text/plain": [
       "[1, 2, 3]"
      ]
     },
     "execution_count": 3,
     "metadata": {},
     "output_type": "execute_result"
    }
   ],
   "source": [
    "a=[1,2,3]\n",
    "a"
   ]
  },
  {
   "cell_type": "markdown",
   "id": "f7076f4d",
   "metadata": {},
   "source": [
    "a[0]은 리스트a의 첫 번째 요솟값을 말한다."
   ]
  },
  {
   "cell_type": "code",
   "execution_count": 4,
   "id": "2f91e1b1",
   "metadata": {},
   "outputs": [
    {
     "data": {
      "text/plain": [
       "1"
      ]
     },
     "execution_count": 4,
     "metadata": {},
     "output_type": "execute_result"
    }
   ],
   "source": [
    "a[0]"
   ]
  },
  {
   "cell_type": "markdown",
   "id": "36b73dd5",
   "metadata": {},
   "source": [
    "다음 예는 리스트의 첫 번째 요소인 a[0]과 세 번째 요소인 a[2]의 값을 더한 것이다."
   ]
  },
  {
   "cell_type": "code",
   "execution_count": 6,
   "id": "b10fb0df",
   "metadata": {},
   "outputs": [
    {
     "data": {
      "text/plain": [
       "4"
      ]
     },
     "execution_count": 6,
     "metadata": {},
     "output_type": "execute_result"
    }
   ],
   "source": [
    "a[0]+a[2]"
   ]
  },
  {
   "cell_type": "markdown",
   "id": "a8ddfc1d",
   "metadata": {},
   "source": [
    "이것은 1+3으로 해석되어 값 4를 출력한다."
   ]
  },
  {
   "cell_type": "markdown",
   "id": "2e5df38f",
   "metadata": {},
   "source": [
    "문자열을 공부할 때 이미 살펴보았지만 파이썬은 숫자를 0부터 세기 떄문에 a[1]이 리스트 a의 첫 번째 요소가 아니라 a[0]이 리스트 a의 첫 번째 요소임을 명심하자. a[-1]은 문자열에서와 마찬가지로 리스트 a의 마지막 요솟값을 말한다."
   ]
  },
  {
   "cell_type": "code",
   "execution_count": 7,
   "id": "2a27a969",
   "metadata": {},
   "outputs": [
    {
     "data": {
      "text/plain": [
       "3"
      ]
     },
     "execution_count": 7,
     "metadata": {},
     "output_type": "execute_result"
    }
   ],
   "source": [
    "a[-1]"
   ]
  },
  {
   "cell_type": "markdown",
   "id": "88e7d5d3",
   "metadata": {},
   "source": [
    "이번에는 다음 예처럼 리스트 a를 숫자 1,2,3rhk Eh ekfms fltmxmdls ['a','b','c']를 포함하도록 만들어 보자."
   ]
  },
  {
   "cell_type": "code",
   "execution_count": 8,
   "id": "ab16157f",
   "metadata": {},
   "outputs": [],
   "source": [
    "a=[1,2,3,['a','b','c']]"
   ]
  },
  {
   "cell_type": "markdown",
   "id": "4489aa14",
   "metadata": {},
   "source": [
    "다음 예를 따라 해보자"
   ]
  },
  {
   "cell_type": "code",
   "execution_count": 9,
   "id": "e12a9f3a",
   "metadata": {},
   "outputs": [
    {
     "data": {
      "text/plain": [
       "1"
      ]
     },
     "execution_count": 9,
     "metadata": {},
     "output_type": "execute_result"
    }
   ],
   "source": [
    "a[0]"
   ]
  },
  {
   "cell_type": "code",
   "execution_count": 10,
   "id": "286e18a9",
   "metadata": {},
   "outputs": [
    {
     "data": {
      "text/plain": [
       "['a', 'b', 'c']"
      ]
     },
     "execution_count": 10,
     "metadata": {},
     "output_type": "execute_result"
    }
   ],
   "source": [
    "a[-1]"
   ]
  },
  {
   "cell_type": "code",
   "execution_count": 11,
   "id": "459990b9",
   "metadata": {},
   "outputs": [
    {
     "data": {
      "text/plain": [
       "['a', 'b', 'c']"
      ]
     },
     "execution_count": 11,
     "metadata": {},
     "output_type": "execute_result"
    }
   ],
   "source": [
    "a[3]"
   ]
  },
  {
   "cell_type": "markdown",
   "id": "97f7aceb",
   "metadata": {},
   "source": [
    "예상한 대로 a[-1]은 마지막 요솟값['a','b','c']를 나타낸다 a[3]은 리스트의 a의 네 번째 요소를 나타내기 때문에 마지막 요소를 나타내는 a[-1]과 동일한 결괏값을 보여준다.<br> 그렇다면 여기에서 리스트 a에 포함된 ['a','b','c']리스트에서 'a'값을 인덱싱을 사용해 끄집어낼 수 있는 방법은 없을까? 다음 예를 보자"
   ]
  },
  {
   "cell_type": "code",
   "execution_count": 12,
   "id": "f8c24e59",
   "metadata": {},
   "outputs": [
    {
     "data": {
      "text/plain": [
       "'a'"
      ]
     },
     "execution_count": 12,
     "metadata": {},
     "output_type": "execute_result"
    }
   ],
   "source": [
    "a[-1][0]"
   ]
  },
  {
   "cell_type": "markdown",
   "id": "978a1e98",
   "metadata": {},
   "source": [
    "위와 같이 하면 'a'를 끄집어낼 수 있다. a[-1]이 ['a','b','c']리스트라는 것은 이미 말했다. 바로 이 리스트에서 첫 번째 요소를 불러오기 위해 [0]을 붙여 준 것이다.<br>다음 예도 마찬가지 경우이므로 어렵지 않게 이해될 것이다."
   ]
  },
  {
   "cell_type": "code",
   "execution_count": 13,
   "id": "20bdb84d",
   "metadata": {},
   "outputs": [
    {
     "data": {
      "text/plain": [
       "'b'"
      ]
     },
     "execution_count": 13,
     "metadata": {},
     "output_type": "execute_result"
    }
   ],
   "source": [
    "a[-1][1]"
   ]
  },
  {
   "cell_type": "code",
   "execution_count": 14,
   "id": "675e59db",
   "metadata": {},
   "outputs": [
    {
     "data": {
      "text/plain": [
       "'c'"
      ]
     },
     "execution_count": 14,
     "metadata": {},
     "output_type": "execute_result"
    }
   ],
   "source": [
    "a[-1][2]"
   ]
  },
  {
   "cell_type": "markdown",
   "id": "679275bb",
   "metadata": {},
   "source": [
    "### 삼중 리스트에서 인덱싱하기\n",
    "조금 복잡하지만 다음 예를 따라 해 보자."
   ]
  },
  {
   "cell_type": "code",
   "execution_count": 18,
   "id": "143520b2",
   "metadata": {},
   "outputs": [],
   "source": [
    "a=[1,2,['a','b',['Life', 'is']]]"
   ]
  },
  {
   "cell_type": "markdown",
   "id": "c2b504c1",
   "metadata": {},
   "source": [
    "리스트 a 안에 ['a','b',['Life','is']] 리스트가 포함되어 있고, 그 리스트 안에 다시 ['Life', 'is'] 리스트가 포함되어 있다. 삼중 구조의 리스트이다.<br> 이경우 'Life' 문자열만 끄집어내려면 다음과 같이 해야한다."
   ]
  },
  {
   "cell_type": "code",
   "execution_count": 20,
   "id": "3a4f2f46",
   "metadata": {},
   "outputs": [
    {
     "data": {
      "text/plain": [
       "'Life'"
      ]
     },
     "execution_count": 20,
     "metadata": {},
     "output_type": "execute_result"
    }
   ],
   "source": [
    "a[2][2][0]"
   ]
  },
  {
   "cell_type": "markdown",
   "id": "1190c082",
   "metadata": {},
   "source": [
    "위 예는 리스트 a의 세 번째 요소인 리스트 ['a','b'['Life', 'is']]에서 세 번째 요소인 리스트 ['Life', 'is']의 첫 번째 요소를 나타낸다.<br> 이렇듯 리스트 삼중으로 중첨해서 쓰면 혼란스럽기 때문에 자주 사용하지는 않지만 알아두는 것이 좋다."
   ]
  },
  {
   "cell_type": "markdown",
   "id": "f379faef",
   "metadata": {},
   "source": [
    "### 리스트의 슬라이싱\n",
    "\n",
    "문자열과 마찬가지로 리스트에서도 슬라이싱 기법을 적용할 수 있다. 슬라이싱은 '나눈다'는 뜻이라고 했다.<br> 자, 그럼 리스트의 슬라이싱에 대해서 살펴보자"
   ]
  },
  {
   "cell_type": "code",
   "execution_count": 25,
   "id": "c8ff4c19",
   "metadata": {},
   "outputs": [
    {
     "data": {
      "text/plain": [
       "[1, 2]"
      ]
     },
     "execution_count": 25,
     "metadata": {},
     "output_type": "execute_result"
    }
   ],
   "source": [
    "a=[1,2,3,4,5]\n",
    "a[0:2]"
   ]
  },
  {
   "cell_type": "markdown",
   "id": "9bf3b24a",
   "metadata": {},
   "source": [
    "앞의 예를 문자열에서 슬라이싱했던 것과 비교해 보자."
   ]
  },
  {
   "cell_type": "code",
   "execution_count": 28,
   "id": "c9a40777",
   "metadata": {},
   "outputs": [
    {
     "data": {
      "text/plain": [
       "'12'"
      ]
     },
     "execution_count": 28,
     "metadata": {},
     "output_type": "execute_result"
    }
   ],
   "source": [
    "a=\"12345\"\n",
    "a[0:2]"
   ]
  },
  {
   "cell_type": "markdown",
   "id": "91b19302",
   "metadata": {},
   "source": [
    "2가지가 완전히 동일하게 사용되었음을 눈치챘을 것이다. 문자열에서 했던 것과 사용법이 완전히 동일하다.<br> 몇가지 예를 더 들어 보자."
   ]
  },
  {
   "cell_type": "code",
   "execution_count": 30,
   "id": "f20a4076",
   "metadata": {},
   "outputs": [
    {
     "data": {
      "text/plain": [
       "[1, 2]"
      ]
     },
     "execution_count": 30,
     "metadata": {},
     "output_type": "execute_result"
    }
   ],
   "source": [
    "a=[1,2,3,4,5]\n",
    "b=a[:2]\n",
    "c=a[2:]\n",
    "b"
   ]
  },
  {
   "cell_type": "code",
   "execution_count": 31,
   "id": "95661c9b",
   "metadata": {},
   "outputs": [
    {
     "data": {
      "text/plain": [
       "[3, 4, 5]"
      ]
     },
     "execution_count": 31,
     "metadata": {},
     "output_type": "execute_result"
    }
   ],
   "source": [
    "c"
   ]
  },
  {
   "cell_type": "markdown",
   "id": "d06e5904",
   "metadata": {},
   "source": [
    "b 변수는 리스트 a의 첫 번째 요소부터 두 번째 요소인 a[1]까지 나타내는 리스트이다. 물론 a[2] 값인 3은 포함되지 않는다. c라는 변수는 리스트 a의 세 번째 요소부터 끝까지 나타내는 리스트이다."
   ]
  },
  {
   "cell_type": "markdown",
   "id": "0c767b1c",
   "metadata": {},
   "source": [
    "### a=[1,2,3,4,5] 리스트에서 슬라이싱 기법을 사용하여 리스트 [2,3]를 만들어 보자."
   ]
  },
  {
   "cell_type": "code",
   "execution_count": 32,
   "id": "7877f687",
   "metadata": {},
   "outputs": [
    {
     "data": {
      "text/plain": [
       "[2, 3]"
      ]
     },
     "execution_count": 32,
     "metadata": {},
     "output_type": "execute_result"
    }
   ],
   "source": [
    "a[1:3]"
   ]
  },
  {
   "cell_type": "markdown",
   "id": "e441396f",
   "metadata": {},
   "source": [
    "### 중첩된 리스트에서 슬라이싱하기\n",
    "리스트가 포함된 중첩 리스트 역시 슬라이싱 방법은 똑같이 적용된다."
   ]
  },
  {
   "cell_type": "code",
   "execution_count": 34,
   "id": "94c76b0e",
   "metadata": {},
   "outputs": [
    {
     "data": {
      "text/plain": [
       "[3, ['a', 'b', 'c'], 4]"
      ]
     },
     "execution_count": 34,
     "metadata": {},
     "output_type": "execute_result"
    }
   ],
   "source": [
    "a=[1,2,3,['a','b','c'],4,5]\n",
    "a[2:5]"
   ]
  },
  {
   "cell_type": "code",
   "execution_count": 35,
   "id": "dd3b741b",
   "metadata": {},
   "outputs": [
    {
     "data": {
      "text/plain": [
       "['a', 'b']"
      ]
     },
     "execution_count": 35,
     "metadata": {},
     "output_type": "execute_result"
    }
   ],
   "source": [
    "a[3][:2]"
   ]
  },
  {
   "cell_type": "markdown",
   "id": "60fb581b",
   "metadata": {},
   "source": [
    "위 예에서 a[3]은 ['a','b','c']를 나타낸다. 따라서 a[3][:2]는 ['a','b','c']의 첫 번 째 요소부터 세 번째 요소직전까지의 값, 즉 ['a','b']를 나타내는 리스트가 된다."
   ]
  },
  {
   "cell_type": "markdown",
   "id": "f2c47300",
   "metadata": {},
   "source": [
    "## 리스트 연산하기\n",
    "리스트 역시 + 기호를 사용해서 더할 수 있고 * 기호를 사용해서 반복할 수 있다.<br> 문자열과 마찬가지로 리스트에서도 되는지 직접 확인해 보자."
   ]
  },
  {
   "cell_type": "markdown",
   "id": "20584db0",
   "metadata": {},
   "source": [
    "### 1. 리스트 더하기(+)"
   ]
  },
  {
   "cell_type": "code",
   "execution_count": 36,
   "id": "ec5f9e87",
   "metadata": {},
   "outputs": [
    {
     "data": {
      "text/plain": [
       "[1, 2, 3, 4, 5, 6]"
      ]
     },
     "execution_count": 36,
     "metadata": {},
     "output_type": "execute_result"
    }
   ],
   "source": [
    "a=[1,2,3]\n",
    "b=[4,5,6]\n",
    "a+b"
   ]
  },
  {
   "cell_type": "markdown",
   "id": "8e503579",
   "metadata": {},
   "source": [
    "리스트 사이에서 + 기호는 2개의 리스트를 합치는 기능을 한다. 문자열에서 \"abc\"+\"def\"=\"abcdef\"가 되는 것과 같은 이치이다."
   ]
  },
  {
   "cell_type": "markdown",
   "id": "378b1de3",
   "metadata": {},
   "source": [
    "### 2. 리스트 반복하기(*)"
   ]
  },
  {
   "cell_type": "code",
   "execution_count": 37,
   "id": "a5ed0c96",
   "metadata": {},
   "outputs": [
    {
     "data": {
      "text/plain": [
       "[1, 2, 3, 1, 2, 3, 1, 2, 3]"
      ]
     },
     "execution_count": 37,
     "metadata": {},
     "output_type": "execute_result"
    }
   ],
   "source": [
    "a=[1,2,3]\n",
    "a*3"
   ]
  },
  {
   "cell_type": "markdown",
   "id": "92b906e6",
   "metadata": {},
   "source": [
    "위에서 볼 수 있듯이 [1,2,3]리스트가 세 번 반복되어 새로운 리스트를 만들어낸다.문자열에서 \"abc\"*3=\"abcabcabc\"가 되는 것과 같은 이치이다."
   ]
  },
  {
   "cell_type": "markdown",
   "id": "65834fb5",
   "metadata": {},
   "source": [
    "### 3. 리스트 길이 구하기\n",
    "리스트 길이를 구하기 위해서는 다음처럼 len 함수를 사용해야 한다."
   ]
  },
  {
   "cell_type": "code",
   "execution_count": 38,
   "id": "9a15af69",
   "metadata": {},
   "outputs": [
    {
     "data": {
      "text/plain": [
       "3"
      ]
     },
     "execution_count": 38,
     "metadata": {},
     "output_type": "execute_result"
    }
   ],
   "source": [
    "a=[1,2,3]\n",
    "len(a)"
   ]
  },
  {
   "cell_type": "markdown",
   "id": "34f351eb",
   "metadata": {},
   "source": [
    "len 함수는 문자열, 리스트 외에 앞으로 배울 튜플과 딕셔너리에도 사용할 수 있는 함수이다.<br> 실습에서 자주 사용하니 잘 기억해 두자."
   ]
  },
  {
   "cell_type": "markdown",
   "id": "a54e3cb1",
   "metadata": {},
   "source": [
    "### 초보자가 실수하기 쉬운 리스트 연산 오류\n",
    "다음 소스 코드를 입력했을 때 결괏값은 어떻게 나올까?"
   ]
  },
  {
   "cell_type": "code",
   "execution_count": 40,
   "id": "c2322bf6",
   "metadata": {},
   "outputs": [
    {
     "ename": "TypeError",
     "evalue": "unsupported operand type(s) for +: 'int' and 'str'",
     "output_type": "error",
     "traceback": [
      "\u001b[1;31m---------------------------------------------------------------------------\u001b[0m",
      "\u001b[1;31mTypeError\u001b[0m                                 Traceback (most recent call last)",
      "\u001b[1;32m<ipython-input-40-cbe88503903d>\u001b[0m in \u001b[0;36m<module>\u001b[1;34m\u001b[0m\n\u001b[0;32m      1\u001b[0m \u001b[0ma\u001b[0m\u001b[1;33m=\u001b[0m\u001b[1;33m[\u001b[0m\u001b[1;36m1\u001b[0m\u001b[1;33m,\u001b[0m\u001b[1;36m2\u001b[0m\u001b[1;33m,\u001b[0m\u001b[1;36m3\u001b[0m\u001b[1;33m]\u001b[0m\u001b[1;33m\u001b[0m\u001b[1;33m\u001b[0m\u001b[0m\n\u001b[1;32m----> 2\u001b[1;33m \u001b[0ma\u001b[0m\u001b[1;33m[\u001b[0m\u001b[1;36m2\u001b[0m\u001b[1;33m]\u001b[0m\u001b[1;33m+\u001b[0m\u001b[1;34m\"hi\"\u001b[0m\u001b[1;33m\u001b[0m\u001b[1;33m\u001b[0m\u001b[0m\n\u001b[0m",
      "\u001b[1;31mTypeError\u001b[0m: unsupported operand type(s) for +: 'int' and 'str'"
     ]
    }
   ],
   "source": [
    "a=[1,2,3]\n",
    "a[2]+\"hi\""
   ]
  },
  {
   "cell_type": "markdown",
   "id": "4fbd9c0e",
   "metadata": {},
   "source": [
    "\n",
    "a[2]의 값인 3과 문자열 hi가 더해져서 3hi가 출력될 것이라고 생각할 수 있다.<br> 하지만 다음 결과를 보자. 형 오류가 발생했다. 오류의 원인은 무엇일까?<br> a[2]에 저장된 값은 3이라는 정수인데 \"hi\"는 문자열이다. 정수와 문자열은 당연히 서루 더할 수 없기 때문에 형 오류가 발생하는 것이다. <br> 만약 숫자와 문자열을 더해서 '3hi'처럼 만들고 싶다면 숫자 3을문자'3'으로 바꾸어 주어야 한다.<br> 다음과 같이 할 수 있다."
   ]
  },
  {
   "cell_type": "code",
   "execution_count": 41,
   "id": "3b328ae9",
   "metadata": {},
   "outputs": [
    {
     "data": {
      "text/plain": [
       "'3hi'"
      ]
     },
     "execution_count": 41,
     "metadata": {},
     "output_type": "execute_result"
    }
   ],
   "source": [
    "str(a[2])+\"hi\""
   ]
  },
  {
   "cell_type": "markdown",
   "id": "d8f0f908",
   "metadata": {},
   "source": [
    "str함수는 정수나 실수를 문자열의 형태로 바꾸어 주는 파이썬의 내장 함수이다."
   ]
  },
  {
   "cell_type": "markdown",
   "id": "251080a1",
   "metadata": {},
   "source": [
    "## 리스트의 수정과 삭제\n",
    "리스트는 값을 수정하거나 삭제할 수 있다.\n",
    "### 리스트에서 값 수정하기"
   ]
  },
  {
   "cell_type": "code",
   "execution_count": 43,
   "id": "766ee8bc",
   "metadata": {},
   "outputs": [
    {
     "data": {
      "text/plain": [
       "[1, 2, 4]"
      ]
     },
     "execution_count": 43,
     "metadata": {},
     "output_type": "execute_result"
    }
   ],
   "source": [
    "a=[1,2,3]\n",
    "a[2]=4\n",
    "a"
   ]
  },
  {
   "cell_type": "markdown",
   "id": "8ee2d835",
   "metadata": {},
   "source": [
    "a[2]의 요솟값 3이4로 바뀌었다.\n",
    "### del 함수 사용해 리스트 요소 삭제하기"
   ]
  },
  {
   "cell_type": "code",
   "execution_count": 44,
   "id": "bf850f1c",
   "metadata": {},
   "outputs": [
    {
     "data": {
      "text/plain": [
       "[1, 3]"
      ]
     },
     "execution_count": 44,
     "metadata": {},
     "output_type": "execute_result"
    }
   ],
   "source": [
    "a=[1,2,3]\n",
    "del a[1]\n",
    "a"
   ]
  },
  {
   "cell_type": "markdown",
   "id": "02168097",
   "metadata": {},
   "source": [
    "del a[x]는 x번째 요솟값을 삭제한다. 여기에서는 a 리스트에서 a[1]을 삭제하는 방법을 보여준다. del 함수는 파이썬이 자체적으로 가지고 있는 삭제 함수이며 다음과 같이 사용한다."
   ]
  },
  {
   "cell_type": "markdown",
   "id": "9e01257a",
   "metadata": {},
   "source": [
    "del 객체  (객체란 파이썬에서 사용되는 모든 자료형을 말한다.) <br> 다음처럼 슬라이싱 기법을 사용하여 리스트의 요소 러거 개를 한꺼번에 삭제할 수도 있다."
   ]
  },
  {
   "cell_type": "code",
   "execution_count": 46,
   "id": "d19e4a57",
   "metadata": {},
   "outputs": [
    {
     "data": {
      "text/plain": [
       "[1, 2]"
      ]
     },
     "execution_count": 46,
     "metadata": {},
     "output_type": "execute_result"
    }
   ],
   "source": [
    "a=[1,2,3,4,5]\n",
    "del a[2:]\n",
    "a"
   ]
  },
  {
   "cell_type": "markdown",
   "id": "47d43ad9",
   "metadata": {},
   "source": [
    "a[2:]에 해당하는 리스트의 요소들이 삭제 되었따. 리스트의 요소를 삭제하는 방법에는 2가지가 더있다. 그것은 리스트의 remove와 pop 함수를 사용하는 방법인데 이것에 대해서는 바로 이어지는 리스트 관련 함수에서 설명한다."
   ]
  },
  {
   "cell_type": "markdown",
   "id": "fb40cb6c",
   "metadata": {},
   "source": [
    "## 리스트 관련 함수\n",
    "문자열과 마잔가지로 리스트 변수 이름 뒤에 '.'를 붙여서 여러가지 리스트 관련 함수를 사용할 수 있다. 유용하게 사용되는 리스트 관련 함수 몇가지에 대해서만 알아보기로 하자.\n",
    "### 리스트에 요소 추가(append)\n",
    "append를 사전에 검색해 보면 '덧붙이다, 첨부하다'라는 뜻이 있다. 이뜻을 안다면 다음 예가 바로 이해될 것이다. append(x)는 리스트의 맨 마지막에 x를 추가하는 함수이다."
   ]
  },
  {
   "cell_type": "code",
   "execution_count": 50,
   "id": "8b0051c8",
   "metadata": {},
   "outputs": [
    {
     "data": {
      "text/plain": [
       "[1, 2, 3, 4]"
      ]
     },
     "execution_count": 50,
     "metadata": {},
     "output_type": "execute_result"
    }
   ],
   "source": [
    "a=[1,2,3]\n",
    "a.append(4)\n",
    "a"
   ]
  },
  {
   "cell_type": "markdown",
   "id": "c7f11bf0",
   "metadata": {},
   "source": [
    "리스트 안에는 어떤 자료형도 추가할 수 있다.<br>다음 예는 리스트에 다시 리스트를 추가한 결과이다."
   ]
  },
  {
   "cell_type": "code",
   "execution_count": 51,
   "id": "67b1facb",
   "metadata": {},
   "outputs": [
    {
     "data": {
      "text/plain": [
       "[1, 2, 3, 4, [5, 6]]"
      ]
     },
     "execution_count": 51,
     "metadata": {},
     "output_type": "execute_result"
    }
   ],
   "source": [
    "a.append([5,6])\n",
    "a"
   ]
  },
  {
   "cell_type": "markdown",
   "id": "728f5cfe",
   "metadata": {},
   "source": [
    "### 리스트 정렬(sort)\n",
    "sort 함수는 리스트의 요소를 순서대로 정렬해 준다."
   ]
  },
  {
   "cell_type": "code",
   "execution_count": 52,
   "id": "b553caa2",
   "metadata": {},
   "outputs": [
    {
     "data": {
      "text/plain": [
       "[1, 2, 3, 4]"
      ]
     },
     "execution_count": 52,
     "metadata": {},
     "output_type": "execute_result"
    }
   ],
   "source": [
    "a=[1,4,3,2]\n",
    "a.sort()\n",
    "a"
   ]
  },
  {
   "cell_type": "markdown",
   "id": "c272ac18",
   "metadata": {},
   "source": [
    "문자 역시 알파뱃 순서로 정렬할 수 있다."
   ]
  },
  {
   "cell_type": "code",
   "execution_count": 53,
   "id": "00962dec",
   "metadata": {},
   "outputs": [
    {
     "data": {
      "text/plain": [
       "['a', 'b', 'c']"
      ]
     },
     "execution_count": 53,
     "metadata": {},
     "output_type": "execute_result"
    }
   ],
   "source": [
    "a=['a','c','b']\n",
    "a.sort()\n",
    "a"
   ]
  },
  {
   "cell_type": "markdown",
   "id": "b7d08952",
   "metadata": {},
   "source": [
    "### 리스트 뒤집기 (reverse)\n",
    "reverse 함수는 리스트를 역순으로 뒤집어 준다. 이때 리스트 요소들을 순서대로 정렬한 다음 다시 역순으로 정렬하는 것이 아니라 그저 현재의 리스트를 그대로 거꾸로 뒤집는다."
   ]
  },
  {
   "cell_type": "code",
   "execution_count": 55,
   "id": "dd2021b3",
   "metadata": {},
   "outputs": [
    {
     "data": {
      "text/plain": [
       "['b', 'c', 'a']"
      ]
     },
     "execution_count": 55,
     "metadata": {},
     "output_type": "execute_result"
    }
   ],
   "source": [
    "a=['a','c','b']\n",
    "a.reverse()\n",
    "a"
   ]
  },
  {
   "cell_type": "markdown",
   "id": "13f78faf",
   "metadata": {},
   "source": [
    "### 위치 반환(index)\n",
    "index(x) 함수는 리스트에 x 값이 있으면 x의 위치 값을 돌려준다."
   ]
  },
  {
   "cell_type": "code",
   "execution_count": 56,
   "id": "18d6b29b",
   "metadata": {},
   "outputs": [
    {
     "data": {
      "text/plain": [
       "2"
      ]
     },
     "execution_count": 56,
     "metadata": {},
     "output_type": "execute_result"
    }
   ],
   "source": [
    "a=[1,2,3]\n",
    "a.index(3)"
   ]
  },
  {
   "cell_type": "code",
   "execution_count": 58,
   "id": "78adde3a",
   "metadata": {},
   "outputs": [
    {
     "data": {
      "text/plain": [
       "0"
      ]
     },
     "execution_count": 58,
     "metadata": {},
     "output_type": "execute_result"
    }
   ],
   "source": [
    "a.index(1)"
   ]
  },
  {
   "cell_type": "markdown",
   "id": "a36f229a",
   "metadata": {},
   "source": [
    "위 예에서 리스트 a에 있는 숫자 3의 위치는 a[2]이므로 2를 돌려주고, 숫자 1의 위치는 a[0]이므로 0을 돌려준다."
   ]
  },
  {
   "cell_type": "markdown",
   "id": "a095b3b8",
   "metadata": {},
   "source": [
    "다음 예에서 값 0은 a 리스트에 존재하지 않기 떄문에 값 오류가 발생한다."
   ]
  },
  {
   "cell_type": "code",
   "execution_count": 7,
   "id": "ebf4daea",
   "metadata": {},
   "outputs": [
    {
     "ename": "ValueError",
     "evalue": "0 is not in list",
     "output_type": "error",
     "traceback": [
      "\u001b[1;31m---------------------------------------------------------------------------\u001b[0m",
      "\u001b[1;31mValueError\u001b[0m                                Traceback (most recent call last)",
      "\u001b[1;32m<ipython-input-7-affdffa288f1>\u001b[0m in \u001b[0;36m<module>\u001b[1;34m\u001b[0m\n\u001b[1;32m----> 1\u001b[1;33m \u001b[0ma\u001b[0m\u001b[1;33m.\u001b[0m\u001b[0mindex\u001b[0m\u001b[1;33m(\u001b[0m\u001b[1;36m0\u001b[0m\u001b[1;33m)\u001b[0m\u001b[1;33m\u001b[0m\u001b[1;33m\u001b[0m\u001b[0m\n\u001b[0m",
      "\u001b[1;31mValueError\u001b[0m: 0 is not in list"
     ]
    }
   ],
   "source": [
    "a.index(0)"
   ]
  },
  {
   "cell_type": "markdown",
   "id": "3410cc41",
   "metadata": {},
   "source": [
    "### 리스트에 요소 삽입 (insert)\n",
    "inser(a,b)는 리스트의 a 번쨰 위치에 v를 삽입하는 함수이다. 파이썬에서는 숫자를 0부터 센다는 것을 반드시 기억하자."
   ]
  },
  {
   "cell_type": "code",
   "execution_count": 18,
   "id": "f75e42db",
   "metadata": {},
   "outputs": [
    {
     "data": {
      "text/plain": [
       "[4, 1, 2, 3]"
      ]
     },
     "execution_count": 18,
     "metadata": {},
     "output_type": "execute_result"
    }
   ],
   "source": [
    "a=[1,2,3]\n",
    "a.insert(0,4)\n",
    "a"
   ]
  },
  {
   "cell_type": "markdown",
   "id": "c319c2ff",
   "metadata": {},
   "source": [
    "위 예는 0번쨰 자리, 즉 첫 번째 요소(a[0]) 위치에 삽입하라는 뜻이다."
   ]
  },
  {
   "cell_type": "code",
   "execution_count": 20,
   "id": "cf22d342",
   "metadata": {},
   "outputs": [
    {
     "data": {
      "text/plain": [
       "[4, 1, 2, 5, 5, 3]"
      ]
     },
     "execution_count": 20,
     "metadata": {},
     "output_type": "execute_result"
    }
   ],
   "source": [
    "a.insert(3,5)\n",
    "a"
   ]
  },
  {
   "cell_type": "markdown",
   "id": "dab00c49",
   "metadata": {},
   "source": [
    "위 예는 리스트a의 a[3], 즉 네 번째 요소 위치에 값 5를 삽입하라는 뜻이다."
   ]
  },
  {
   "cell_type": "markdown",
   "id": "77f57223",
   "metadata": {},
   "source": [
    "### 리스트 요소 제거(remove)\n",
    "romover(x)는 리스트에서 첫 번째로 나오는 x를 삭제하는 함수이다."
   ]
  },
  {
   "cell_type": "code",
   "execution_count": 49,
   "id": "60a6f0b1",
   "metadata": {},
   "outputs": [
    {
     "data": {
      "text/plain": [
       "[1, 2, 1, 2, 3]"
      ]
     },
     "execution_count": 49,
     "metadata": {},
     "output_type": "execute_result"
    }
   ],
   "source": [
    "a=[1,2,3,1,2,3,]\n",
    "a.remove(3)\n",
    "a"
   ]
  },
  {
   "cell_type": "markdown",
   "id": "06e24cde",
   "metadata": {},
   "source": [
    "a가 3이라는 값을 2개 가지고 있을 겨우 첫 번째 3만 제거되는 것을 알 수 있다."
   ]
  },
  {
   "cell_type": "code",
   "execution_count": 50,
   "id": "2bb22bb5",
   "metadata": {},
   "outputs": [
    {
     "data": {
      "text/plain": [
       "[1, 2, 1, 2]"
      ]
     },
     "execution_count": 50,
     "metadata": {},
     "output_type": "execute_result"
    }
   ],
   "source": [
    "a.remove(3)\n",
    "a"
   ]
  },
  {
   "cell_type": "markdown",
   "id": "fc519430",
   "metadata": {},
   "source": [
    "### 리스트 요소 끄집어내기(pop)\n",
    "pop()은 리스트의 맨 마지막 요소를 돌려주고 그 요소는 삭제한다."
   ]
  },
  {
   "cell_type": "code",
   "execution_count": 51,
   "id": "41991b3b",
   "metadata": {},
   "outputs": [
    {
     "data": {
      "text/plain": [
       "3"
      ]
     },
     "execution_count": 51,
     "metadata": {},
     "output_type": "execute_result"
    }
   ],
   "source": [
    "a=[1,2,3]\n",
    "a.pop()"
   ]
  },
  {
   "cell_type": "code",
   "execution_count": 52,
   "id": "e94b5b5d",
   "metadata": {},
   "outputs": [
    {
     "data": {
      "text/plain": [
       "[1, 2]"
      ]
     },
     "execution_count": 52,
     "metadata": {},
     "output_type": "execute_result"
    }
   ],
   "source": [
    "a"
   ]
  },
  {
   "cell_type": "markdown",
   "id": "ea5c0b07",
   "metadata": {},
   "source": [
    "a 리스트 [1,2,3]에서 3을 끄집어내고 최종적으로 [1,2]만 남는 것을 볼 수 있다."
   ]
  },
  {
   "cell_type": "markdown",
   "id": "74b7f182",
   "metadata": {},
   "source": [
    "pop(x)는 리스트의 x번째 요소를 돌려주고 그 요소는 삭제한다."
   ]
  },
  {
   "cell_type": "code",
   "execution_count": 53,
   "id": "7857309f",
   "metadata": {},
   "outputs": [
    {
     "data": {
      "text/plain": [
       "2"
      ]
     },
     "execution_count": 53,
     "metadata": {},
     "output_type": "execute_result"
    }
   ],
   "source": [
    "a=[1,2,3]\n",
    "a.pop(1)"
   ]
  },
  {
   "cell_type": "code",
   "execution_count": 54,
   "id": "d70b8b1e",
   "metadata": {},
   "outputs": [
    {
     "data": {
      "text/plain": [
       "[1, 3]"
      ]
     },
     "execution_count": 54,
     "metadata": {},
     "output_type": "execute_result"
    }
   ],
   "source": [
    "a"
   ]
  },
  {
   "cell_type": "markdown",
   "id": "74e828f6",
   "metadata": {},
   "source": [
    "a.pop(1)은 a[1]의 값을 끄집어낸다. 다시 a를 출력해 보면 끄집어낸 값이 삭제된 것을 확인 할 수 있다."
   ]
  },
  {
   "cell_type": "markdown",
   "id": "e4559d3c",
   "metadata": {},
   "source": [
    "### 리스트에 포함된 요소 x의 개수 세기(count)\n",
    "count(x)는 리스트 안에 x가 몇 개 있는지 조사하여 그 개수를 돌려주는 함수이다."
   ]
  },
  {
   "cell_type": "code",
   "execution_count": 55,
   "id": "34a754da",
   "metadata": {},
   "outputs": [
    {
     "data": {
      "text/plain": [
       "2"
      ]
     },
     "execution_count": 55,
     "metadata": {},
     "output_type": "execute_result"
    }
   ],
   "source": [
    "a=[1,2,3,1]\n",
    "a.count(1)"
   ]
  },
  {
   "cell_type": "markdown",
   "id": "fb55e6d5",
   "metadata": {},
   "source": [
    "1이라는 값이 리스트 a에 2개 들어 있으므로 2를 돌려준다."
   ]
  },
  {
   "cell_type": "markdown",
   "id": "9bade0a6",
   "metadata": {},
   "source": [
    "### 리스트 확장(extend)\n",
    "extend(x)에서 x에는 리스트만 올 수 있으며 원래의 a 리스트에 x리스트를 더하게 된다."
   ]
  },
  {
   "cell_type": "code",
   "execution_count": 56,
   "id": "70abaa2a",
   "metadata": {},
   "outputs": [
    {
     "data": {
      "text/plain": [
       "[1, 2, 3, 4, 5]"
      ]
     },
     "execution_count": 56,
     "metadata": {},
     "output_type": "execute_result"
    }
   ],
   "source": [
    "a=[1,2,3]\n",
    "a.extend([4,5])\n",
    "a"
   ]
  },
  {
   "cell_type": "code",
   "execution_count": 58,
   "id": "bf87c52d",
   "metadata": {},
   "outputs": [
    {
     "data": {
      "text/plain": [
       "[1, 2, 3, 4, 5, 6, 7, 6, 7]"
      ]
     },
     "execution_count": 58,
     "metadata": {},
     "output_type": "execute_result"
    }
   ],
   "source": [
    "b=[6,7]\n",
    "a.extend(b)\n",
    "a"
   ]
  },
  {
   "cell_type": "markdown",
   "id": "c3dea26a",
   "metadata": {},
   "source": [
    "a.extend([4,5])는 a+=[4,5]와 동일하다.<br> +=는 계산한 값을 원래 값에 할당한다고 해서 할당 연산자라고 부른다. 즉 i+=1은 i=i+1과 같다"
   ]
  }
 ],
 "metadata": {
  "kernelspec": {
   "display_name": "Python 3",
   "language": "python",
   "name": "python3"
  },
  "language_info": {
   "codemirror_mode": {
    "name": "ipython",
    "version": 3
   },
   "file_extension": ".py",
   "mimetype": "text/x-python",
   "name": "python",
   "nbconvert_exporter": "python",
   "pygments_lexer": "ipython3",
   "version": "3.8.8"
  }
 },
 "nbformat": 4,
 "nbformat_minor": 5
}
