{
 "cells": [
  {
   "cell_type": "markdown",
   "id": "f8501caf",
   "metadata": {},
   "source": [
    "# 집합 자료형\n",
    "## 집합자료형은 어떻게 만들까?\n",
    "집합(set)은 파이썬 2.3부터 지원하기 시작한 자료형으로, 집합에 관련된 것을 쉽게 처리하기 위해 만든 자료형이다."
   ]
  },
  {
   "cell_type": "markdown",
   "id": "f3b9e723",
   "metadata": {},
   "source": [
    "집합 자료형은 다음과 같이 set 키워드를 사용해 만들 수 있다."
   ]
  },
  {
   "cell_type": "code",
   "execution_count": 1,
   "id": "db0e3169",
   "metadata": {},
   "outputs": [
    {
     "data": {
      "text/plain": [
       "{1, 2, 3}"
      ]
     },
     "execution_count": 1,
     "metadata": {},
     "output_type": "execute_result"
    }
   ],
   "source": [
    "s1=set([1,2,3])\n",
    "s1"
   ]
  },
  {
   "cell_type": "markdown",
   "id": "05e49d0a",
   "metadata": {},
   "source": [
    "위와 같이 set()의 괄호 안에 리스트를 입력하여 만들거나 다음과 같이 문자열을 입력하여 만들 수도 있다."
   ]
  },
  {
   "cell_type": "code",
   "execution_count": 2,
   "id": "d30f29d2",
   "metadata": {},
   "outputs": [
    {
     "data": {
      "text/plain": [
       "{'H', 'e', 'l', 'o'}"
      ]
     },
     "execution_count": 2,
     "metadata": {},
     "output_type": "execute_result"
    }
   ],
   "source": [
    "s2=set(\"Hello\")\n",
    "s2"
   ]
  },
  {
   "cell_type": "markdown",
   "id": "2d617a28",
   "metadata": {},
   "source": [
    "## 집합 자료형의 특징\n",
    "자, 그런데 위에서 살펴본 set(\"Hello\")의 결과가 좀 이상하지 않은가? 분명\"Hello\" 문자열로 set자료형을 만들었는데 생성된 자료형에는 l문자가 하나 빠져 있고 순서도 뒤죽박죽이다. 그이유는 set에 다음과 같은 2가지 큰 특징이 있기 때문이다.\n",
    "- 중복을 허용하지 않는다.\n",
    "- 순서가 없다.<br>\n",
    "리스트나 튜플은 순서가 있기 때문에 인덱싱을 통해 자료형의 값을 얻을 수 있지만 set 자료형은 순서가 없기 때문에 인덱싱으로 값을 얻을 수 없다. 이는 마치 02-5에서 살펴본 딕셔너리와 비슷하다. 딕셔너리 역시 순서가 없는 자료형이라 인덱싱을 지원하지 않는다. 만약 set 자료형에 저장된 값을 인덱싱으로 접근하려면 다음과 같이 리스트나 튜플로 변환한 후 해야한다."
   ]
  },
  {
   "cell_type": "code",
   "execution_count": 3,
   "id": "206cd0af",
   "metadata": {},
   "outputs": [
    {
     "data": {
      "text/plain": [
       "[1, 2, 3]"
      ]
     },
     "execution_count": 3,
     "metadata": {},
     "output_type": "execute_result"
    }
   ],
   "source": [
    "s1=set([1,2,3])\n",
    "l1=list(s1)\n",
    "l1"
   ]
  },
  {
   "cell_type": "code",
   "execution_count": 4,
   "id": "8ab1a8a5",
   "metadata": {},
   "outputs": [
    {
     "data": {
      "text/plain": [
       "1"
      ]
     },
     "execution_count": 4,
     "metadata": {},
     "output_type": "execute_result"
    }
   ],
   "source": [
    "l1[0]"
   ]
  },
  {
   "cell_type": "code",
   "execution_count": 9,
   "id": "1d885d24",
   "metadata": {},
   "outputs": [
    {
     "data": {
      "text/plain": [
       "(1, 2, 3)"
      ]
     },
     "execution_count": 9,
     "metadata": {},
     "output_type": "execute_result"
    }
   ],
   "source": [
    "t1=tuple(s1)\n",
    "t1"
   ]
  },
  {
   "cell_type": "code",
   "execution_count": 10,
   "id": "d54fa33d",
   "metadata": {},
   "outputs": [
    {
     "data": {
      "text/plain": [
       "1"
      ]
     },
     "execution_count": 10,
     "metadata": {},
     "output_type": "execute_result"
    }
   ],
   "source": [
    "t1[0]"
   ]
  },
  {
   "cell_type": "markdown",
   "id": "836e66bc",
   "metadata": {},
   "source": [
    "## 교집합, 합집합, 차집합 구하기\n",
    "set 자료형을 정말 유용하게 사용하는 경우는 교집합, 합집합, 차집합을 구할 때이다."
   ]
  },
  {
   "cell_type": "markdown",
   "id": "67e59697",
   "metadata": {},
   "source": [
    "우선 다음과 같이 2개의 set자료형을 만든 후 따라 해보자. s1은 1부터 6까지의 값을 가지게 되었고, s2는 4부터 9까지 값을 가지게 되었다."
   ]
  },
  {
   "cell_type": "code",
   "execution_count": 11,
   "id": "24ba6b2b",
   "metadata": {},
   "outputs": [],
   "source": [
    "s1=set([1,2,3,4,5,6])\n",
    "s2=set([4,5,6,7,8,9])"
   ]
  },
  {
   "cell_type": "markdown",
   "id": "23df29fb",
   "metadata": {},
   "source": [
    "### 교집합\n",
    "s1과 s2의 교집합을 구해보자."
   ]
  },
  {
   "cell_type": "code",
   "execution_count": 12,
   "id": "5bfc1255",
   "metadata": {},
   "outputs": [
    {
     "data": {
      "text/plain": [
       "{4, 5, 6}"
      ]
     },
     "execution_count": 12,
     "metadata": {},
     "output_type": "execute_result"
    }
   ],
   "source": [
    "s1&s2"
   ]
  },
  {
   "cell_type": "markdown",
   "id": "f1488c05",
   "metadata": {},
   "source": [
    "'&'기호를 사용하면 교집합을 간단히 구할 수 있다.<br> 또는 다음과 같이 intersecion 함수를 사용해도 동일한 결과를 돌려준다."
   ]
  },
  {
   "cell_type": "code",
   "execution_count": 15,
   "id": "a113c78e",
   "metadata": {},
   "outputs": [
    {
     "data": {
      "text/plain": [
       "{4, 5, 6}"
      ]
     },
     "execution_count": 15,
     "metadata": {},
     "output_type": "execute_result"
    }
   ],
   "source": [
    "s1.intersection(s2)"
   ]
  },
  {
   "cell_type": "markdown",
   "id": "4344c624",
   "metadata": {},
   "source": [
    "s2.intersecion(s1)을 사용해도 결과는 같다."
   ]
  },
  {
   "cell_type": "markdown",
   "id": "09920ced",
   "metadata": {},
   "source": [
    "### 합집합\n",
    "합집합은 다음과 같이 구할 수 있다. 이때 4,5,6처럼 중복해서 포함 값은 한개씩만 표현된다."
   ]
  },
  {
   "cell_type": "code",
   "execution_count": 20,
   "id": "ebc879f7",
   "metadata": {},
   "outputs": [
    {
     "data": {
      "text/plain": [
       "{1, 2, 3, 4, 5, 6, 7, 8, 9}"
      ]
     },
     "execution_count": 20,
     "metadata": {},
     "output_type": "execute_result"
    }
   ],
   "source": [
    "s1|s2"
   ]
  },
  {
   "cell_type": "markdown",
   "id": "efed6f18",
   "metadata": {},
   "source": [
    "'|'기호를 사용한 방법이다."
   ]
  },
  {
   "cell_type": "code",
   "execution_count": 22,
   "id": "2922c9c3",
   "metadata": {},
   "outputs": [
    {
     "data": {
      "text/plain": [
       "{1, 2, 3, 4, 5, 6, 7, 8, 9}"
      ]
     },
     "execution_count": 22,
     "metadata": {},
     "output_type": "execute_result"
    }
   ],
   "source": [
    "s1.union(s2)"
   ]
  },
  {
   "cell_type": "markdown",
   "id": "d797e350",
   "metadata": {},
   "source": [
    "또는 union 함수를 사용하면 된다. 교집합에서 사용한 intersection함수와 마찬가지로 s2.union(s1)을 사용해도 동일한 결과를 돌려준다."
   ]
  },
  {
   "cell_type": "markdown",
   "id": "1dfb525f",
   "metadata": {},
   "source": [
    "### 차집합\n",
    "차지합은 다음과 같이 구할 수 있다."
   ]
  },
  {
   "cell_type": "code",
   "execution_count": 23,
   "id": "68635aa8",
   "metadata": {},
   "outputs": [
    {
     "data": {
      "text/plain": [
       "{1, 2, 3}"
      ]
     },
     "execution_count": 23,
     "metadata": {},
     "output_type": "execute_result"
    }
   ],
   "source": [
    "s1-s2"
   ]
  },
  {
   "cell_type": "code",
   "execution_count": 24,
   "id": "6a70c86e",
   "metadata": {},
   "outputs": [
    {
     "data": {
      "text/plain": [
       "{7, 8, 9}"
      ]
     },
     "execution_count": 24,
     "metadata": {},
     "output_type": "execute_result"
    }
   ],
   "source": [
    "s2-s1"
   ]
  },
  {
   "cell_type": "markdown",
   "id": "db091280",
   "metadata": {},
   "source": [
    "빼기 (-)기호를 사용한 방법이다."
   ]
  },
  {
   "cell_type": "code",
   "execution_count": 25,
   "id": "a2710415",
   "metadata": {},
   "outputs": [
    {
     "data": {
      "text/plain": [
       "{1, 2, 3}"
      ]
     },
     "execution_count": 25,
     "metadata": {},
     "output_type": "execute_result"
    }
   ],
   "source": [
    "s1.difference(s2)"
   ]
  },
  {
   "cell_type": "code",
   "execution_count": 26,
   "id": "0a46a9cf",
   "metadata": {},
   "outputs": [
    {
     "data": {
      "text/plain": [
       "{7, 8, 9}"
      ]
     },
     "execution_count": 26,
     "metadata": {},
     "output_type": "execute_result"
    }
   ],
   "source": [
    "s2.difference(s1)"
   ]
  },
  {
   "cell_type": "markdown",
   "id": "e02a4f18",
   "metadata": {},
   "source": [
    "difference함수를 사용해도 차집합을 구할 수 있다."
   ]
  },
  {
   "cell_type": "markdown",
   "id": "c304ba74",
   "metadata": {},
   "source": [
    "## 집합 자료형 관련 함수\n",
    "### 값 1개 추가하기(add)\n",
    "이미 만들어진 set 자료형에 값을 추가할 수 있다. 1개의 값만 추가할 경우에는 다음과 같이 한다."
   ]
  },
  {
   "cell_type": "code",
   "execution_count": 29,
   "id": "cba2661d",
   "metadata": {},
   "outputs": [
    {
     "data": {
      "text/plain": [
       "{1, 2, 3, 4}"
      ]
     },
     "execution_count": 29,
     "metadata": {},
     "output_type": "execute_result"
    }
   ],
   "source": [
    "s1=set([1,2,3])\n",
    "s1.add(4)\n",
    "s1"
   ]
  },
  {
   "cell_type": "markdown",
   "id": "f594fe40",
   "metadata": {},
   "source": [
    "### 값 여러개 추가하기(update)\n",
    "여러 개의 값을 한번에 추가 할 떄는 다음과 같이 하면 된다."
   ]
  },
  {
   "cell_type": "code",
   "execution_count": 30,
   "id": "aa77f9f6",
   "metadata": {},
   "outputs": [
    {
     "data": {
      "text/plain": [
       "{1, 2, 3, 4, 5}"
      ]
     },
     "execution_count": 30,
     "metadata": {},
     "output_type": "execute_result"
    }
   ],
   "source": [
    "s1=set([1,2,3])\n",
    "s1.update([3,4,5])\n",
    "s1"
   ]
  },
  {
   "cell_type": "markdown",
   "id": "688bfdf6",
   "metadata": {},
   "source": [
    "### 특정값 제거하기(remove)\n",
    "특정 값을 제거하고 싶을 때는 다음과 같이 하면 된다."
   ]
  },
  {
   "cell_type": "code",
   "execution_count": 33,
   "id": "42ba16f3",
   "metadata": {},
   "outputs": [
    {
     "data": {
      "text/plain": [
       "{1, 3}"
      ]
     },
     "execution_count": 33,
     "metadata": {},
     "output_type": "execute_result"
    }
   ],
   "source": [
    "s1=set([1,2,3])\n",
    "s1.remove(2)\n",
    "s1"
   ]
  },
  {
   "cell_type": "markdown",
   "id": "16884602",
   "metadata": {},
   "source": [
    "출처 : \"점프투파이썬\""
   ]
  }
 ],
 "metadata": {
  "kernelspec": {
   "display_name": "Python 3",
   "language": "python",
   "name": "python3"
  },
  "language_info": {
   "codemirror_mode": {
    "name": "ipython",
    "version": 3
   },
   "file_extension": ".py",
   "mimetype": "text/x-python",
   "name": "python",
   "nbconvert_exporter": "python",
   "pygments_lexer": "ipython3",
   "version": "3.8.8"
  }
 },
 "nbformat": 4,
 "nbformat_minor": 5
}
