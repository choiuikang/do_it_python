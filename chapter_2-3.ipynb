{
 "cells": [
  {
   "cell_type": "markdown",
   "id": "b5700dfb",
   "metadata": {},
   "source": [
    "### Chapter 2-3"
   ]
  },
  {
   "cell_type": "markdown",
   "id": "b3a52e24",
   "metadata": {},
   "source": [
    "## 문자열 포매팅\n",
    "문자열에서 또하나 알아야 할 것으로는 문자열 포매팅이 있다. 이것을 공부하기 전에 다음과 같은 문자열을 출력하는 프로그램을 작성했다고 가정해 보자.\n",
    "\n",
    "###  \"현재 온도는 18도 입니다\"\n",
    "시간이 지나서 20도가 되면 문장을 출력한다.\n",
    "###  \"현재 온도는 20도 입니다\"\n",
    "위 두 문자열은 모두 같은데 20이라는 숫자와 18이라는 숫자만 다르다. 이렇게 문자열 안의 특정한 값을 바꿔야 할 경우가 있을 때 이것을 가능하게 해주는 것이 바로 문자열 포매팅 기법이다.<br>쉽게 말해 문자열 포매팅이란 문자열 안에 어떤 값을 삽입하는 방법이다. 다음 예를 직접 실행해 보면서 그 사용법을 알아보자.\n"
   ]
  },
  {
   "cell_type": "markdown",
   "id": "372aef14",
   "metadata": {},
   "source": [
    "## 문자열 포매팅 따라하기\n",
    "### 1. 숫자 바로 대입"
   ]
  },
  {
   "cell_type": "code",
   "execution_count": 1,
   "id": "f085e233",
   "metadata": {},
   "outputs": [
    {
     "data": {
      "text/plain": [
       "'I eat 3 apples.'"
      ]
     },
     "execution_count": 1,
     "metadata": {},
     "output_type": "execute_result"
    }
   ],
   "source": [
    "\"I eat %d apples.\"%3"
   ]
  },
  {
   "cell_type": "markdown",
   "id": "b7c9a798",
   "metadata": {},
   "source": [
    "위 예제의 결괏값을 보면 알겠지만 위 예제는 문자열 안에 정수 3을 삽입하는 방법을 보여 준다. 문자열 안에서 숫자를 넣고 싶은 자리에 %d 문자를 넣어주고, 삽입할 숫자 3은 가장 뒤에 있는% 문자 다음에 써 넣었다. 여기에서 %d는 문자열 포맷 코드라고 부른다."
   ]
  },
  {
   "cell_type": "markdown",
   "id": "0a28e784",
   "metadata": {},
   "source": [
    "### 2. 문자열 바로 대입\n",
    "문자열 안에 꼭 숫자만 넣으라는 법은 없다. 이번에는 숫자 대신 문자열을 넣어 보자."
   ]
  },
  {
   "cell_type": "code",
   "execution_count": 2,
   "id": "71d92c7c",
   "metadata": {},
   "outputs": [
    {
     "data": {
      "text/plain": [
       "'I eat five apples.'"
      ]
     },
     "execution_count": 2,
     "metadata": {},
     "output_type": "execute_result"
    }
   ],
   "source": [
    "\"I eat %s apples.\"%\"five\""
   ]
  },
  {
   "cell_type": "markdown",
   "id": "195cbf48",
   "metadata": {},
   "source": [
    "위 예제에서는 문자열 안에 또 다른 문자열을 삽입하기 위해 앞에서 사용한 문자열 포맷 코드%d가 아닌 %s를 썻다. 어쩌면 눈치 빠른 독자는 벌써 유추하였을 것이다. 숫자를 넣기 위해서는 %d를 써야 하고, 문자열을 넣게 위해서는 %s를 써야 한다는 사실을 말이다."
   ]
  },
  {
   "cell_type": "markdown",
   "id": "24477d09",
   "metadata": {},
   "source": [
    "### 3. 숫자 값을 나타내는 변수로 대입"
   ]
  },
  {
   "cell_type": "code",
   "execution_count": 3,
   "id": "244ef636",
   "metadata": {},
   "outputs": [
    {
     "data": {
      "text/plain": [
       "'I eat 3 apples.'"
      ]
     },
     "execution_count": 3,
     "metadata": {},
     "output_type": "execute_result"
    }
   ],
   "source": [
    "number=3\n",
    "\"I eat %d apples.\"%number"
   ]
  },
  {
   "cell_type": "markdown",
   "id": "358508aa",
   "metadata": {},
   "source": [
    "1번처럼 숫자를 바로 대입하나 위 예제처럼 숫자 값을 나타내는 변수를 대입하나 결과는 같다."
   ]
  },
  {
   "cell_type": "markdown",
   "id": "80ba6f0e",
   "metadata": {},
   "source": [
    "### 4. 2개이상의 값 넣기\n",
    "그렇다면 문자열 안에 1개가 아닌 여러 개의 값을 넣고 싶을 땐 어떻게 해야 할까?"
   ]
  },
  {
   "cell_type": "code",
   "execution_count": 5,
   "id": "d7938ea7",
   "metadata": {},
   "outputs": [
    {
     "data": {
      "text/plain": [
       "'I ate 3 apples. so I was sick for three days.'"
      ]
     },
     "execution_count": 5,
     "metadata": {},
     "output_type": "execute_result"
    }
   ],
   "source": [
    "numder=10\n",
    "day=\"three\"\n",
    "\"I ate %d apples. so I was sick for %s days.\"%(number, day)"
   ]
  },
  {
   "cell_type": "markdown",
   "id": "42af373e",
   "metadata": {},
   "source": [
    "위 예문처럼 2개 이상의 값을 넣으려면 마지막 % 다음 괄호 안에 콤마(,)로 구분하여 각각의 값을 넣어 주면 된다."
   ]
  },
  {
   "cell_type": "markdown",
   "id": "bfdd8c1a",
   "metadata": {},
   "source": [
    "### 문자열 포맷 코드\n",
    "문자열 포매팅 예제에서는 대입해 넣는 자료형으로 정수와 문자열을 사용했으니 이 외에도 다양한 것을 대입할수 있다.<br>문자열 포맷 코드로는 다음과 같은 것이 있다.<br>\n",
    "코드                                       설명<br>\n",
    "%s 문자열<br>\n",
    "%c 문자1개<br>\n",
    "%d 정수<br>\n",
    "%f 부동소수<br>\n",
    "%o 8진수<br>\n",
    "%x 16진수<br>\n",
    "%% Literal%(문자'%'자체)"
   ]
  },
  {
   "cell_type": "markdown",
   "id": "797a2685",
   "metadata": {},
   "source": [
    "여기에서 재미있는 것은 %s 포맷 코드인데, 이 코드는 어떤 형태의 값이든 변환해 넣을 수 있다.<br>무슨말인지 예를통해 확인해 보자."
   ]
  },
  {
   "cell_type": "code",
   "execution_count": 6,
   "id": "fb72ce24",
   "metadata": {},
   "outputs": [
    {
     "data": {
      "text/plain": [
       "'I have 3 apples'"
      ]
     },
     "execution_count": 6,
     "metadata": {},
     "output_type": "execute_result"
    }
   ],
   "source": [
    "\"I have %s apples\"%3"
   ]
  },
  {
   "cell_type": "code",
   "execution_count": 8,
   "id": "75651b38",
   "metadata": {},
   "outputs": [
    {
     "data": {
      "text/plain": [
       "'rate is 3.234'"
      ]
     },
     "execution_count": 8,
     "metadata": {},
     "output_type": "execute_result"
    }
   ],
   "source": [
    "\"rate is %s\"%3.234"
   ]
  },
  {
   "cell_type": "markdown",
   "id": "6522b3f7",
   "metadata": {},
   "source": [
    "3을 문자열 안에 삽입하려면 %d를 사용 하고, 3.234를 삽입하려면 %f를 사용해야 한다. 하지만%s를 사용하면 이런 것을 생각하지 않아도 된다. 왜냐하면 %s는 자동으로 % 뒤에 있는 값을 문자열로 바꾸기 때문이다."
   ]
  },
  {
   "cell_type": "markdown",
   "id": "1984434f",
   "metadata": {},
   "source": [
    "## 포매팅 연사자 %d와 %를 같이 쓸 떄는 %%를 쓴다."
   ]
  },
  {
   "cell_type": "code",
   "execution_count": 5,
   "id": "d3a040ab",
   "metadata": {},
   "outputs": [
    {
     "ename": "ValueError",
     "evalue": "incomplete format",
     "output_type": "error",
     "traceback": [
      "\u001b[1;31m---------------------------------------------------------------------------\u001b[0m",
      "\u001b[1;31mValueError\u001b[0m                                Traceback (most recent call last)",
      "\u001b[1;32m<ipython-input-5-b890024f1b57>\u001b[0m in \u001b[0;36m<module>\u001b[1;34m\u001b[0m\n\u001b[1;32m----> 1\u001b[1;33m \u001b[1;34m\"Error is %d%.\"\u001b[0m\u001b[1;33m%\u001b[0m\u001b[1;36m98\u001b[0m\u001b[1;33m\u001b[0m\u001b[1;33m\u001b[0m\u001b[0m\n\u001b[0m",
      "\u001b[1;31mValueError\u001b[0m: incomplete format"
     ]
    }
   ],
   "source": [
    "\"Error is %d%.\"%98"
   ]
  },
  {
   "cell_type": "markdown",
   "id": "6a3b799f",
   "metadata": {},
   "source": [
    "위 예문의 결괏값으로 당연히 \"Error is 98%\" 가 출력될 것이라고 예상하겠지만 파이썬은 값이 올바르지 않다는 값 오류 메시지를 보여준다."
   ]
  },
  {
   "cell_type": "markdown",
   "id": "33d1814e",
   "metadata": {},
   "source": [
    "이유는 문자열 포맷 코드인%d와 %가 같은 문자열 안에 존재하는 경우, %를 나타내려면 반드시 %%로써야 하는 법칙이 있기 때문이다. 이 점은 꼭 기억해 두어야 한다. 하지만 문자열 안에%d 같은 포매팅 연사자가 없으면 %는 홀로 쓰여도 상관이 없다\n",
    "따라서 위 예를 제대로 실행하려면 다음과 같이 해야 한다."
   ]
  },
  {
   "cell_type": "code",
   "execution_count": 4,
   "id": "8204a973",
   "metadata": {},
   "outputs": [
    {
     "data": {
      "text/plain": [
       "'Error is 98%.'"
      ]
     },
     "execution_count": 4,
     "metadata": {},
     "output_type": "execute_result"
    }
   ],
   "source": [
    "\"Error is %d%%.\"%98"
   ]
  },
  {
   "cell_type": "markdown",
   "id": "6dd786b2",
   "metadata": {},
   "source": [
    "## 포맷 코드와 숫자 함께 사용하기\n",
    "위에서 보았듯이 %d, %s 등의 포맷 코드는 문자열 안에 어떤 값을 삽입하기 위해 사용한다. 하지만 포맷 코드를 숫자와 함께 사용하면 더 유용하게 사용할 수 있다. <br> 다음 예를 보고 따라해 보자."
   ]
  },
  {
   "cell_type": "markdown",
   "id": "79accdc6",
   "metadata": {},
   "source": [
    "### 1. 정렬과 공백"
   ]
  },
  {
   "cell_type": "code",
   "execution_count": 6,
   "id": "6dc57113",
   "metadata": {},
   "outputs": [
    {
     "data": {
      "text/plain": [
       "'        hi'"
      ]
     },
     "execution_count": 6,
     "metadata": {},
     "output_type": "execute_result"
    }
   ],
   "source": [
    "\"%10s\"%\"hi\""
   ]
  },
  {
   "cell_type": "markdown",
   "id": "21324856",
   "metadata": {},
   "source": [
    "앞의 예문에서 %10s는 전체 길이가 10개인 문자열 공간에서 대입되는 값을 오른쪽으로 정렬하고 그 앞에 나머지는 공백으로 남겨 두라는 의미이다."
   ]
  },
  {
   "cell_type": "code",
   "execution_count": 8,
   "id": "27d073c2",
   "metadata": {},
   "outputs": [
    {
     "data": {
      "text/plain": [
       "'hi        jane'"
      ]
     },
     "execution_count": 8,
     "metadata": {},
     "output_type": "execute_result"
    }
   ],
   "source": [
    "\"%-10sjane\"%'hi'"
   ]
  },
  {
   "cell_type": "markdown",
   "id": "cf1ac65c",
   "metadata": {},
   "source": [
    "hi를 왼쪽으로 정렬하고 나머지는 공백으로 채웠음을 볼 수 있다."
   ]
  },
  {
   "cell_type": "markdown",
   "id": "48710b57",
   "metadata": {},
   "source": [
    "### 2. 소수점 표현하기"
   ]
  },
  {
   "cell_type": "code",
   "execution_count": 11,
   "id": "40d8b716",
   "metadata": {},
   "outputs": [
    {
     "data": {
      "text/plain": [
       "'3.4213'"
      ]
     },
     "execution_count": 11,
     "metadata": {},
     "output_type": "execute_result"
    }
   ],
   "source": [
    "\"%0.4f\"%3.42134234"
   ]
  },
  {
   "cell_type": "markdown",
   "id": "ffdadceb",
   "metadata": {},
   "source": [
    "3.42134234를 소수점 네 번째 자리까지만 나타내고 싶을 경우에는 위와 같이 사용한다. 즉 여기서'.'의 의미는 소수점 포인트를 말하고 그 뒤의 숫자 4는 소수점 뒤에 나올 숫자의 개수를 말한다.<br>다음 예를 살펴보자."
   ]
  },
  {
   "cell_type": "code",
   "execution_count": 12,
   "id": "d4ad4e5b",
   "metadata": {},
   "outputs": [
    {
     "data": {
      "text/plain": [
       "'    3.4213'"
      ]
     },
     "execution_count": 12,
     "metadata": {},
     "output_type": "execute_result"
    }
   ],
   "source": [
    "\"%10.4f\"%3.42134234"
   ]
  },
  {
   "cell_type": "markdown",
   "id": "1be0bd2e",
   "metadata": {},
   "source": [
    "위 예는 숫자 3.42134234를 소수점 네 번째 자리까지만 표시하고 전체 길이가 10개인 문자 열 공간에서 오른쪽으로 정렬하는 예를 보여준다."
   ]
  },
  {
   "cell_type": "markdown",
   "id": "a71f3e00",
   "metadata": {},
   "source": [
    "### format 함수를 사용한 포매팅\n",
    "문자열의 format 함수를 사용하면 좀 더 발전된 스타일로 문자열 포맷을 지정할 수 있다. 앞에서 살펴본 문자열 포매팅 예제를 format 함수를 사용해서 바꾸면 다음과 같다."
   ]
  },
  {
   "cell_type": "markdown",
   "id": "4535d67f",
   "metadata": {},
   "source": [
    "### 숫자 바로 대입하기"
   ]
  },
  {
   "cell_type": "code",
   "execution_count": 13,
   "id": "22d7b0e3",
   "metadata": {},
   "outputs": [
    {
     "data": {
      "text/plain": [
       "'I eat 3apples'"
      ]
     },
     "execution_count": 13,
     "metadata": {},
     "output_type": "execute_result"
    }
   ],
   "source": [
    "\"I eat {0}apples\".format(3)"
   ]
  },
  {
   "cell_type": "markdown",
   "id": "c1b4e521",
   "metadata": {},
   "source": [
    "\"I eat {0}apples\".문자열 중 {0} 부분이 숫자 3으로 바뀌었다."
   ]
  },
  {
   "cell_type": "markdown",
   "id": "d172639f",
   "metadata": {},
   "source": [
    "### 문자열 바로 대입하기"
   ]
  },
  {
   "cell_type": "code",
   "execution_count": 15,
   "id": "ef80bc64",
   "metadata": {},
   "outputs": [
    {
     "data": {
      "text/plain": [
       "'I eat five apples'"
      ]
     },
     "execution_count": 15,
     "metadata": {},
     "output_type": "execute_result"
    }
   ],
   "source": [
    "\"I eat {0} apples\". format(\"five\")"
   ]
  },
  {
   "cell_type": "markdown",
   "id": "4703b2be",
   "metadata": {},
   "source": [
    "문자열의 {0} 항목이 five라는 문자열로 바뀌었다."
   ]
  },
  {
   "cell_type": "markdown",
   "id": "85972216",
   "metadata": {},
   "source": [
    "### 숫자 값을 가진 변수로 대입하기"
   ]
  },
  {
   "cell_type": "code",
   "execution_count": 17,
   "id": "03a14c2f",
   "metadata": {},
   "outputs": [
    {
     "data": {
      "text/plain": [
       "'I eat 3 apples'"
      ]
     },
     "execution_count": 17,
     "metadata": {},
     "output_type": "execute_result"
    }
   ],
   "source": [
    "number=3\n",
    "\"I eat {0} apples\".format(number)"
   ]
  },
  {
   "cell_type": "markdown",
   "id": "0068fe4c",
   "metadata": {},
   "source": [
    "문자열의 {0}항목이 number 변수 값인 3으로 바뀌었다."
   ]
  },
  {
   "cell_type": "markdown",
   "id": "fdc30270",
   "metadata": {},
   "source": [
    "### 2개이상의 값 넣기"
   ]
  },
  {
   "cell_type": "code",
   "execution_count": 21,
   "id": "285f3a76",
   "metadata": {},
   "outputs": [
    {
     "data": {
      "text/plain": [
       "'I ate 10 apples.so I was sick for three days.'"
      ]
     },
     "execution_count": 21,
     "metadata": {},
     "output_type": "execute_result"
    }
   ],
   "source": [
    "number=10\n",
    "day=\"three\"\n",
    "\"I ate {0} apples.so I was sick for {1} days.\".format(number, day)"
   ]
  },
  {
   "cell_type": "markdown",
   "id": "72bc2d3e",
   "metadata": {},
   "source": [
    "2개 이상의 값을 넣을 경우 문자열의 {0},{1}과 같은 인덱스 항목이 format 함수의 입력값으로 순서에 맞게 바뀐다. 즉 위 예에서 {0}은 format 함수의 첫 번째 입력값인 number로 바뀌고 {1}은 format 함수의 두 번째 입력값인 day로 바뀐다."
   ]
  },
  {
   "cell_type": "markdown",
   "id": "f0cb43c4",
   "metadata": {},
   "source": [
    "### 이름으로 넣기"
   ]
  },
  {
   "cell_type": "code",
   "execution_count": 25,
   "id": "484664d1",
   "metadata": {},
   "outputs": [
    {
     "data": {
      "text/plain": [
       "'I ate 10applrs. so I was sick for 3 days'"
      ]
     },
     "execution_count": 25,
     "metadata": {},
     "output_type": "execute_result"
    }
   ],
   "source": [
    "\"I ate {number}applrs. so I was sick for {day} days\".format(number=10, day=3)"
   ]
  },
  {
   "cell_type": "markdown",
   "id": "2f83cdd4",
   "metadata": {},
   "source": [
    "위 예에서 볼 수 있듯이 {0},{1}과 같은 인덱스 항복 대신 더 편리한 {name} 형태를 사용하는 방법도 있다. {name} 형태를 사용할 경우 format 삼수에는 반드시 name=value와 같은 형태의 입력값이 있어야만 한다. 위 예는 문자열의 {number}, {day}가 format 함수의 입력값인 number=10m day=3 값으로 각각 바뀌는 것을 보여 주고 있다."
   ]
  },
  {
   "cell_type": "markdown",
   "id": "19e2f7e8",
   "metadata": {},
   "source": [
    "### 인덱스와 이름을 혼용해서 넣기"
   ]
  },
  {
   "cell_type": "code",
   "execution_count": 28,
   "id": "ef219938",
   "metadata": {},
   "outputs": [
    {
     "data": {
      "text/plain": [
       "'I ate 10 apples. so I was sick for 3 days.'"
      ]
     },
     "execution_count": 28,
     "metadata": {},
     "output_type": "execute_result"
    }
   ],
   "source": [
    "\"I ate {0} apples. so I was sick for {day} days.\".format(10, day=3)"
   ]
  },
  {
   "cell_type": "markdown",
   "id": "fe502109",
   "metadata": {},
   "source": [
    "위와 같이 인덱스 항목과  name=value 형태를 혼용하는 것도 가능하다."
   ]
  },
  {
   "cell_type": "markdown",
   "id": "cccbcd35",
   "metadata": {},
   "source": [
    "### 왼쪽 정렬"
   ]
  },
  {
   "cell_type": "code",
   "execution_count": 29,
   "id": "8f4f5a48",
   "metadata": {},
   "outputs": [
    {
     "data": {
      "text/plain": [
       "'hi        '"
      ]
     },
     "execution_count": 29,
     "metadata": {},
     "output_type": "execute_result"
    }
   ],
   "source": [
    "\"{0:<10}\".format(\"hi\")"
   ]
  },
  {
   "cell_type": "markdown",
   "id": "db76609c",
   "metadata": {},
   "source": [
    ":<10 표현식을 사용하면 치환되는 문자열을 왼쪽으로 정렬하고 문자열의 총 자릿수를 10으로 맞출 수 있다."
   ]
  },
  {
   "cell_type": "markdown",
   "id": "b9b64fef",
   "metadata": {},
   "source": [
    "### 오른쪽 정렬"
   ]
  },
  {
   "cell_type": "code",
   "execution_count": 30,
   "id": "2ec2718b",
   "metadata": {},
   "outputs": [
    {
     "data": {
      "text/plain": [
       "'        hi'"
      ]
     },
     "execution_count": 30,
     "metadata": {},
     "output_type": "execute_result"
    }
   ],
   "source": [
    "\"{0:>10}\".format(\"hi\")"
   ]
  },
  {
   "cell_type": "markdown",
   "id": "85f0da3e",
   "metadata": {},
   "source": [
    "오른쪽 정렬은 :<대신:>을 사용하면 된다. 화살표 방향을 생각하면 어느 쪽으로 정렬되는지 바로 알 수 있을 것이다."
   ]
  },
  {
   "cell_type": "markdown",
   "id": "a541f400",
   "metadata": {},
   "source": [
    "### 가운데 정렬"
   ]
  },
  {
   "cell_type": "code",
   "execution_count": 31,
   "id": "2d4c43d9",
   "metadata": {},
   "outputs": [
    {
     "data": {
      "text/plain": [
       "'    hi    '"
      ]
     },
     "execution_count": 31,
     "metadata": {},
     "output_type": "execute_result"
    }
   ],
   "source": [
    "\"{0:^10}\".format(\"hi\")"
   ]
  },
  {
   "cell_type": "markdown",
   "id": "b3cc40ad",
   "metadata": {},
   "source": [
    ":^기호를 사용하면 가운데 정렬도 가능하다."
   ]
  },
  {
   "cell_type": "markdown",
   "id": "75ce8576",
   "metadata": {},
   "source": [
    "### 공백 채우기"
   ]
  },
  {
   "cell_type": "code",
   "execution_count": 33,
   "id": "7603fe90",
   "metadata": {},
   "outputs": [
    {
     "data": {
      "text/plain": [
       "'====hi===='"
      ]
     },
     "execution_count": 33,
     "metadata": {},
     "output_type": "execute_result"
    }
   ],
   "source": [
    "\"{0:=^10}\".format(\"hi\")"
   ]
  },
  {
   "cell_type": "code",
   "execution_count": 34,
   "id": "cce744c7",
   "metadata": {},
   "outputs": [
    {
     "data": {
      "text/plain": [
       "'hi!!!!!!!!'"
      ]
     },
     "execution_count": 34,
     "metadata": {},
     "output_type": "execute_result"
    }
   ],
   "source": [
    "\"{0:!<10}\".format(\"hi\")"
   ]
  },
  {
   "cell_type": "markdown",
   "id": "63e7e3d5",
   "metadata": {},
   "source": [
    "정렬할 때 공백 문자 대신에 지정한 문자 값으로 채워 넣는 것도 가능하다. 채워 넣을 문자 값은 정렬 문자 <,>,^ 바로 앞에 넣어야 한다. 위 예에서 첫 번째 예제는 가운데(^)로 정렬하고 빈 공간을 = 문자로 채웠고, 두 번째 예제는 왼쪽(<)으로 정렬하고 빈 공간을 ! 문자로 채웠다."
   ]
  },
  {
   "cell_type": "markdown",
   "id": "b0629b84",
   "metadata": {},
   "source": [
    "### 소수점 표현하기"
   ]
  },
  {
   "cell_type": "code",
   "execution_count": 35,
   "id": "a1f42752",
   "metadata": {},
   "outputs": [
    {
     "data": {
      "text/plain": [
       "'3.4213'"
      ]
     },
     "execution_count": 35,
     "metadata": {},
     "output_type": "execute_result"
    }
   ],
   "source": [
    "y=3.42134234\n",
    "\"{0:0.4f}\".format(y)"
   ]
  },
  {
   "cell_type": "markdown",
   "id": "f4687425",
   "metadata": {},
   "source": [
    "위 예는 format 함수를 사용해 소수점을 4자리까지만 표현하는 방법을 보여 준다. 앞에서 살펴보았던 표현식 0.4f를 그대로 사용한 것을 알 수 있다."
   ]
  },
  {
   "cell_type": "code",
   "execution_count": 37,
   "id": "37e68f4f",
   "metadata": {},
   "outputs": [
    {
     "data": {
      "text/plain": [
       "'    3.4213'"
      ]
     },
     "execution_count": 37,
     "metadata": {},
     "output_type": "execute_result"
    }
   ],
   "source": [
    "\"{0:10.4f}\".format(y)"
   ]
  },
  {
   "cell_type": "markdown",
   "id": "4d79e585",
   "metadata": {},
   "source": [
    "위와 같이 자릿수를 10으로 맞출 수도 있다. 역시 앞에서 살펴본 10.4f의 표현식을 그대로 사용한 것을 알 수 있다."
   ]
  },
  {
   "cell_type": "code",
   "execution_count": 39,
   "id": "840e5b96",
   "metadata": {},
   "outputs": [
    {
     "data": {
      "text/plain": [
       "'{and}'"
      ]
     },
     "execution_count": 39,
     "metadata": {},
     "output_type": "execute_result"
    }
   ],
   "source": [
    "\"{{and}}\".format()"
   ]
  },
  {
   "cell_type": "markdown",
   "id": "8c171112",
   "metadata": {},
   "source": [
    "format 함수를 사용해 문자열 포매팅을 할 경우 {}와 같은 중괄호 문자를 포매팅 문자각 아닌 문자 그대로 사용하고 싶은 경우에는 위 예의 {{ }}처럼 2개를 연속해서 사용하면 된다."
   ]
  },
  {
   "cell_type": "markdown",
   "id": "43a1885a",
   "metadata": {},
   "source": [
    "### f 문자열 포매팅\n",
    "파이썬 3.6버전부터는 f 문자열 포매팅 기능을 사용할 수 있다. 파이썬3.6 미만 버전에서는 사용할 수 없는 기능이므로 주의 해야한다. <br> 다음과 같이 문자열 앞에 f 접두사를 붙이면 f 문자열 포매팅 기능을 사용할 수 있다."
   ]
  },
  {
   "cell_type": "code",
   "execution_count": null,
   "id": "36f513ac",
   "metadata": {},
   "outputs": [],
   "source": [
    "mane='홍길동'\n",
    "age=30\n",
    "f'"
   ]
  },
  {
   "cell_type": "markdown",
   "id": "83e80aa3",
   "metadata": {},
   "source": []
  }
 ],
 "metadata": {
  "kernelspec": {
   "display_name": "Python 3",
   "language": "python",
   "name": "python3"
  },
  "language_info": {
   "codemirror_mode": {
    "name": "ipython",
    "version": 3
   },
   "file_extension": ".py",
   "mimetype": "text/x-python",
   "name": "python",
   "nbconvert_exporter": "python",
   "pygments_lexer": "ipython3",
   "version": "3.8.8"
  }
 },
 "nbformat": 4,
 "nbformat_minor": 5
}
