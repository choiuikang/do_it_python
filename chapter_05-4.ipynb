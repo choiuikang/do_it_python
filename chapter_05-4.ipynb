{
 "cells": [
  {
   "cell_type": "markdown",
   "id": "951fa566",
   "metadata": {},
   "source": [
    "# 예외 처리\n",
    "프로그램을 만들다 보면 수없이 많은 오류를 만나게 된다. 물론 오류가 발생하는 이유는 프로그램이 잘못 동작하는 것을 막기 위한 파이썬의 배려이다. 하지만 때때로 이러한 오류를 무시하고 싶을 때도 있다. 이를 위해 파이썬은 try, excespt를 사용해서 예외적으로 오류를 처리할수 있게 해준다."
   ]
  },
  {
   "cell_type": "markdown",
   "id": "d8710688",
   "metadata": {},
   "source": [
    "## 오류는 어떨 때 발생하는가?\n",
    "오류를 처리하는 방법을 알기 전에 어떤 상황에서 오류가 발생하는지 한번 알아보자. 오타를 입력했을 때 발생하는 구문 오류 같은 것이 아닌 실제 프로그램에서 자주 발생하는 오류를 중심으로 살펴본다.<br>먼저 디렉터리 안에 없는 파일을 열려고 시도했을 때 발생하는 오류이다."
   ]
  },
  {
   "cell_type": "code",
   "execution_count": 2,
   "id": "1b24d7f4",
   "metadata": {},
   "outputs": [
    {
     "ename": "FileNotFoundError",
     "evalue": "[Errno 2] No such file or directory: '나없는 파일'",
     "output_type": "error",
     "traceback": [
      "\u001b[0;31m---------------------------------------------------------------------------\u001b[0m",
      "\u001b[0;31mFileNotFoundError\u001b[0m                         Traceback (most recent call last)",
      "\u001b[0;32m<ipython-input-2-11e8d010e04f>\u001b[0m in \u001b[0;36m<module>\u001b[0;34m\u001b[0m\n\u001b[0;32m----> 1\u001b[0;31m \u001b[0mf\u001b[0m\u001b[0;34m=\u001b[0m\u001b[0mopen\u001b[0m\u001b[0;34m(\u001b[0m\u001b[0;34m\"나없는 파일\"\u001b[0m\u001b[0;34m,\u001b[0m \u001b[0;34m'r'\u001b[0m\u001b[0;34m)\u001b[0m\u001b[0;34m\u001b[0m\u001b[0;34m\u001b[0m\u001b[0m\n\u001b[0m",
      "\u001b[0;31mFileNotFoundError\u001b[0m: [Errno 2] No such file or directory: '나없는 파일'"
     ]
    }
   ],
   "source": [
    "f=open(\"나없는 파일\", 'r')"
   ]
  },
  {
   "cell_type": "markdown",
   "id": "d34d81b1",
   "metadata": {},
   "source": [
    "위 예에서 볼수 있듯이 없는 파일을 열려고 시도하면 FileNotFoundError 오류가 발생한다."
   ]
  },
  {
   "cell_type": "markdown",
   "id": "2f15a5ed",
   "metadata": {},
   "source": [
    "이번에는 -으로 다른 숫자를 나누는 경우를 생각해 보자. 이역시 자주 발생하는 오류이다."
   ]
  },
  {
   "cell_type": "code",
   "execution_count": 4,
   "id": "49280a35",
   "metadata": {},
   "outputs": [
    {
     "ename": "ZeroDivisionError",
     "evalue": "division by zero",
     "output_type": "error",
     "traceback": [
      "\u001b[0;31m---------------------------------------------------------------------------\u001b[0m",
      "\u001b[0;31mZeroDivisionError\u001b[0m                         Traceback (most recent call last)",
      "\u001b[0;32m<ipython-input-4-87ac9c94a8c2>\u001b[0m in \u001b[0;36m<module>\u001b[0;34m\u001b[0m\n\u001b[0;32m----> 1\u001b[0;31m \u001b[0;36m4\u001b[0m \u001b[0;34m/\u001b[0m \u001b[0;36m0\u001b[0m\u001b[0;34m\u001b[0m\u001b[0;34m\u001b[0m\u001b[0m\n\u001b[0m",
      "\u001b[0;31mZeroDivisionError\u001b[0m: division by zero"
     ]
    }
   ],
   "source": [
    "4 / 0"
   ]
  },
  {
   "cell_type": "markdown",
   "id": "725a5a5d",
   "metadata": {},
   "source": [
    "4를 0으로 나누려니까 ZeroDivisionError 오류가 발생한다."
   ]
  },
  {
   "cell_type": "markdown",
   "id": "36df08fd",
   "metadata": {},
   "source": [
    "마지막으로 한 가지 예를 더 들어 보자. 다음 오류는 정말 빈번하게 일어난다."
   ]
  },
  {
   "cell_type": "code",
   "execution_count": 8,
   "id": "8fafd0e2",
   "metadata": {},
   "outputs": [
    {
     "ename": "IndexError",
     "evalue": "list index out of range",
     "output_type": "error",
     "traceback": [
      "\u001b[0;31m---------------------------------------------------------------------------\u001b[0m",
      "\u001b[0;31mIndexError\u001b[0m                                Traceback (most recent call last)",
      "\u001b[0;32m<ipython-input-8-e4e9a8dee017>\u001b[0m in \u001b[0;36m<module>\u001b[0;34m\u001b[0m\n\u001b[1;32m      1\u001b[0m \u001b[0ma\u001b[0m\u001b[0;34m=\u001b[0m\u001b[0;34m[\u001b[0m\u001b[0;36m1\u001b[0m\u001b[0;34m,\u001b[0m\u001b[0;36m2\u001b[0m\u001b[0;34m,\u001b[0m\u001b[0;36m3\u001b[0m\u001b[0;34m]\u001b[0m\u001b[0;34m\u001b[0m\u001b[0;34m\u001b[0m\u001b[0m\n\u001b[0;32m----> 2\u001b[0;31m \u001b[0ma\u001b[0m\u001b[0;34m[\u001b[0m\u001b[0;36m4\u001b[0m\u001b[0;34m]\u001b[0m\u001b[0;34m\u001b[0m\u001b[0;34m\u001b[0m\u001b[0m\n\u001b[0m",
      "\u001b[0;31mIndexError\u001b[0m: list index out of range"
     ]
    }
   ],
   "source": [
    "a=[1,2,3]\n",
    "a[4]"
   ]
  },
  {
   "cell_type": "markdown",
   "id": "f37abbc8",
   "metadata": {},
   "source": [
    "a는 리스트 [1,2,3]인데 a[4]는 a리스트에서 얻을수 없는 값이다. 따라서 IndeError 오류가 발생한다. 파이썬은 이런 오류가 발생하면 프로그램을 중단하고 오류 메시지를 보여준다."
   ]
  },
  {
   "cell_type": "markdown",
   "id": "92565784",
   "metadata": {},
   "source": [
    "## 오류 예외 처리 기법\n",
    "자, 이제 유연한 프로그래밍을 위한 오류 처리 기법에 대해 살펴보자."
   ]
  },
  {
   "cell_type": "markdown",
   "id": "d24ec027",
   "metadata": {},
   "source": [
    "### try, except문\n",
    "try:<br>\n",
    "$\\quad$....<br>\n",
    "except [발생 오류[as 오류 메시지 변수]]:<br>\n",
    "$\\quad$.....<br>\n",
    "위쪽은 오류 처리를 위한 try, except문의 기본 구조이다. try 블록 수행 중 오류가 발생하면 except 블록이 수행된다. 하지만 try블록에서 오류가 발생하지 않는다면 except블록은 수행되지 않는다."
   ]
  },
  {
   "cell_type": "markdown",
   "id": "e995c959",
   "metadata": {},
   "source": [
    "except 구문을 자세히 살펴보자.<br>\n",
    "except [발생 오류[as 오류 메시지 변수]]:"
   ]
  },
  {
   "cell_type": "markdown",
   "id": "1abbfdf9",
   "metadata": {},
   "source": [
    "위 문구를 보면 []기호를 사용하는데 , 이기호는 괄호 안의 내용을 생략할 수 있다는 관례 표기법이다. 즉 except구문은 다음 3가지 방법으로 사용할 수 있다."
   ]
  },
  {
   "cell_type": "markdown",
   "id": "90dfd4fd",
   "metadata": {},
   "source": [
    "### 1. try, except만 쓰는 방법\n",
    "이경우는 오류 종류에 상관없이 오류가 발생하면 except블록을 수행한다.<br>\n",
    "try:<br>\n",
    "$\\quad$....<br>\n",
    "except <br>$\\quad$.....<br>"
   ]
  },
  {
   "cell_type": "markdown",
   "id": "f7d52eea",
   "metadata": {},
   "source": [
    "### 2. 발생 오류만 포함한 except문\n",
    "이 경우는 오류가 발생했을 때 except문에 미리 정해 놓은 오류 이름과 일치할 때만 except블록을 수행한다는 뜻이다.\n",
    "<br>\n",
    "try:<br>\n",
    "$\\quad$....<br>\n",
    "except 발생 오류<br>$\\quad$.....<br>"
   ]
  },
  {
   "cell_type": "markdown",
   "id": "977c897c",
   "metadata": {},
   "source": [
    "### 3. 발생 오류와 오류 메시지 변수까지 포함한 except문\n",
    "이 경우는 두번째 경우에서 오류 메시지의 내용까지 알고 싶을 때 사용하는 방법이다.\n",
    "<br>\n",
    "try:<br>\n",
    "$\\quad$....<br>\n",
    "except 발생 오류 as 오류 메시지 변수:<br>$\\quad$.....<br>"
   ]
  },
  {
   "cell_type": "markdown",
   "id": "8ac283ba",
   "metadata": {},
   "source": [
    "이 방법의 예를 들어 보면 다음과 같다."
   ]
  },
  {
   "cell_type": "code",
   "execution_count": 10,
   "id": "e3db39f4",
   "metadata": {},
   "outputs": [
    {
     "name": "stdout",
     "output_type": "stream",
     "text": [
      "division by zero\n"
     ]
    }
   ],
   "source": [
    "try:\n",
    "    4/0\n",
    "except ZeroDivisionError as e:\n",
    "    print(e)"
   ]
  },
  {
   "cell_type": "markdown",
   "id": "18a25d47",
   "metadata": {},
   "source": [
    "위처럼 4를 0으로 나누려고 하면 ZeroDivisionError가 발생하여 except 블록이 실행되고 변수 e에 담기는 오류 메시지를 다음과 같이 출력한다.<br>\n",
    "결괏값 : division by zero"
   ]
  },
  {
   "cell_type": "markdown",
   "id": "9062cba1",
   "metadata": {},
   "source": [
    "### try...finally\n",
    "try문에는 finally절을 사용할 수 있다. finally절은 try문 수행 도중 예외 발생 여부에 상관없이 항상 수행된다. 보통finally절은 사용한 리소스를 close해야 할 때에 많이 사용한다.<br> 다음 예를 보자."
   ]
  },
  {
   "cell_type": "code",
   "execution_count": 2,
   "id": "3d6db309",
   "metadata": {},
   "outputs": [
    {
     "ename": "IndentationError",
     "evalue": "expected an indented block (<ipython-input-2-6842b5c95ab5>, line 4)",
     "output_type": "error",
     "traceback": [
      "\u001b[0;36m  File \u001b[0;32m\"<ipython-input-2-6842b5c95ab5>\"\u001b[0;36m, line \u001b[0;32m4\u001b[0m\n\u001b[0;31m    finally:\u001b[0m\n\u001b[0m    ^\u001b[0m\n\u001b[0;31mIndentationError\u001b[0m\u001b[0;31m:\u001b[0m expected an indented block\n"
     ]
    }
   ],
   "source": [
    "f=open('foo.txt','w')\n",
    "try:\n",
    "    # 무언가를 수행한다.\n",
    "finally:\n",
    "    f.close()"
   ]
  },
  {
   "cell_type": "markdown",
   "id": "fff64c30",
   "metadata": {},
   "source": [
    "foo.txt 파일을 쓰기 모드로 연 후에 try문을 수행한 후 예외 발생 여부의 상관없이 finally절에서 f.close()로 열린 파일을 닫을 수 있다."
   ]
  },
  {
   "cell_type": "markdown",
   "id": "b792fee2",
   "metadata": {},
   "source": [
    "### 여러 개의 오류 처리하기\n",
    "try문 안에서 여러 개의 오류를 처리하기 위해 다음 구문을 사용한다."
   ]
  },
  {
   "cell_type": "code",
   "execution_count": 4,
   "id": "f37b11d7",
   "metadata": {},
   "outputs": [
    {
     "ename": "SyntaxError",
     "evalue": "invalid syntax (<ipython-input-4-280b59f66af5>, line 3)",
     "output_type": "error",
     "traceback": [
      "\u001b[0;36m  File \u001b[0;32m\"<ipython-input-4-280b59f66af5>\"\u001b[0;36m, line \u001b[0;32m3\u001b[0m\n\u001b[0;31m    except 발생 오류 1:\u001b[0m\n\u001b[0m              ^\u001b[0m\n\u001b[0;31mSyntaxError\u001b[0m\u001b[0;31m:\u001b[0m invalid syntax\n"
     ]
    }
   ],
   "source": [
    "try:\n",
    "    ...\n",
    "except 발생 오류 1:\n",
    "    ...\n",
    "except 발생 오류 2:\n",
    "    ..."
   ]
  },
  {
   "cell_type": "markdown",
   "id": "ce0d3ca9",
   "metadata": {},
   "source": [
    "즉 0으로 나누는 오류와 인덱싱 오류를 다음과 같이 처리할 수 있다."
   ]
  },
  {
   "cell_type": "code",
   "execution_count": 12,
   "id": "b9107772",
   "metadata": {},
   "outputs": [
    {
     "name": "stdout",
     "output_type": "stream",
     "text": [
      "인덱싱할 수 없습니다.\n"
     ]
    }
   ],
   "source": [
    "try:\n",
    "    a=[1,2]\n",
    "    print(a[3])\n",
    "    4/0\n",
    "except ZeroDivisionError:\n",
    "    print(\"0으로 나눌 수 없습니다.\")\n",
    "except IndexError:\n",
    "    print('인덱싱할 수 없습니다.')"
   ]
  },
  {
   "cell_type": "markdown",
   "id": "d44c90a6",
   "metadata": {},
   "source": [
    "a는 2개의 요솟값을 가지고 있기 때문에 a[3]는 IndexError를 발생시키므로 '인덱싱할 수 없습니다.'라는 문자열이 출력될 것이다. 인덱싱 오류가 먼저 발생했으므로 4/0 ZeroDivisionError 오류는 발생하지 않았다."
   ]
  },
  {
   "cell_type": "markdown",
   "id": "a391ed27",
   "metadata": {},
   "source": [
    "앞에서 알아본 것과 마찬가지로 오류 메시지도 다음과 같이 가져올 수 있다."
   ]
  },
  {
   "cell_type": "code",
   "execution_count": 13,
   "id": "10abbc2c",
   "metadata": {},
   "outputs": [
    {
     "name": "stdout",
     "output_type": "stream",
     "text": [
      "list index out of range\n"
     ]
    }
   ],
   "source": [
    "try:\n",
    "    a=[1,2]\n",
    "    print(a[3])\n",
    "    4/0\n",
    "except ZeroDivisionError as e:\n",
    "    print(e)\n",
    "except IndexError as e:\n",
    "    print(e)"
   ]
  },
  {
   "cell_type": "markdown",
   "id": "e3f1d45c",
   "metadata": {},
   "source": [
    "2개 이상의 오류를 동시에 처리하기 위해서는 위와 같이 괄호를 사용하여 함께 묶어 처리하면 된다."
   ]
  },
  {
   "cell_type": "markdown",
   "id": "ea33f6fe",
   "metadata": {},
   "source": [
    "## 오류 회피하기\n",
    "프로그래밍을 하다 보면 특정 오류가 발생할 경우 그냥 통과시켜야 할 때가 있다. 다음 예를 보자."
   ]
  },
  {
   "cell_type": "code",
   "execution_count": 15,
   "id": "f77f5edb",
   "metadata": {},
   "outputs": [],
   "source": [
    "try:\n",
    "    f = open(\"나없는파일\",'r')\n",
    "except FileNotFoundError:\n",
    "    pass"
   ]
  },
  {
   "cell_type": "code",
   "execution_count": 16,
   "id": "1136c966",
   "metadata": {},
   "outputs": [
    {
     "ename": "SyntaxError",
     "evalue": "invalid syntax (<ipython-input-16-39e2039676d8>, line 1)",
     "output_type": "error",
     "traceback": [
      "\u001b[0;36m  File \u001b[0;32m\"<ipython-input-16-39e2039676d8>\"\u001b[0;36m, line \u001b[0;32m1\u001b[0m\n\u001b[0;31m    try문 안에서 FileNotFoundError가 발생할 경우에 pass를 사용하여 오류를 그냥 회피하도록 작성한 예제이다.\u001b[0m\n\u001b[0m         ^\u001b[0m\n\u001b[0;31mSyntaxError\u001b[0m\u001b[0;31m:\u001b[0m invalid syntax\n"
     ]
    }
   ],
   "source": [
    "try문 안에서 FileNotFoundError가 발생할 경우에 pass를 사용하여 오류를 그냥 회피하도록 작성한 예제이다."
   ]
  },
  {
   "cell_type": "markdown",
   "id": "2386f194",
   "metadata": {},
   "source": [
    "## 오류 일부러 발생시키기\n",
    "이상하게 들리겠지만 프로그래밍을 하다 보면 종종 오류를 일부러 발생시켜야 할 경우도 생긴다. 파이썬은 raise 명령어를 사용해 오류를 강제로 발생시킬 수 있다."
   ]
  },
  {
   "cell_type": "markdown",
   "id": "d100d1f6",
   "metadata": {},
   "source": [
    "예를 들어 Bird 클래스를 상속받는 자식 클래스는 반드시 fly라는 함수를 구현하도록 만들고 싶은 경우(강제로 그렇게 하고 싶은경우)가 있을 수 있다. 다음 예를 보자."
   ]
  },
  {
   "cell_type": "code",
   "execution_count": 57,
   "id": "60315648",
   "metadata": {},
   "outputs": [],
   "source": [
    "class Bird:\n",
    "    def fly(self):\n",
    "         raise NotImplementdeError"
   ]
  },
  {
   "cell_type": "markdown",
   "id": "24ea3090",
   "metadata": {},
   "source": [
    "위 예제는 Bird 클래스를 상속받는 자식 클래스는 반드시 fly 함수를 구현해야 한다는 의지를 보여준다. 만약 자식 클래스가 fly함수를 구현하지 않은 상태로 fly 함수를 호출한다면 어떻게 될까?"
   ]
  },
  {
   "cell_type": "code",
   "execution_count": 59,
   "id": "e6e14bed",
   "metadata": {},
   "outputs": [
    {
     "ename": "NameError",
     "evalue": "name 'NotImplementdeError' is not defined",
     "output_type": "error",
     "traceback": [
      "\u001b[0;31m---------------------------------------------------------------------------\u001b[0m",
      "\u001b[0;31mNameError\u001b[0m                                 Traceback (most recent call last)",
      "\u001b[0;32m<ipython-input-59-756b51ee5c22>\u001b[0m in \u001b[0;36m<module>\u001b[0;34m\u001b[0m\n\u001b[1;32m      4\u001b[0m \u001b[0;34m\u001b[0m\u001b[0m\n\u001b[1;32m      5\u001b[0m \u001b[0meagle\u001b[0m\u001b[0;34m=\u001b[0m\u001b[0mEagle\u001b[0m\u001b[0;34m(\u001b[0m\u001b[0;34m)\u001b[0m\u001b[0;34m\u001b[0m\u001b[0;34m\u001b[0m\u001b[0m\n\u001b[0;32m----> 6\u001b[0;31m \u001b[0meagle\u001b[0m\u001b[0;34m.\u001b[0m\u001b[0mfly\u001b[0m\u001b[0;34m(\u001b[0m\u001b[0;34m)\u001b[0m\u001b[0;34m\u001b[0m\u001b[0;34m\u001b[0m\u001b[0m\n\u001b[0m",
      "\u001b[0;32m<ipython-input-57-dd2e25d93b77>\u001b[0m in \u001b[0;36mfly\u001b[0;34m(self)\u001b[0m\n\u001b[1;32m      1\u001b[0m \u001b[0;32mclass\u001b[0m \u001b[0mBird\u001b[0m\u001b[0;34m:\u001b[0m\u001b[0;34m\u001b[0m\u001b[0;34m\u001b[0m\u001b[0m\n\u001b[1;32m      2\u001b[0m     \u001b[0;32mdef\u001b[0m \u001b[0mfly\u001b[0m\u001b[0;34m(\u001b[0m\u001b[0mself\u001b[0m\u001b[0;34m)\u001b[0m\u001b[0;34m:\u001b[0m\u001b[0;34m\u001b[0m\u001b[0;34m\u001b[0m\u001b[0m\n\u001b[0;32m----> 3\u001b[0;31m          \u001b[0;32mraise\u001b[0m \u001b[0mNotImplementdeError\u001b[0m\u001b[0;34m\u001b[0m\u001b[0;34m\u001b[0m\u001b[0m\n\u001b[0m",
      "\u001b[0;31mNameError\u001b[0m: name 'NotImplementdeError' is not defined"
     ]
    }
   ],
   "source": [
    "class Eagle(Bird):\n",
    "    pass\n",
    "\n",
    "\n",
    "eagle=Eagle()\n",
    "eagle.fly()"
   ]
  },
  {
   "cell_type": "markdown",
   "id": "9e187b8d",
   "metadata": {},
   "source": [
    "Eagle 클래스 Bird 클래스를 상속받는다. 그런데 Eagle 를 클래스에서 fly함수를 구현하지 않았기 때문에 Bird 클래스의 fly 함수가 호출된다. 그리고 raise문에 의해 NotImplemented Error가 발생할 것이다."
   ]
  },
  {
   "cell_type": "code",
   "execution_count": 60,
   "id": "25d5966d",
   "metadata": {},
   "outputs": [
    {
     "name": "stdout",
     "output_type": "stream",
     "text": [
      "very fast\n"
     ]
    }
   ],
   "source": [
    "class Eagle(Bird):\n",
    "    def fly(self):\n",
    "        print(\"very fast\")\n",
    "        \n",
    "        \n",
    "eagle=Eagle()\n",
    "eagle.fly()"
   ]
  },
  {
   "cell_type": "markdown",
   "id": "6bbeb80f",
   "metadata": {},
   "source": [
    "위 예처럼 fly 함수를 구현한 후 프로그램을 실행하면 오류 없이 다음 문장이 출력된다.<br> very fast"
   ]
  },
  {
   "cell_type": "markdown",
   "id": "60287945",
   "metadata": {},
   "source": [
    "## 예외 만들기\n",
    "프로그램 수행 도중 특수한 경우에만 예외 처리를 하기 위해서 종종 예외를 만들어서 사용한다. 직접 예외를 만들어 보자. 예외는 다음과 같이 파이썬 내장 클래스 Excepion 클래스를 상속하여 만들수 있다."
   ]
  },
  {
   "cell_type": "code",
   "execution_count": 61,
   "id": "01b81a44",
   "metadata": {},
   "outputs": [],
   "source": [
    "class MyError(Exception):\n",
    "    pass"
   ]
  },
  {
   "cell_type": "markdown",
   "id": "a9fe1808",
   "metadata": {},
   "source": [
    "그리고 별명을 출력해 주는 함수를 다음과 같이 작성한다."
   ]
  },
  {
   "cell_type": "code",
   "execution_count": 62,
   "id": "1f106501",
   "metadata": {},
   "outputs": [],
   "source": [
    "def say_nick(nick):\n",
    "    if nick =='바보':\n",
    "        raise MyError()\n",
    "    print(nick)"
   ]
  },
  {
   "cell_type": "markdown",
   "id": "1cd0ddcc",
   "metadata": {},
   "source": [
    "그리고 다음과 같이 say_nick 함수를 호출해 보자."
   ]
  },
  {
   "cell_type": "code",
   "execution_count": 63,
   "id": "b9fe90a9",
   "metadata": {},
   "outputs": [
    {
     "name": "stdout",
     "output_type": "stream",
     "text": [
      "천사\n"
     ]
    },
    {
     "ename": "MyError",
     "evalue": "",
     "output_type": "error",
     "traceback": [
      "\u001b[0;31m---------------------------------------------------------------------------\u001b[0m",
      "\u001b[0;31mMyError\u001b[0m                                   Traceback (most recent call last)",
      "\u001b[0;32m<ipython-input-63-eec48c824dc2>\u001b[0m in \u001b[0;36m<module>\u001b[0;34m\u001b[0m\n\u001b[1;32m      1\u001b[0m \u001b[0msay_nick\u001b[0m\u001b[0;34m(\u001b[0m\u001b[0;34m\"천사\"\u001b[0m\u001b[0;34m)\u001b[0m\u001b[0;34m\u001b[0m\u001b[0;34m\u001b[0m\u001b[0m\n\u001b[0;32m----> 2\u001b[0;31m \u001b[0msay_nick\u001b[0m\u001b[0;34m(\u001b[0m\u001b[0;34m\"바보\"\u001b[0m\u001b[0;34m)\u001b[0m\u001b[0;34m\u001b[0m\u001b[0;34m\u001b[0m\u001b[0m\n\u001b[0m",
      "\u001b[0;32m<ipython-input-62-c27e166f02ae>\u001b[0m in \u001b[0;36msay_nick\u001b[0;34m(nick)\u001b[0m\n\u001b[1;32m      1\u001b[0m \u001b[0;32mdef\u001b[0m \u001b[0msay_nick\u001b[0m\u001b[0;34m(\u001b[0m\u001b[0mnick\u001b[0m\u001b[0;34m)\u001b[0m\u001b[0;34m:\u001b[0m\u001b[0;34m\u001b[0m\u001b[0;34m\u001b[0m\u001b[0m\n\u001b[1;32m      2\u001b[0m     \u001b[0;32mif\u001b[0m \u001b[0mnick\u001b[0m \u001b[0;34m==\u001b[0m\u001b[0;34m'바보'\u001b[0m\u001b[0;34m:\u001b[0m\u001b[0;34m\u001b[0m\u001b[0;34m\u001b[0m\u001b[0m\n\u001b[0;32m----> 3\u001b[0;31m         \u001b[0;32mraise\u001b[0m \u001b[0mMyError\u001b[0m\u001b[0;34m(\u001b[0m\u001b[0;34m)\u001b[0m\u001b[0;34m\u001b[0m\u001b[0;34m\u001b[0m\u001b[0m\n\u001b[0m\u001b[1;32m      4\u001b[0m     \u001b[0mprint\u001b[0m\u001b[0;34m(\u001b[0m\u001b[0mnick\u001b[0m\u001b[0;34m)\u001b[0m\u001b[0;34m\u001b[0m\u001b[0;34m\u001b[0m\u001b[0m\n",
      "\u001b[0;31mMyError\u001b[0m: "
     ]
    }
   ],
   "source": [
    "say_nick(\"천사\")\n",
    "say_nick(\"바보\")    "
   ]
  },
  {
   "cell_type": "markdown",
   "id": "533b482e",
   "metadata": {},
   "source": [
    "저장한뒤 프로그램을 실행해 보면 다음과 같이 '천사'가 한번 출력된 후 MyError가 발생한다."
   ]
  },
  {
   "cell_type": "markdown",
   "id": "46daf807",
   "metadata": {},
   "source": [
    "이번에는 예외 처리 기법을 사용하여 MyError 발생을 예외 처리해 보자."
   ]
  },
  {
   "cell_type": "code",
   "execution_count": 78,
   "id": "d12e3f4e",
   "metadata": {},
   "outputs": [
    {
     "name": "stdout",
     "output_type": "stream",
     "text": [
      "천사\n",
      "허용되지 않는 별명입니다.\n"
     ]
    }
   ],
   "source": [
    "try:\n",
    "    say_nick(\"천사\")\n",
    "    say_nick(\"바보\")\n",
    "except MyError:\n",
    "    print(\"허용되지 않는 별명입니다.\")"
   ]
  },
  {
   "cell_type": "markdown",
   "id": "054c3bd3",
   "metadata": {},
   "source": [
    "프로그램을 실행하면 다음과 같이 출력된다."
   ]
  },
  {
   "cell_type": "markdown",
   "id": "f5d9aff9",
   "metadata": {},
   "source": [
    "만약 오류 메시지를 사용하고 싶다면 다음처럼 예외 처리를 하면 된다."
   ]
  },
  {
   "cell_type": "code",
   "execution_count": 79,
   "id": "e067f785",
   "metadata": {},
   "outputs": [
    {
     "name": "stdout",
     "output_type": "stream",
     "text": [
      "천사\n",
      "허용되지 않는 별명입니다.\n"
     ]
    }
   ],
   "source": [
    "try:\n",
    "    say_nick(\"천사\")\n",
    "    say_nick(\"바보\")\n",
    "except MyError as e:\n",
    "    print(e)"
   ]
  },
  {
   "cell_type": "markdown",
   "id": "035bcbf1",
   "metadata": {},
   "source": [
    "하지만 프로그램을 실행해 보면 print(e)로 오류메시지가 출력되지 않는 것을 확인할 수 있따. 오류 메시지를 출력했을 때 오류 메시지가 보이게 하려면 오류 클래스에 다음과 같은 _str_메서드를 구현해야 한다. _str_메서드는 print(e)처럼 오류 메시지를 print문으로 출력할 경우에 호출되는 메서드이다."
   ]
  },
  {
   "cell_type": "code",
   "execution_count": 80,
   "id": "f59bb238",
   "metadata": {},
   "outputs": [],
   "source": [
    "class MyError(Exception):\n",
    "    def __str__(self):\n",
    "        return \"허용되지 않는 별명입니다.\""
   ]
  },
  {
   "cell_type": "markdown",
   "id": "c289650d",
   "metadata": {},
   "source": [
    "프로그램을 다시 실행해 보면 \"허용되지 않는 별명입니다.\"라는 오류메시지가 출력되는 것을 확인할수 있다."
   ]
  },
  {
   "cell_type": "markdown",
   "id": "70fc967a",
   "metadata": {},
   "source": [
    "출처 : \"점프투파이썬\""
   ]
  }
 ],
 "metadata": {
  "kernelspec": {
   "display_name": "Python 3",
   "language": "python",
   "name": "python3"
  },
  "language_info": {
   "codemirror_mode": {
    "name": "ipython",
    "version": 3
   },
   "file_extension": ".py",
   "mimetype": "text/x-python",
   "name": "python",
   "nbconvert_exporter": "python",
   "pygments_lexer": "ipython3",
   "version": "3.8.8"
  }
 },
 "nbformat": 4,
 "nbformat_minor": 5
}
