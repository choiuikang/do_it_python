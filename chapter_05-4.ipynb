{
 "cells": [
  {
   "cell_type": "markdown",
   "id": "951fa566",
   "metadata": {},
   "source": [
    "# 예외 처리\n",
    "프로그램을 만들다 보면 수없이 많은 오류를 만나게 된다. 물론 오류가 발생하는 이유는 프로그램이 잘못 동작하는 것을 막기 위한 파이썬의 배려이다. 하지만 때때로 이러한 오류를 무시하고 싶을 때도 있다. 이를 위해 파이썬은 try, excespt를 사용해서 예외적으로 오류를 처리할수 있게 해준다."
   ]
  },
  {
   "cell_type": "markdown",
   "id": "d8710688",
   "metadata": {},
   "source": [
    "## 오류는 어떨 때 발생하는가?\n",
    "오류를 처리하는 방법을 알기 전에 어떤 상황에서 오류가 발생하는지 한번 알아보자. 오타를 입력했을 때 발생하는 구문 오류 같은 것이 아닌 실제 프로그램에서 자주 발생하는 오류를 중심으로 살펴본다.<br>먼저 디렉터리 안에 없는 파일을 열려고 시도했을 때 발생하는 오류이다."
   ]
  },
  {
   "cell_type": "code",
   "execution_count": 2,
   "id": "1b24d7f4",
   "metadata": {},
   "outputs": [
    {
     "ename": "FileNotFoundError",
     "evalue": "[Errno 2] No such file or directory: '나없는 파일'",
     "output_type": "error",
     "traceback": [
      "\u001b[0;31m---------------------------------------------------------------------------\u001b[0m",
      "\u001b[0;31mFileNotFoundError\u001b[0m                         Traceback (most recent call last)",
      "\u001b[0;32m<ipython-input-2-11e8d010e04f>\u001b[0m in \u001b[0;36m<module>\u001b[0;34m\u001b[0m\n\u001b[0;32m----> 1\u001b[0;31m \u001b[0mf\u001b[0m\u001b[0;34m=\u001b[0m\u001b[0mopen\u001b[0m\u001b[0;34m(\u001b[0m\u001b[0;34m\"나없는 파일\"\u001b[0m\u001b[0;34m,\u001b[0m \u001b[0;34m'r'\u001b[0m\u001b[0;34m)\u001b[0m\u001b[0;34m\u001b[0m\u001b[0;34m\u001b[0m\u001b[0m\n\u001b[0m",
      "\u001b[0;31mFileNotFoundError\u001b[0m: [Errno 2] No such file or directory: '나없는 파일'"
     ]
    }
   ],
   "source": [
    "f=open(\"나없는 파일\", 'r')"
   ]
  },
  {
   "cell_type": "markdown",
   "id": "d34d81b1",
   "metadata": {},
   "source": [
    "위 예에서 볼수 있듯이 없는 파일을 열려고 시도하면 FileNotFoundError 오류가 발생한다."
   ]
  },
  {
   "cell_type": "markdown",
   "id": "2f15a5ed",
   "metadata": {},
   "source": [
    "이번에는 -으로 다른 숫자를 나누는 경우를 생각해 보자. 이역시 자주 발생하는 오류이다."
   ]
  },
  {
   "cell_type": "code",
   "execution_count": 4,
   "id": "49280a35",
   "metadata": {},
   "outputs": [
    {
     "ename": "ZeroDivisionError",
     "evalue": "division by zero",
     "output_type": "error",
     "traceback": [
      "\u001b[0;31m---------------------------------------------------------------------------\u001b[0m",
      "\u001b[0;31mZeroDivisionError\u001b[0m                         Traceback (most recent call last)",
      "\u001b[0;32m<ipython-input-4-87ac9c94a8c2>\u001b[0m in \u001b[0;36m<module>\u001b[0;34m\u001b[0m\n\u001b[0;32m----> 1\u001b[0;31m \u001b[0;36m4\u001b[0m \u001b[0;34m/\u001b[0m \u001b[0;36m0\u001b[0m\u001b[0;34m\u001b[0m\u001b[0;34m\u001b[0m\u001b[0m\n\u001b[0m",
      "\u001b[0;31mZeroDivisionError\u001b[0m: division by zero"
     ]
    }
   ],
   "source": [
    "4 / 0"
   ]
  },
  {
   "cell_type": "markdown",
   "id": "725a5a5d",
   "metadata": {},
   "source": [
    "4를 0으로 나누려니까 ZeroDivisionError 오류가 발생한다."
   ]
  },
  {
   "cell_type": "markdown",
   "id": "36df08fd",
   "metadata": {},
   "source": [
    "마지막으로 한 가지 예를 더 들어 보자. 다음 오류는 정말 빈번하게 일어난다."
   ]
  },
  {
   "cell_type": "code",
   "execution_count": 8,
   "id": "8fafd0e2",
   "metadata": {},
   "outputs": [
    {
     "ename": "IndexError",
     "evalue": "list index out of range",
     "output_type": "error",
     "traceback": [
      "\u001b[0;31m---------------------------------------------------------------------------\u001b[0m",
      "\u001b[0;31mIndexError\u001b[0m                                Traceback (most recent call last)",
      "\u001b[0;32m<ipython-input-8-e4e9a8dee017>\u001b[0m in \u001b[0;36m<module>\u001b[0;34m\u001b[0m\n\u001b[1;32m      1\u001b[0m \u001b[0ma\u001b[0m\u001b[0;34m=\u001b[0m\u001b[0;34m[\u001b[0m\u001b[0;36m1\u001b[0m\u001b[0;34m,\u001b[0m\u001b[0;36m2\u001b[0m\u001b[0;34m,\u001b[0m\u001b[0;36m3\u001b[0m\u001b[0;34m]\u001b[0m\u001b[0;34m\u001b[0m\u001b[0;34m\u001b[0m\u001b[0m\n\u001b[0;32m----> 2\u001b[0;31m \u001b[0ma\u001b[0m\u001b[0;34m[\u001b[0m\u001b[0;36m4\u001b[0m\u001b[0;34m]\u001b[0m\u001b[0;34m\u001b[0m\u001b[0;34m\u001b[0m\u001b[0m\n\u001b[0m",
      "\u001b[0;31mIndexError\u001b[0m: list index out of range"
     ]
    }
   ],
   "source": [
    "a=[1,2,3]\n",
    "a[4]"
   ]
  },
  {
   "cell_type": "markdown",
   "id": "f37abbc8",
   "metadata": {},
   "source": [
    "a는 리스트 [1,2,3]인데 a[4]는 a리스트에서 얻을수 없는 값이다. 따라서 IndeError 오류가 발생한다. 파이썬은 이런 오류가 발생하면 프로그램을 중단하고 오류 메시지를 보여준다."
   ]
  },
  {
   "cell_type": "markdown",
   "id": "92565784",
   "metadata": {},
   "source": [
    "## 오류 예외 처리 기법\n",
    "자, 이제 유연한 프로그래밍을 위한 오류 처리 기법에 대해 살펴보자."
   ]
  },
  {
   "cell_type": "markdown",
   "id": "d24ec027",
   "metadata": {},
   "source": [
    "### try, except문\n",
    "try:<br>\n",
    "$\\quad$....<br>\n",
    "except [발생 오류[as 오류 메시지 변수]]:<br>\n",
    "$\\quad$.....<br>\n",
    "위쪽은 오류 처리를 위한 try, except문의 기본 구조이다. try 블록 수행 중 오류가 발생하면 except 블록이 수행된다. 하지만 try블록에서 오류가 발생하지 않는다면 except블록은 수행되지 않는다."
   ]
  },
  {
   "cell_type": "markdown",
   "id": "e995c959",
   "metadata": {},
   "source": [
    "except 구문을 자세히 살펴보자.<br>\n",
    "except [발생 오류[as 오류 메시지 변수]]:"
   ]
  },
  {
   "cell_type": "markdown",
   "id": "1abbfdf9",
   "metadata": {},
   "source": [
    "위 문구를 보면 []기호를 사용하는데 , 이기호는 괄호 안의 내용을 생략할 수 있다는 관례 표기법이다. 즉 except구문은 다음 3가지 방법으로 사용할 수 있다."
   ]
  },
  {
   "cell_type": "markdown",
   "id": "90dfd4fd",
   "metadata": {},
   "source": [
    "### 1. try, except만 쓰는 방법\n",
    "이경우는 오류 종류에 상관없이 오류가 발생하면 except블록을 수행한다.<br>\n",
    "try:<br>\n",
    "$\\quad$....<br>\n",
    "except <br>$\\quad$.....<br>"
   ]
  },
  {
   "cell_type": "markdown",
   "id": "f7d52eea",
   "metadata": {},
   "source": [
    "### 2. 발생 오류만 포함한 except문\n",
    "이 경우는 오류가 발생했을 때 except문에 미리 정해 놓은 오류 이름과 일치할 때만 except블록을 수행한다는 뜻이다.\n",
    "<br>\n",
    "try:<br>\n",
    "$\\quad$....<br>\n",
    "except 발생 오류<br>$\\quad$.....<br>"
   ]
  },
  {
   "cell_type": "markdown",
   "id": "977c897c",
   "metadata": {},
   "source": [
    "### 3. 발생 오류와 오류 메시지 변수까지 포함한 except문\n",
    "이 경우는 두번째 경우에서 오류 메시지의 내용까지 알고 싶을 때 사용하는 방법이다.\n",
    "<br>\n",
    "try:<br>\n",
    "$\\quad$....<br>\n",
    "except 발생 오류 as 오류 메시지 변수:<br>$\\quad$.....<br>"
   ]
  },
  {
   "cell_type": "markdown",
   "id": "8ac283ba",
   "metadata": {},
   "source": [
    "이 방법의 예를 들어 보면 다음과 같다."
   ]
  },
  {
   "cell_type": "code",
   "execution_count": 10,
   "id": "e3db39f4",
   "metadata": {},
   "outputs": [
    {
     "name": "stdout",
     "output_type": "stream",
     "text": [
      "division by zero\n"
     ]
    }
   ],
   "source": [
    "try:\n",
    "    4/0\n",
    "except ZeroDivisionError as e:\n",
    "    print(e)"
   ]
  },
  {
   "cell_type": "markdown",
   "id": "18a25d47",
   "metadata": {},
   "source": [
    "위처럼 4를 0으로 나누려고 하면 ZeroDivisionError가 발생하여 except 블록이 실행되고 변수 e에 담기는 오류 메시지를 다음과 같이 출력한다.<br>\n",
    "결괏값 : division by zero"
   ]
  },
  {
   "cell_type": "markdown",
   "id": "9062cba1",
   "metadata": {},
   "source": [
    "### try...finally\n",
    "try문에는 finally절을 사용할 수 있다. finally절은 try문 수행 도중 예외 발생 여부에 상관없이 항상 수행된다. 보통finally절은 사용한 리소스를 close해야 할 때에 많이 사용한다.<br> 다음 예를 보자."
   ]
  },
  {
   "cell_type": "code",
   "execution_count": null,
   "id": "3d6db309",
   "metadata": {},
   "outputs": [],
   "source": []
  }
 ],
 "metadata": {
  "kernelspec": {
   "display_name": "Python 3",
   "language": "python",
   "name": "python3"
  },
  "language_info": {
   "codemirror_mode": {
    "name": "ipython",
    "version": 3
   },
   "file_extension": ".py",
   "mimetype": "text/x-python",
   "name": "python",
   "nbconvert_exporter": "python",
   "pygments_lexer": "ipython3",
   "version": "3.8.8"
  }
 },
 "nbformat": 4,
 "nbformat_minor": 5
}
