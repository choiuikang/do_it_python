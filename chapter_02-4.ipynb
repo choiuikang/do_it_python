{
 "cells": [
  {
   "cell_type": "markdown",
   "id": "be9ab971",
   "metadata": {},
   "source": [
    "# 튜플 자료형\n",
    "튜플은 몇 가지 점을 제외하곤 리스트와 거의 비슷하며 리스트와 다른 점은 다음과 같다.\n",
    "- 리스트는 []으로 둘러싸지만 튜플은 ()으로 둘러싼다.\n",
    "- 리스트는 그 값의 생성 .삭제.수정이 가능하지만 튜플은 그 값을 바꿀 수 없다.<br> 튜플의 모습은 다음과 같다."
   ]
  },
  {
   "cell_type": "code",
   "execution_count": 2,
   "id": "db65954d",
   "metadata": {},
   "outputs": [],
   "source": [
    "t1=()\n",
    "t2=(1,)\n",
    "t3=(1,2,3)\n",
    "t4=1,2,3\n",
    "t5=('a','b',('ab','cd'))"
   ]
  },
  {
   "cell_type": "markdown",
   "id": "08fad101",
   "metadata": {},
   "source": [
    "리스트와 모습은 거의 비슷하지만 튜플에서는 리스트와 다른 2가지 차이점을 찾아볼 수 있다. t2=(1,)처럼 단지 1개의 요소만을 가질 때는 요소 뒤에 콤마(,)를 반드시 붙여야 한다는 것과 t4=1,2,3처럼 괄호()를 생략해도 무방하다는 점이다. "
   ]
  },
  {
   "cell_type": "markdown",
   "id": "ebd6fd7a",
   "metadata": {},
   "source": [
    "얼핏 보면 튜플과 리스트는 비슷한 역할을 하지만 프로그래밍을 할 때 튜플과 리스트는 구별해서 사용하는 것이 유리하다. 튜플과 리스트의 가장 큰 차이는 값을 변화시킬 수 있는가 여부이다. 즉 리스트의 항목 값은 별화가 가능하고 튜플의 항목 값은 변화가 불가능하다. 따라서 프로그램이 실행되는 동안 그 값이 항상 변하지 않기를 바란다거나 값이 바뀔까 걱정하고 싶지 않다면 주저하지말고 튜플을 사용해야 한다. 이와는 반대로 수시로 그 값을 변화시켜야 할 경우라면 리스트를 사용해야 한다. 실제 프로그램에서는 값이 변경되는 형태의 변수가 훨씬 많기 떄문에 평균적으로 튜플보다는 리스트를 더 많이 사용한다."
   ]
  },
  {
   "cell_type": "markdown",
   "id": "000b129a",
   "metadata": {},
   "source": [
    "## 튜플의 요솟값을 지우거나 변경하려고 하면 어떻게 될까?\n",
    "앞에서 설명했듯이 튜플의 요솟값은 한 번 정하면 지우거나 변경할 수 없다. 다음에 소개하는 두 예를 살펴보면 무슨말인지 알 수 있을 것이다."
   ]
  },
  {
   "cell_type": "markdown",
   "id": "9269cad9",
   "metadata": {},
   "source": [
    "### 튜플 요솟값을 삭제하려 할 때"
   ]
  },
  {
   "cell_type": "code",
   "execution_count": 3,
   "id": "23f80e6a",
   "metadata": {},
   "outputs": [
    {
     "ename": "TypeError",
     "evalue": "'tuple' object doesn't support item deletion",
     "output_type": "error",
     "traceback": [
      "\u001b[1;31m---------------------------------------------------------------------------\u001b[0m",
      "\u001b[1;31mTypeError\u001b[0m                                 Traceback (most recent call last)",
      "\u001b[1;32m<ipython-input-3-b8de262ae0c8>\u001b[0m in \u001b[0;36m<module>\u001b[1;34m\u001b[0m\n\u001b[0;32m      1\u001b[0m \u001b[0mt1\u001b[0m\u001b[1;33m=\u001b[0m\u001b[1;33m(\u001b[0m\u001b[1;36m1\u001b[0m\u001b[1;33m,\u001b[0m\u001b[1;36m2\u001b[0m\u001b[1;33m,\u001b[0m\u001b[1;34m'a'\u001b[0m\u001b[1;33m,\u001b[0m\u001b[1;34m'b'\u001b[0m\u001b[1;33m)\u001b[0m\u001b[1;33m\u001b[0m\u001b[1;33m\u001b[0m\u001b[0m\n\u001b[1;32m----> 2\u001b[1;33m \u001b[1;32mdel\u001b[0m \u001b[0mt1\u001b[0m\u001b[1;33m[\u001b[0m\u001b[1;36m0\u001b[0m\u001b[1;33m]\u001b[0m\u001b[1;33m\u001b[0m\u001b[1;33m\u001b[0m\u001b[0m\n\u001b[0m",
      "\u001b[1;31mTypeError\u001b[0m: 'tuple' object doesn't support item deletion"
     ]
    }
   ],
   "source": [
    "t1=(1,2,'a','b')\n",
    "del t1[0]"
   ]
  },
  {
   "cell_type": "markdown",
   "id": "127c7316",
   "metadata": {},
   "source": [
    "튜플의 요소를 리스트처럼 del 함수로 지우려고 한 예이다. 튜플은 요소를 지우는 행위가 지원되지 않는다는 메시지를 확인할 수 있다."
   ]
  },
  {
   "cell_type": "markdown",
   "id": "431f9d24",
   "metadata": {},
   "source": [
    "### 튜플 요솟값을 변경하려 할 때"
   ]
  },
  {
   "cell_type": "code",
   "execution_count": 4,
   "id": "d4c3c1e4",
   "metadata": {},
   "outputs": [
    {
     "ename": "SyntaxError",
     "evalue": "invalid syntax (<ipython-input-4-db1274338650>, line 2)",
     "output_type": "error",
     "traceback": [
      "\u001b[1;36m  File \u001b[1;32m\"<ipython-input-4-db1274338650>\"\u001b[1;36m, line \u001b[1;32m2\u001b[0m\n\u001b[1;33m    t1[0]'c'\u001b[0m\n\u001b[1;37m         ^\u001b[0m\n\u001b[1;31mSyntaxError\u001b[0m\u001b[1;31m:\u001b[0m invalid syntax\n"
     ]
    }
   ],
   "source": [
    "t1(1,2,'a','b')\n",
    "t1[0]'c'"
   ]
  },
  {
   "cell_type": "markdown",
   "id": "e00362fb",
   "metadata": {},
   "source": [
    "튜플의 요솟값을 변경하려고 해도 마찬가지로 오류가 발생하는 것을 확인할 수 있다."
   ]
  },
  {
   "cell_type": "markdown",
   "id": "3f717693",
   "metadata": {},
   "source": [
    "## 튜플 다루기\n",
    "튜플은 값을 변화시킬 수 없다는 점만 제외하면 리스트와 완전히 동일하므로 간단하게만 살펴보겠다. 다음 예제는 서로 연관되어 있으므로 차례대로 수행해 보기 바란다."
   ]
  },
  {
   "cell_type": "markdown",
   "id": "fb02f2d3",
   "metadata": {},
   "source": [
    "### 1. 인덱싱하기"
   ]
  },
  {
   "cell_type": "code",
   "execution_count": 5,
   "id": "8b3767e5",
   "metadata": {},
   "outputs": [
    {
     "data": {
      "text/plain": [
       "1"
      ]
     },
     "execution_count": 5,
     "metadata": {},
     "output_type": "execute_result"
    }
   ],
   "source": [
    "t1=(1,2,'a','b')\n",
    "t1[0]"
   ]
  },
  {
   "cell_type": "code",
   "execution_count": 6,
   "id": "b4f11693",
   "metadata": {},
   "outputs": [
    {
     "data": {
      "text/plain": [
       "'b'"
      ]
     },
     "execution_count": 6,
     "metadata": {},
     "output_type": "execute_result"
    }
   ],
   "source": [
    "t1[3]"
   ]
  },
  {
   "cell_type": "markdown",
   "id": "5e032f23",
   "metadata": {},
   "source": [
    "문자열, 리스트와 마찬가지로 t[0],t[3]처럼 인덱싱이 가능하다."
   ]
  },
  {
   "cell_type": "markdown",
   "id": "5970b7a5",
   "metadata": {},
   "source": [
    "### 2. 슬라이싱하기"
   ]
  },
  {
   "cell_type": "code",
   "execution_count": 7,
   "id": "f9fd0f8f",
   "metadata": {},
   "outputs": [
    {
     "data": {
      "text/plain": [
       "(2, 'a', 'b')"
      ]
     },
     "execution_count": 7,
     "metadata": {},
     "output_type": "execute_result"
    }
   ],
   "source": [
    "t1=(1,2,'a','b')\n",
    "t1[1:]"
   ]
  },
  {
   "cell_type": "markdown",
   "id": "18f46ab8",
   "metadata": {},
   "source": [
    "t1[1]부터 튜플의 마지막 요소까지 슬라이싱하는 예이다."
   ]
  },
  {
   "cell_type": "markdown",
   "id": "bad8b9c9",
   "metadata": {},
   "source": [
    "### 3. 튜플 더하기"
   ]
  },
  {
   "cell_type": "code",
   "execution_count": 9,
   "id": "4a87a55a",
   "metadata": {},
   "outputs": [
    {
     "data": {
      "text/plain": [
       "(1, 2, 'a', 'b', 3, 4)"
      ]
     },
     "execution_count": 9,
     "metadata": {},
     "output_type": "execute_result"
    }
   ],
   "source": [
    "t2=(3,4)\n",
    "t1+t2"
   ]
  },
  {
   "cell_type": "markdown",
   "id": "15b43edd",
   "metadata": {},
   "source": [
    "튜플을 더하는 방법을 보여 주는 예이다."
   ]
  },
  {
   "cell_type": "markdown",
   "id": "c8c03cc1",
   "metadata": {},
   "source": [
    "### 튜플 곱하기"
   ]
  },
  {
   "cell_type": "code",
   "execution_count": 10,
   "id": "c6d9913e",
   "metadata": {},
   "outputs": [
    {
     "data": {
      "text/plain": [
       "(3, 4, 3, 4, 3, 4)"
      ]
     },
     "execution_count": 10,
     "metadata": {},
     "output_type": "execute_result"
    }
   ],
   "source": [
    "t2*3"
   ]
  },
  {
   "cell_type": "markdown",
   "id": "5239290a",
   "metadata": {},
   "source": [
    "튜플의 곱하기 예를 보여 준다."
   ]
  },
  {
   "cell_type": "markdown",
   "id": "16d31b76",
   "metadata": {},
   "source": [
    "### 튜플 길이 구하기"
   ]
  },
  {
   "cell_type": "code",
   "execution_count": 11,
   "id": "54c97d87",
   "metadata": {},
   "outputs": [
    {
     "data": {
      "text/plain": [
       "4"
      ]
     },
     "execution_count": 11,
     "metadata": {},
     "output_type": "execute_result"
    }
   ],
   "source": [
    "t1=(1,2,'a','b')\n",
    "len(t1)"
   ]
  },
  {
   "cell_type": "markdown",
   "id": "40989dac",
   "metadata": {},
   "source": [
    "튜플의 길이를 구하는 예이다."
   ]
  },
  {
   "cell_type": "markdown",
   "id": "4ae18f7e",
   "metadata": {},
   "source": [
    "(1,2,3)이라는 튜플에 값 4를 추가하여 (1,2,3,4)를 만들어 출력해보자."
   ]
  },
  {
   "cell_type": "code",
   "execution_count": 19,
   "id": "8b0ff5ab",
   "metadata": {},
   "outputs": [
    {
     "data": {
      "text/plain": [
       "(1, 2, 3, 4)"
      ]
     },
     "execution_count": 19,
     "metadata": {},
     "output_type": "execute_result"
    }
   ],
   "source": [
    "t1=(1,2,3)\n",
    "t2=(4,)\n",
    "t1+(4,)"
   ]
  },
  {
   "cell_type": "code",
   "execution_count": 21,
   "id": "5212e316",
   "metadata": {},
   "outputs": [
    {
     "data": {
      "text/plain": [
       "(1, 2, 3, 4)"
      ]
     },
     "execution_count": 21,
     "metadata": {},
     "output_type": "execute_result"
    }
   ],
   "source": [
    "t1+t2"
   ]
  },
  {
   "cell_type": "markdown",
   "id": "6955d9b7",
   "metadata": {},
   "source": [
    "출처 : \"점프투파이썬\""
   ]
  }
 ],
 "metadata": {
  "kernelspec": {
   "display_name": "Python 3",
   "language": "python",
   "name": "python3"
  },
  "language_info": {
   "codemirror_mode": {
    "name": "ipython",
    "version": 3
   },
   "file_extension": ".py",
   "mimetype": "text/x-python",
   "name": "python",
   "nbconvert_exporter": "python",
   "pygments_lexer": "ipython3",
   "version": "3.8.8"
  }
 },
 "nbformat": 4,
 "nbformat_minor": 5
}
