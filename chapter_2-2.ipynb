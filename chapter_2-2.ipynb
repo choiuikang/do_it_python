{
 "cells": [
  {
   "cell_type": "markdown",
   "id": "f4c82141",
   "metadata": {},
   "source": [
    "## 문자열 자료형\n",
    "문자열이란 문자, 단어 등으로 구성된 문자들의 집합을 의미한다. 예를들어 다음과 같은 것들이 문자열이다."
   ]
  },
  {
   "cell_type": "code",
   "execution_count": 8,
   "id": "84b76cee",
   "metadata": {},
   "outputs": [
    {
     "data": {
      "text/plain": [
       "'Life is too short, You need Python'"
      ]
     },
     "execution_count": 8,
     "metadata": {},
     "output_type": "execute_result"
    }
   ],
   "source": [
    "\"Life is too short, You need Python\""
   ]
  },
  {
   "cell_type": "code",
   "execution_count": 9,
   "id": "d07a2885",
   "metadata": {},
   "outputs": [
    {
     "data": {
      "text/plain": [
       "'a'"
      ]
     },
     "execution_count": 9,
     "metadata": {},
     "output_type": "execute_result"
    }
   ],
   "source": [
    "\"a\""
   ]
  },
  {
   "cell_type": "code",
   "execution_count": 10,
   "id": "4d940b62",
   "metadata": {},
   "outputs": [
    {
     "data": {
      "text/plain": [
       "'123'"
      ]
     },
     "execution_count": 10,
     "metadata": {},
     "output_type": "execute_result"
    }
   ],
   "source": [
    "\"123\""
   ]
  },
  {
   "cell_type": "markdown",
   "id": "35cdaf5c",
   "metadata": {},
   "source": [
    "위 문자열 예문을 보면 모두 큰따옴표(\"\")로 둘러싸여 있다. '123은 숫자인데 왜 문자열이지?'라는 의문이 드는 독자도 있을 것이다. 따옴표로 둘러싸여 있으면 모두 문자열이라고 보면 된다."
   ]
  },
  {
   "cell_type": "markdown",
   "id": "ecac66bc",
   "metadata": {},
   "source": [
    "## 문자열은 어떻게 만들고 사용할까?\n",
    "위 예에서는 문자열을 만들 때 큰따옴표(\"\")만을 사용했지만 이 외에도 문자열을 만드는 방법은 3가지가 더 있다. 파이썬에서 문자열을 만드는 방법은 총 4가지이다."
   ]
  },
  {
   "cell_type": "markdown",
   "id": "c9acd4ad",
   "metadata": {},
   "source": [
    "### 1. 큰따옴표(\")로 양쪽 둘러싸기"
   ]
  },
  {
   "cell_type": "code",
   "execution_count": 11,
   "id": "9a8beedb",
   "metadata": {},
   "outputs": [
    {
     "data": {
      "text/plain": [
       "'Hello World'"
      ]
     },
     "execution_count": 11,
     "metadata": {},
     "output_type": "execute_result"
    }
   ],
   "source": [
    "\"Hello World\""
   ]
  },
  {
   "cell_type": "markdown",
   "id": "711c705a",
   "metadata": {},
   "source": [
    "### 2. 작은따옴표(')로 양쪽 둘러싸기"
   ]
  },
  {
   "cell_type": "code",
   "execution_count": 12,
   "id": "3b8faa80",
   "metadata": {},
   "outputs": [
    {
     "data": {
      "text/plain": [
       "'Python is fun'"
      ]
     },
     "execution_count": 12,
     "metadata": {},
     "output_type": "execute_result"
    }
   ],
   "source": [
    "'Python is fun'"
   ]
  },
  {
   "cell_type": "markdown",
   "id": "86643078",
   "metadata": {},
   "source": [
    "###  3. 큰따옴표 3개를 연속(''')으로 써서 양쪽 둘러싸기"
   ]
  },
  {
   "cell_type": "code",
   "execution_count": 13,
   "id": "77e318dd",
   "metadata": {},
   "outputs": [
    {
     "data": {
      "text/plain": [
       "'Life is too short, You need python'"
      ]
     },
     "execution_count": 13,
     "metadata": {},
     "output_type": "execute_result"
    }
   ],
   "source": [
    "\"\"\"Life is too short, You need python\"\"\""
   ]
  },
  {
   "cell_type": "markdown",
   "id": "ecff4aee",
   "metadata": {},
   "source": [
    "### 4. 작은 따옴표 3개를 연속(''')으로 써서 양쪽 둘러싸기 "
   ]
  },
  {
   "cell_type": "code",
   "execution_count": 14,
   "id": "e9c5634d",
   "metadata": {},
   "outputs": [
    {
     "data": {
      "text/plain": [
       "'Life is too shortm You need python'"
      ]
     },
     "execution_count": 14,
     "metadata": {},
     "output_type": "execute_result"
    }
   ],
   "source": [
    "'''Life is too shortm You need python'''"
   ]
  },
  {
   "cell_type": "markdown",
   "id": "99abb1cb",
   "metadata": {},
   "source": [
    " 단순함이 자랑인 파이썬이 문자열을 만드는 방법은 왜 4가지나 가지게 되었을까? 그이유에 대해 알아보자.\n"
   ]
  },
  {
   "cell_type": "markdown",
   "id": "93012374",
   "metadata": {},
   "source": [
    "### 문자열 안에 작은 따옴표나 큰따옴표를 포함시키고 싶을 때\n",
    "문자열을 만들어 주는 주인공은 작은따옴표(')와 큰따옴표(\")이다. 그런데 문자열 안에도 작은 따옴표와 큰따옴표가 들어 있어야 할 경우가 있다. 이떄는 좀더 특별한 기술이 필요하다. 예제를 하나씩 살펴보면서 원리를 익혀보자."
   ]
  },
  {
   "cell_type": "markdown",
   "id": "263d938a",
   "metadata": {},
   "source": [
    "### 1. 문자열에 작은따옴표(') 포함시키기"
   ]
  },
  {
   "cell_type": "code",
   "execution_count": 1,
   "id": "0c055e45",
   "metadata": {},
   "outputs": [
    {
     "data": {
      "text/plain": [
       "\"Python's favorite food is perl\""
      ]
     },
     "execution_count": 1,
     "metadata": {},
     "output_type": "execute_result"
    }
   ],
   "source": [
    "\"Python's favorite food is perl\""
   ]
  },
  {
   "cell_type": "markdown",
   "id": "ddb23fae",
   "metadata": {},
   "source": [
    "위와 같은 문자열을 food 변수에 저장하고 싶다고 가정하다. 문자열 중 Python's에 작은 따옴표(')가 포함되어 있다."
   ]
  },
  {
   "cell_type": "markdown",
   "id": "7cc417fa",
   "metadata": {},
   "source": [
    "이럴 떄는 다음과 같이 문자열을 큰따옴표(\")로 둘러싸야한다. 큰따옴표 안에 들어 있는 작은 따옴표는 문자열을 나타내기 위한 기호로 인식되지 않는다."
   ]
  },
  {
   "cell_type": "code",
   "execution_count": 19,
   "id": "4663801e",
   "metadata": {},
   "outputs": [],
   "source": [
    "food =\"Python's favorite food is perl\""
   ]
  },
  {
   "cell_type": "markdown",
   "id": "010cfe57",
   "metadata": {},
   "source": [
    "프롬프트에 food를 입력해서 결과를 확인하다. 변수에 저장된 문자열이 그대로 출력되는 것을 볼 수 있다."
   ]
  },
  {
   "cell_type": "code",
   "execution_count": 20,
   "id": "bae14f99",
   "metadata": {},
   "outputs": [
    {
     "data": {
      "text/plain": [
       "\"Python's favorite food is perl\""
      ]
     },
     "execution_count": 20,
     "metadata": {},
     "output_type": "execute_result"
    }
   ],
   "source": [
    "food"
   ]
  },
  {
   "cell_type": "markdown",
   "id": "1bd71147",
   "metadata": {},
   "source": [
    "시험 삼아 다음과 같이 큰따옴표(\")가 아닌 작은따옴표(')로 문자열을 둘러싼 후 다시 실행해 보자. 'Python'이 문자열로 인식되어 구문 오류가 발생할 것이다."
   ]
  },
  {
   "cell_type": "code",
   "execution_count": 21,
   "id": "3c460239",
   "metadata": {},
   "outputs": [
    {
     "ename": "SyntaxError",
     "evalue": "invalid syntax (<ipython-input-21-1f049dc45345>, line 1)",
     "output_type": "error",
     "traceback": [
      "\u001b[1;36m  File \u001b[1;32m\"<ipython-input-21-1f049dc45345>\"\u001b[1;36m, line \u001b[1;32m1\u001b[0m\n\u001b[1;33m    food='Python's favorite food is perl'\u001b[0m\n\u001b[1;37m                 ^\u001b[0m\n\u001b[1;31mSyntaxError\u001b[0m\u001b[1;31m:\u001b[0m invalid syntax\n"
     ]
    }
   ],
   "source": [
    "food= 'Python's favorite food is perl'"
   ]
  },
  {
   "cell_type": "markdown",
   "id": "2abd792d",
   "metadata": {},
   "source": [
    "### 2. 문자열에 큰따옴표(\") 포함시키기"
   ]
  },
  {
   "cell_type": "markdown",
   "id": "384ac856",
   "metadata": {},
   "source": [
    "\"Python is very easy.\" he says."
   ]
  },
  {
   "cell_type": "markdown",
   "id": "09f50829",
   "metadata": {},
   "source": [
    "위와 같이 큰따옴표가(\") 포함된 문자열이라면 어떻게 해야 큰따옴표가 제대로 표현될까?\n",
    "다음과 같이 문자열을 작은따옴표(')로 둘러싸면 된다."
   ]
  },
  {
   "cell_type": "code",
   "execution_count": 26,
   "id": "7d8e3eea",
   "metadata": {},
   "outputs": [
    {
     "ename": "SyntaxError",
     "evalue": "EOL while scanning string literal (<ipython-input-26-1b5a78ed2ba7>, line 1)",
     "output_type": "error",
     "traceback": [
      "\u001b[1;36m  File \u001b[1;32m\"<ipython-input-26-1b5a78ed2ba7>\"\u001b[1;36m, line \u001b[1;32m1\u001b[0m\n\u001b[1;33m    say='\"Python is very easy.'\" he says'\u001b[0m\n\u001b[1;37m                                         ^\u001b[0m\n\u001b[1;31mSyntaxError\u001b[0m\u001b[1;31m:\u001b[0m EOL while scanning string literal\n"
     ]
    }
   ],
   "source": [
    "say='\"Python is very easy.'\" he says'"
   ]
  },
  {
   "cell_type": "markdown",
   "id": "2034abe5",
   "metadata": {},
   "source": [
    "이렇게 작은따옴표(') 안에 사용된 큰따옴표(\")는 문자열을 만드는 기호로 인식되지 않는다."
   ]
  },
  {
   "cell_type": "markdown",
   "id": "33774c83",
   "metadata": {},
   "source": [
    "### 3. 백슬래시(\\)를 사용해서 작은따옴표(')와 큰따옴표(\")를 문자열에 포함시키기"
   ]
  },
  {
   "cell_type": "code",
   "execution_count": 33,
   "id": "988a8d5b",
   "metadata": {},
   "outputs": [],
   "source": [
    "food='Python\\'s favorite food is perl'"
   ]
  },
  {
   "cell_type": "raw",
   "id": "e895da6f",
   "metadata": {},
   "source": [
    "say= \"\\\"Python is very easy.\\\" he says.\""
   ]
  },
  {
   "cell_type": "markdown",
   "id": "2c15d3be",
   "metadata": {},
   "source": [
    "작은따옴표(')나 큰따옴표(\")를 문자열에 포함시키는 또 다른 방법은 백슬래시(\\)를 사용하는 것이다. 즉 백슬래시(\\)를 작은따옴표나 큰따옴표 앞에 삽입하면 백슬래시(\\) 뒤은 작은 따옴표(')나 큰따옴표(\")는 문자열을 둘러싸는 기호의 의미가 아니라 문자 ('),(\") 그 자체를 뜻하게 된다."
   ]
  },
  {
   "cell_type": "markdown",
   "id": "7a2da386",
   "metadata": {},
   "source": [
    "어떤 방법을 사용해서 문자열 안에 작은 따옴표(')와 큰따옴표(\")를 포함시킬지는 각자의 선택이다. 대화형 인터프리터를 실행한 후 위 예문을 꼭 직접 작성해 보자."
   ]
  },
  {
   "cell_type": "markdown",
   "id": "b959ba36",
   "metadata": {},
   "source": [
    "### 여러줄인 문자열을 변수에 대입하고 싶을 때\n",
    "문자열이 항상 한 줄짜리만 있는 것은 아니다. 다음과 같이 여러 줄의 문자열을 변수에 대입하려면 어떻게 처리해야 할까?"
   ]
  },
  {
   "cell_type": "code",
   "execution_count": 36,
   "id": "66bc4a40",
   "metadata": {},
   "outputs": [
    {
     "ename": "SyntaxError",
     "evalue": "invalid syntax (<ipython-input-36-a2f90990fa8c>, line 1)",
     "output_type": "error",
     "traceback": [
      "\u001b[1;36m  File \u001b[1;32m\"<ipython-input-36-a2f90990fa8c>\"\u001b[1;36m, line \u001b[1;32m1\u001b[0m\n\u001b[1;33m    Life is too short\u001b[0m\n\u001b[1;37m                ^\u001b[0m\n\u001b[1;31mSyntaxError\u001b[0m\u001b[1;31m:\u001b[0m invalid syntax\n"
     ]
    }
   ],
   "source": [
    "Life is too short\n",
    "You need python"
   ]
  },
  {
   "cell_type": "markdown",
   "id": "30e11ec8",
   "metadata": {},
   "source": [
    "### 1. 줄을 바꾸는 이스케이프 코드 '\\ n' 삽입하기"
   ]
  },
  {
   "cell_type": "code",
   "execution_count": 37,
   "id": "bcb232c8",
   "metadata": {},
   "outputs": [],
   "source": [
    "multiline=\"Life is too short\\nYou need python\""
   ]
  },
  {
   "cell_type": "markdown",
   "id": "61c8131e",
   "metadata": {},
   "source": [
    "위 예처럼 줄바꿈 문자'\\n'을 삽입하는 방법이 있지만 읽기에 불편하고 줄이 길어지는 단점이 있다."
   ]
  },
  {
   "cell_type": "markdown",
   "id": "a22a8685",
   "metadata": {},
   "source": [
    "### 2. 연속된 작은따옴표(''') 또는 큰따옴표 3개(\"\"\") 사용하기\n",
    "위 1번의 단점을 극복하기 위해 파이썬에서는 다음과 같이 작은따옴표 3개(''') 또는 큰따옴표 3개(\"\"\")을 사용한다."
   ]
  },
  {
   "cell_type": "code",
   "execution_count": 4,
   "id": "7d60f274",
   "metadata": {},
   "outputs": [],
   "source": [
    "multiline='''\n",
    "Life is too short\n",
    "You need python\n",
    "'''"
   ]
  },
  {
   "cell_type": "code",
   "execution_count": 5,
   "id": "48f9f3c0",
   "metadata": {},
   "outputs": [
    {
     "name": "stdout",
     "output_type": "stream",
     "text": [
      "\n",
      "Life is too short\n",
      "You need python\n",
      "\n"
     ]
    }
   ],
   "source": [
    "print(multiline)"
   ]
  },
  {
   "cell_type": "code",
   "execution_count": 50,
   "id": "83e7e1d5",
   "metadata": {},
   "outputs": [],
   "source": [
    "multiline=\"\"\"\n",
    "Life is too short\n",
    "You need python\n",
    "\"\"\""
   ]
  },
  {
   "cell_type": "code",
   "execution_count": 51,
   "id": "364aa21e",
   "metadata": {},
   "outputs": [
    {
     "name": "stdout",
     "output_type": "stream",
     "text": [
      "\n",
      "Life is too short\n",
      "You need python\n",
      "\n"
     ]
    }
   ],
   "source": [
    "print(multiline)"
   ]
  },
  {
   "cell_type": "markdown",
   "id": "a09848b4",
   "metadata": {},
   "source": [
    "### 이스케이프 코드란?\n",
    "문자열 예제에서 여러 줄의 문장을 처리할 때 백슬래시 문자와 소문자 n을 조합한 '/n' 이스케이프 코드를 사용했다.\n",
    "이스케이프 코드란 프로그래밍할 때 사용할 수 있도록 미리 정의해 둔 '문자 조합' 이다. 주로 출력물을 보기 좋게 정령하는 용도로 사용한다. \n",
    "몇 가지 이스케이프 코드를 정리하면 다음과 같다.\n",
    "\n",
    "#### 코드 설명\n",
    "\n",
    "- \\n 문자열 안에서 줄을 바꿀 때 사용\n",
    "- \\t 문자열 사이에 탭 간격을 줄 때 사용\n",
    "- \\\\ 문자 \\를 그대로 표현할 때 사용\n",
    "- \\' 작은따옴표(')를 그대로 표현할 때 사용\n",
    "- \\\" 큰따옴표(\")를 그대로 표현할 때 사용\n",
    "- \\r 캐리지 리턴(줄 바꿈 문자, 현재 커서를 가장 앞으로 이동)\n",
    "- \\f 폼 피드(줄 바꿈 문자, 현재 커서를 다음 줄로 이동)\n",
    "- \\a 벨소리 (출력할 때 PC 스피커에서 '삑'소리가 난다)\n",
    "- \\b 백스페이스\n",
    "- \\000 널문자\n",
    "\n",
    "\n",
    "이 중에서 활용 빈도가 높은 것은 \\n, \\t, \\\\, \\', \\\"이다. 나머지는 프로그램에서 잘 사용하지 않는다.\n",
    "\n",
    "### 줄바꿈 (개행 태그)\n",
    "\n",
    "가\n",
    "나\n",
    "다\n",
    "\n",
    "---\n",
    "\n",
    "`<br>` 태그 사용\n",
    "\n",
    "가 <br>\n",
    "나 <br> \n",
    "다"
   ]
  },
  {
   "cell_type": "markdown",
   "id": "ff4c239d",
   "metadata": {},
   "source": [
    "## 문자열 연산하기\n",
    "파이썬에서는 문자열을 더하거나 곱할 수 있다. 다른 언어에서는 쉽게 찾아볼 수 없는 재미있는 기능으로, 우리 생각을 그대로 반영해 주는 파이썬만의 장점이라고 할 수 있다. 문자열을 더하거나 곱하는 방법에 대해 알아보자."
   ]
  },
  {
   "cell_type": "markdown",
   "id": "d0342830",
   "metadata": {},
   "source": [
    "## 1. 문자열 더해서 연결하기 "
   ]
  },
  {
   "cell_type": "code",
   "execution_count": 52,
   "id": "b3bc6811",
   "metadata": {},
   "outputs": [],
   "source": [
    "head=\"Python\""
   ]
  },
  {
   "cell_type": "code",
   "execution_count": 53,
   "id": "ba10b89e",
   "metadata": {},
   "outputs": [],
   "source": [
    "tail=\"is fun!\""
   ]
  },
  {
   "cell_type": "code",
   "execution_count": 56,
   "id": "71e8f4fd",
   "metadata": {},
   "outputs": [
    {
     "data": {
      "text/plain": [
       "'Pythonis fun!'"
      ]
     },
     "execution_count": 56,
     "metadata": {},
     "output_type": "execute_result"
    }
   ],
   "source": [
    "head+tail"
   ]
  },
  {
   "cell_type": "markdown",
   "id": "aff77955",
   "metadata": {},
   "source": [
    "위 소스 코드에서 세 번째 줄을 보자. 복작하게 생각하지 말고 눈에 보이는 대로 생각해 보자. \"Python\"이라는 head 변수와 \"is fun!\" 이라는 tail 변수를 더한 것이다. 결과는 'Python is fun!' 이다. 즉 head와 tail변수가 +에 의해 합쳐진 것이다. 직접 실행해 보고 결과값이 제시한 것과 똑같이 나오는지 확인해 보자."
   ]
  },
  {
   "cell_type": "markdown",
   "id": "be156991",
   "metadata": {},
   "source": [
    "## 2. 문자열 곱하기"
   ]
  },
  {
   "cell_type": "code",
   "execution_count": 63,
   "id": "60b1053b",
   "metadata": {},
   "outputs": [],
   "source": [
    "a=\"python\""
   ]
  },
  {
   "cell_type": "code",
   "execution_count": 64,
   "id": "dd1b2f34",
   "metadata": {},
   "outputs": [
    {
     "data": {
      "text/plain": [
       "'pythonpython'"
      ]
     },
     "execution_count": 64,
     "metadata": {},
     "output_type": "execute_result"
    }
   ],
   "source": [
    "a*2"
   ]
  },
  {
   "cell_type": "markdown",
   "id": "f53620a4",
   "metadata": {},
   "source": [
    "위 소스 코드에서 *의 의미는 우리가 일반적으로 사용하는 숫자 곱하기의 의미와는 다르다. 위소스 코드에서  a*2 문장은 a를 두 번 반복하라는 뜻이다. 즉 *는 문자열의 반복을 뜻하는 의미로 사용되었다. 굳이 코드의 의미를 설명할 필요가 없을 정도로 직관적이다."
   ]
  },
  {
   "cell_type": "markdown",
   "id": "041c3de5",
   "metadata": {},
   "source": [
    "### 3. 문자열 곱하기 응용\n",
    "문자열 곱하기를 좀더 응용해 보자. 다음 소스를 IDLE를 에디터를 열고 작성해보자."
   ]
  },
  {
   "cell_type": "code",
   "execution_count": 6,
   "id": "0f3e7b0c",
   "metadata": {},
   "outputs": [
    {
     "name": "stdout",
     "output_type": "stream",
     "text": [
      "==================================================\n",
      "My program\n",
      "==================================================\n"
     ]
    }
   ],
   "source": [
    "#myltistring.py\n",
    "print(\"=\"*50)\n",
    "print(\"My program\")\n",
    "print(\"=\"*50)"
   ]
  },
  {
   "cell_type": "markdown",
   "id": "c40ad612",
   "metadata": {},
   "source": [
    "이런 식의 표현은 앞으로 자주 사용하게 될 것이다. 프로그램을 만들어 실행시켰을 때 출력되는 화면 제일 위쪽에 프로그램 제목을 이와 같이 표시하면 보기 좋지 않겠는가?"
   ]
  },
  {
   "cell_type": "markdown",
   "id": "6d9eb82d",
   "metadata": {},
   "source": [
    "### 4.문자열 길이 구하기\n",
    "문자열의 길이는 다음과 같이 len 함수를 사용하면 구할 수 있다. len 함수는 print 함수처럼 파이썬의 기본 내장 함수로 별다른 설정 없이 바로 사용할 수 있다."
   ]
  },
  {
   "cell_type": "code",
   "execution_count": 78,
   "id": "484b4c4e",
   "metadata": {},
   "outputs": [
    {
     "data": {
      "text/plain": [
       "17"
      ]
     },
     "execution_count": 78,
     "metadata": {},
     "output_type": "execute_result"
    }
   ],
   "source": [
    "a=\"Life is too short\"\n",
    "len(a)"
   ]
  },
  {
   "cell_type": "markdown",
   "id": "f5d03d3e",
   "metadata": {},
   "source": [
    "## 문자열 인덱싱과 슬라이싱\n",
    "인덱싱이란 무엇인가를 '가리킨다'는 의미이고, 슬라이싱은 무엇가를 '잘라낸다'는 의미이다. 이런 의미를 생각하면서 다음 내용을 살펴보자."
   ]
  },
  {
   "cell_type": "markdown",
   "id": "e546c310",
   "metadata": {},
   "source": [
    "### 문자열 인덱싱이란?"
   ]
  },
  {
   "cell_type": "code",
   "execution_count": 83,
   "id": "fd41d369",
   "metadata": {},
   "outputs": [],
   "source": [
    "a=\"Life is too short, You need Python\""
   ]
  },
  {
   "cell_type": "markdown",
   "id": "34f1bfb7",
   "metadata": {},
   "source": [
    "\"Life is too short, You need Python\" 문자열에서 L은 첫 번째 자리를 뜻하는 숫자 0, 바로 다음인 i는 1이런 식으로 계속 번호를 붙인 것이다. 중간에 있는 short의 s는 12가 된다."
   ]
  },
  {
   "cell_type": "markdown",
   "id": "de76d2fb",
   "metadata": {},
   "source": [
    "이제 자음 예를 실행해 보자."
   ]
  },
  {
   "cell_type": "code",
   "execution_count": 84,
   "id": "ee08e8d6",
   "metadata": {},
   "outputs": [
    {
     "data": {
      "text/plain": [
       "'e'"
      ]
     },
     "execution_count": 84,
     "metadata": {},
     "output_type": "execute_result"
    }
   ],
   "source": [
    "a=\"Life is too short, You need Python\"\n",
    "a[3]"
   ]
  },
  {
   "cell_type": "markdown",
   "id": "5b7a961b",
   "metadata": {},
   "source": [
    "a[3]이 뜻하는 것은 a라는 문자열의 네 번째 문자 e를 말한다. 프로그래밍을 처음 접하는 독자라면 a[3]에서 숫자 3이 왜 네 번째 문자를 뜻하는지 의아할 수도 있다. 사실 이 부분이 헷갈릴 수 있는 부분인데, 이렇게 생각하면 쉽게 알 수 있을 것이다."
   ]
  },
  {
   "cell_type": "markdown",
   "id": "ed30ec7f",
   "metadata": {},
   "source": [
    "### \"파이썬은 0부터 숫자를 센다.\""
   ]
  },
  {
   "cell_type": "markdown",
   "id": "7e4d69fa",
   "metadata": {},
   "source": [
    "따라서 파이썬은 위 문자열을 다음과 같이 바라보고 있다."
   ]
  },
  {
   "cell_type": "markdown",
   "id": "888a0435",
   "metadata": {},
   "source": [
    "a[0]:'l', a[1]:'i', a[2]:'f', a[3]:'e', a[4]:' ' ......"
   ]
  },
  {
   "cell_type": "markdown",
   "id": "ac402d5f",
   "metadata": {},
   "source": [
    "0부터 숫자를 센다는 것이 처음에는 익숙하지 않겠지만 계속 사용하다 보면 자연스로워질 것이다. 위 예에서 볼 수 있듯이 a[번호]는 문자열 안의 특정한 값을 뽑아내는 역할을 한다. 이러한 작업을 인덱싱이라고 한다."
   ]
  },
  {
   "cell_type": "markdown",
   "id": "1294bf84",
   "metadata": {},
   "source": [
    "### 문자열 인덱싱 활용하기\n",
    "인덱싱 예를 몇 가지 더 보자."
   ]
  },
  {
   "cell_type": "code",
   "execution_count": 85,
   "id": "984ad8c5",
   "metadata": {},
   "outputs": [
    {
     "data": {
      "text/plain": [
       "'L'"
      ]
     },
     "execution_count": 85,
     "metadata": {},
     "output_type": "execute_result"
    }
   ],
   "source": [
    "a=\"Life is too short, You need Python\"\n",
    "a[0]"
   ]
  },
  {
   "cell_type": "code",
   "execution_count": 86,
   "id": "12be127c",
   "metadata": {},
   "outputs": [
    {
     "data": {
      "text/plain": [
       "'s'"
      ]
     },
     "execution_count": 86,
     "metadata": {},
     "output_type": "execute_result"
    }
   ],
   "source": [
    "a[12]"
   ]
  },
  {
   "cell_type": "code",
   "execution_count": 87,
   "id": "5f3fa517",
   "metadata": {},
   "outputs": [
    {
     "data": {
      "text/plain": [
       "'n'"
      ]
     },
     "execution_count": 87,
     "metadata": {},
     "output_type": "execute_result"
    }
   ],
   "source": [
    "a[-1]"
   ]
  },
  {
   "cell_type": "markdown",
   "id": "2a0aadfe",
   "metadata": {},
   "source": [
    "앞으 a[0]과 a[12]는 쉽게 이해할 수 있는데 마지막의 a[-1]이 뜻하는 것은 뭘까? 눈치 빠른 독자는 이미 알아챘겠지만 문자열의 뒤에서부터 읽기 위해 마이너스(-) 기호를 붙이는 것이다. 즉 a[-1]은 뒤에서부터 세어 첫 번째가 되는 문자를 말한다. a의 값은 \"Life is too short, You need Python\" 문자열이므로 뒤에서부터 첫 번째 문자는 가장 마지막 문자'n'이다."
   ]
  },
  {
   "cell_type": "markdown",
   "id": "c5d4d68e",
   "metadata": {},
   "source": [
    "뒤에서부터 첫 번째 문자를 표시할 때도 0부터 세어 'a[-0]이라고 해야 하지 않을까?\"라는 의문이 들 수도 있겠지만 잘 생각해 보자. 0과 -0은 똑같은 것이기 때문에 a[-0]은 ㅁ[0]과 똑같은 값을 보여 준다."
   ]
  },
  {
   "cell_type": "code",
   "execution_count": 88,
   "id": "a17afabd",
   "metadata": {},
   "outputs": [
    {
     "data": {
      "text/plain": [
       "'L'"
      ]
     },
     "execution_count": 88,
     "metadata": {},
     "output_type": "execute_result"
    }
   ],
   "source": [
    "a[-0]"
   ]
  },
  {
   "cell_type": "raw",
   "id": "d4c837f6",
   "metadata": {},
   "source": [
    "계속해서 몇 가지 예를 더 보자."
   ]
  },
  {
   "cell_type": "code",
   "execution_count": 91,
   "id": "4ad427eb",
   "metadata": {},
   "outputs": [
    {
     "data": {
      "text/plain": [
       "'o'"
      ]
     },
     "execution_count": 91,
     "metadata": {},
     "output_type": "execute_result"
    }
   ],
   "source": [
    "a[-2]"
   ]
  },
  {
   "cell_type": "code",
   "execution_count": 92,
   "id": "d2540c90",
   "metadata": {},
   "outputs": [
    {
     "data": {
      "text/plain": [
       "'y'"
      ]
     },
     "execution_count": 92,
     "metadata": {},
     "output_type": "execute_result"
    }
   ],
   "source": [
    "a[-5]"
   ]
  },
  {
   "cell_type": "markdown",
   "id": "b182a3d8",
   "metadata": {},
   "source": [
    "위 첫 번째 예는 뒤에서부터 두 번째 문자를 가리키는 것이고, 두 번째 예는 뒤에서부터 다섯 번째 문자를 가리키는 것이다."
   ]
  },
  {
   "cell_type": "markdown",
   "id": "1796f306",
   "metadata": {},
   "source": [
    "### 문자열 슬라이싱이란?\n",
    "그렇다면 \"Life is too short, You need Python\" 문자열에서 단순히 한 문자만을 뽑아내는 것이 아니라 'Life' 또는 'You' 같은 단어를 뽑아내는 방법은 없을까? 다음과 같이 하면 된다."
   ]
  },
  {
   "cell_type": "code",
   "execution_count": 93,
   "id": "d3b2aad9",
   "metadata": {},
   "outputs": [
    {
     "data": {
      "text/plain": [
       "'Life'"
      ]
     },
     "execution_count": 93,
     "metadata": {},
     "output_type": "execute_result"
    }
   ],
   "source": [
    "a=\"Life is too short, You need Python\"\n",
    "b=a[0]+a[1]+a[2]+a[3]\n",
    "b"
   ]
  },
  {
   "cell_type": "markdown",
   "id": "ae44f946",
   "metadata": {},
   "source": [
    "위 방법처럼 단순하게 접근할 수도 있지만 파이썬에서는 더 좋은 방법을 제공한다. 바로 슬라이싱 기법이다. 위 예는 슬라이싱 기법으로 다음과 같이 간단하게 처리할 수 있다."
   ]
  },
  {
   "cell_type": "code",
   "execution_count": 94,
   "id": "fe3453a3",
   "metadata": {},
   "outputs": [
    {
     "data": {
      "text/plain": [
       "'Life'"
      ]
     },
     "execution_count": 94,
     "metadata": {},
     "output_type": "execute_result"
    }
   ],
   "source": [
    "a=\"Life is too short, You need Python\"\n",
    "a[0:4]"
   ]
  },
  {
   "cell_type": "markdown",
   "id": "bd00a36e",
   "metadata": {},
   "source": [
    "a[0:4]가 뜻하는 것은 a 문자열, 즉\"Life is too short, You need Python\" 문장에서 자리 번호0부터 4까지의 문자를 뽑아낸다는 뜻이다.\n",
    "하지만 다음과 같은 의문이 생길 것이다. a[0]은 L, a[1]은 i, a[2]는 f, a[3]은 e니까 a[0:3]으로도 Life라는 단어를 뽑아낼 수 있지 않을까? 다음 예로 확인해 보자."
   ]
  },
  {
   "cell_type": "code",
   "execution_count": 95,
   "id": "937d6cc1",
   "metadata": {},
   "outputs": [
    {
     "data": {
      "text/plain": [
       "'Lif'"
      ]
     },
     "execution_count": 95,
     "metadata": {},
     "output_type": "execute_result"
    }
   ],
   "source": [
    "a[0:3]"
   ]
  },
  {
   "cell_type": "markdown",
   "id": "1e2e4510",
   "metadata": {},
   "source": [
    "이렇게 되는 이유는 간단하다. 슬라이싱 기법으로 a[시작 번호:끝 번호]를 지정할 때 끝 번호에 해당하는 것은 포함하지 않기 때문이다. a[0:3]을 수식으로 나타내면 다음과 같다."
   ]
  },
  {
   "cell_type": "markdown",
   "id": "a4573d5f",
   "metadata": {},
   "source": [
    "0<=a<3"
   ]
  },
  {
   "cell_type": "markdown",
   "id": "bab8866c",
   "metadata": {},
   "source": [
    "이 수식을 만족하는 것은 a[0],a[1],a[2]이다. 따라서 a[0:3]은 'Lif'이고 a[0:4]는 'Life'가 되는 것이다. 이 부분이 문자열 연산에서 가장 혼동하기 쉬운 부분이니 장 마지막의 연습 문제를 많이 풀어 보면서 몸에 익히기 바란다."
   ]
  },
  {
   "cell_type": "markdown",
   "id": "ce565339",
   "metadata": {},
   "source": [
    "### 문자열을 슬라이싱 하는 방법\n",
    "슬라이싱의 예를 조금 더 보자."
   ]
  },
  {
   "cell_type": "code",
   "execution_count": 96,
   "id": "5ec735ad",
   "metadata": {},
   "outputs": [
    {
     "data": {
      "text/plain": [
       "'Life '"
      ]
     },
     "execution_count": 96,
     "metadata": {},
     "output_type": "execute_result"
    }
   ],
   "source": [
    "a[0:5]"
   ]
  },
  {
   "cell_type": "markdown",
   "id": "3f8330ad",
   "metadata": {},
   "source": [
    "위 예는 a[0]+a[1]+a[2]+a[3]+a[4]와 동일하다. a[4]는 공백 문자이기 때문에 'Life'가 아닌 'Life '가 출력된다. 공백문자 역시 L,i,f,e 같은 문자와 동일하게 취급되는 것을 잊지 말자, 'Life와 'Life '는 완전히 다른 문자열이다."
   ]
  },
  {
   "cell_type": "markdown",
   "id": "b4e2d661",
   "metadata": {},
   "source": [
    "슬라이싱할 때 항상 시작 번호가 0일 필요는 없다."
   ]
  },
  {
   "cell_type": "code",
   "execution_count": 97,
   "id": "9f151c08",
   "metadata": {},
   "outputs": [
    {
     "data": {
      "text/plain": [
       "'Li'"
      ]
     },
     "execution_count": 97,
     "metadata": {},
     "output_type": "execute_result"
    }
   ],
   "source": [
    "a[0:2]"
   ]
  },
  {
   "cell_type": "code",
   "execution_count": 99,
   "id": "b1d16fbb",
   "metadata": {},
   "outputs": [
    {
     "data": {
      "text/plain": [
       "'is'"
      ]
     },
     "execution_count": 99,
     "metadata": {},
     "output_type": "execute_result"
    }
   ],
   "source": [
    "a[5:7]"
   ]
  },
  {
   "cell_type": "code",
   "execution_count": 100,
   "id": "53289e0d",
   "metadata": {},
   "outputs": [
    {
     "data": {
      "text/plain": [
       "'short'"
      ]
     },
     "execution_count": 100,
     "metadata": {},
     "output_type": "execute_result"
    }
   ],
   "source": [
    "a[12:17]"
   ]
  },
  {
   "cell_type": "markdown",
   "id": "1bebbbbe",
   "metadata": {},
   "source": [
    "a[시작 번호:끝 번호]에서 끝 번호 부분을 생략하면 시작 번호부터 그 문자열의 끝까지 뽑아 낸다."
   ]
  },
  {
   "cell_type": "code",
   "execution_count": 104,
   "id": "87478ae5",
   "metadata": {},
   "outputs": [
    {
     "data": {
      "text/plain": [
       "'You need Python'"
      ]
     },
     "execution_count": 104,
     "metadata": {},
     "output_type": "execute_result"
    }
   ],
   "source": [
    "a[19:]"
   ]
  },
  {
   "cell_type": "markdown",
   "id": "b849c24f",
   "metadata": {},
   "source": [
    "a[시작 번호:끝 번호]에서 시작 번호를 생략하면 문자열의 처음부터 끝 번호까지 뽑아낸다."
   ]
  },
  {
   "cell_type": "code",
   "execution_count": 103,
   "id": "c3a408e9",
   "metadata": {},
   "outputs": [
    {
     "data": {
      "text/plain": [
       "'Life is too short'"
      ]
     },
     "execution_count": 103,
     "metadata": {},
     "output_type": "execute_result"
    }
   ],
   "source": [
    "a[:17]"
   ]
  },
  {
   "cell_type": "markdown",
   "id": "83deb917",
   "metadata": {},
   "source": [
    "a[시작 번호:끝 번호]에서 시작 번호와 끝 번호를 생략하면 문자열의 처음부터 끝까지를 뽑아낸다."
   ]
  },
  {
   "cell_type": "code",
   "execution_count": 105,
   "id": "5975f002",
   "metadata": {},
   "outputs": [
    {
     "data": {
      "text/plain": [
       "'Life is too short, You need Python'"
      ]
     },
     "execution_count": 105,
     "metadata": {},
     "output_type": "execute_result"
    }
   ],
   "source": [
    "a[:]"
   ]
  },
  {
   "cell_type": "markdown",
   "id": "d6369183",
   "metadata": {},
   "source": [
    "슬라이싱에서도 인덱싱과 마찬가지로 마이너스(-) 기호를 사용할 수 있다."
   ]
  },
  {
   "cell_type": "code",
   "execution_count": 106,
   "id": "3f7d4d14",
   "metadata": {},
   "outputs": [
    {
     "data": {
      "text/plain": [
       "'You need'"
      ]
     },
     "execution_count": 106,
     "metadata": {},
     "output_type": "execute_result"
    }
   ],
   "source": [
    "a[19:-7]"
   ]
  },
  {
   "cell_type": "markdown",
   "id": "0f415967",
   "metadata": {},
   "source": [
    "위 소스 코드에서 a[19:-7]이 뜻하는 것은 a[19]에서부터 a[-8]까지를 말한다. 이역시 a[-7]은 포함하지 않는다."
   ]
  },
  {
   "cell_type": "markdown",
   "id": "08e986d1",
   "metadata": {},
   "source": [
    "### 슬라이싱으로 문자열 나누기\n",
    "다음은 자주 사용하게 되는 슬라이싱 기법 중 하나이다."
   ]
  },
  {
   "cell_type": "code",
   "execution_count": 112,
   "id": "80200120",
   "metadata": {},
   "outputs": [
    {
     "data": {
      "text/plain": [
       "'20010331'"
      ]
     },
     "execution_count": 112,
     "metadata": {},
     "output_type": "execute_result"
    }
   ],
   "source": [
    "a=\"20010331Rainy\"\n",
    "date=a[:8]\n",
    "weather=a[8:]\n",
    "date"
   ]
  },
  {
   "cell_type": "code",
   "execution_count": 114,
   "id": "4dc29797",
   "metadata": {},
   "outputs": [
    {
     "data": {
      "text/plain": [
       "'Rainy'"
      ]
     },
     "execution_count": 114,
     "metadata": {},
     "output_type": "execute_result"
    }
   ],
   "source": [
    "weather"
   ]
  },
  {
   "cell_type": "markdown",
   "id": "a649f685",
   "metadata": {},
   "source": [
    "위 예는 문자열 a를 두 부분으로 나누는 기법이다. 숫자 8을 기준으로 문자열 a를 양쪽으로 한번씩 슬라이싱 했다. a[:8]은 a[8]이 포함되지 않고, a[8:]은 a[8]을 포함하기 떄문에 8을 기준으로 해서 두 부분으로 나눌 수 있는 것이다. 위 예에서는 \"20010331Rainy\"문자열을 날짜를 나타내는 부분인 '20010331'과 날씨를 나타내는 부분인 'Rainy'로 나누는 방법을 보여준다."
   ]
  },
  {
   "cell_type": "markdown",
   "id": "80db10bf",
   "metadata": {},
   "source": [
    "위 문자열 \"20010331Rainy\"를 연도 2001, 월과 일을 나타내는 0331, 날씨를 나타내는 Rainy의 세 부분으로 나누려면 다음과 같이 할수 있다."
   ]
  },
  {
   "cell_type": "code",
   "execution_count": 46,
   "id": "de364fec",
   "metadata": {},
   "outputs": [
    {
     "data": {
      "text/plain": [
       "'2001'"
      ]
     },
     "execution_count": 46,
     "metadata": {},
     "output_type": "execute_result"
    }
   ],
   "source": [
    "a=\"20010331Rainy\"\n",
    "year=a[:4]\n",
    "day=a[4:8]\n",
    "weather=a[8:]\n",
    "year"
   ]
  },
  {
   "cell_type": "code",
   "execution_count": 47,
   "id": "308ac64d",
   "metadata": {},
   "outputs": [
    {
     "data": {
      "text/plain": [
       "'0331'"
      ]
     },
     "execution_count": 47,
     "metadata": {},
     "output_type": "execute_result"
    }
   ],
   "source": [
    "day"
   ]
  },
  {
   "cell_type": "code",
   "execution_count": 45,
   "id": "d1452e35",
   "metadata": {},
   "outputs": [
    {
     "data": {
      "text/plain": [
       "'Rainy'"
      ]
     },
     "execution_count": 45,
     "metadata": {},
     "output_type": "execute_result"
    }
   ],
   "source": [
    "weather"
   ]
  },
  {
   "cell_type": "markdown",
   "id": "35335d2e",
   "metadata": {},
   "source": [
    "위 예는 숫자 4와 8로 \"20010331Rainy\" 문자열을 세 부분으로 나누는 방법을 보여 준다."
   ]
  },
  {
   "cell_type": "markdown",
   "id": "bec57407",
   "metadata": {},
   "source": [
    "지금까지 인덱싱과 슬라이싱에 대해서 살펴보았다. 인덱싱과 슬라이싱은 프로그래밍을 할때 매우 자주 사용하는 기법이니 꼭 반복해서 연습해두자."
   ]
  },
  {
   "cell_type": "markdown",
   "id": "0c8264dd",
   "metadata": {},
   "source": [
    "### 문제 \n",
    "\n",
    "pithon 문자열을 Puhon으로 바꾸려면 어떻게 해야 할까? 제일 먼저 떠오르는 생각은 다음과 같을 것이다."
   ]
  },
  {
   "cell_type": "code",
   "execution_count": 127,
   "id": "5e4cad9f",
   "metadata": {},
   "outputs": [
    {
     "data": {
      "text/plain": [
       "'i'"
      ]
     },
     "execution_count": 127,
     "metadata": {},
     "output_type": "execute_result"
    }
   ],
   "source": [
    "a=\"Pithon\"\n",
    "a[1]"
   ]
  },
  {
   "cell_type": "code",
   "execution_count": 128,
   "id": "4e43fd0f",
   "metadata": {},
   "outputs": [
    {
     "ename": "TypeError",
     "evalue": "'str' object does not support item assignment",
     "output_type": "error",
     "traceback": [
      "\u001b[1;31m---------------------------------------------------------------------------\u001b[0m",
      "\u001b[1;31mTypeError\u001b[0m                                 Traceback (most recent call last)",
      "\u001b[1;32m<ipython-input-128-6e016355dca5>\u001b[0m in \u001b[0;36m<module>\u001b[1;34m\u001b[0m\n\u001b[1;32m----> 1\u001b[1;33m \u001b[0ma\u001b[0m\u001b[1;33m[\u001b[0m\u001b[1;36m1\u001b[0m\u001b[1;33m]\u001b[0m\u001b[1;33m=\u001b[0m\u001b[1;34m'y'\u001b[0m\u001b[1;33m\u001b[0m\u001b[1;33m\u001b[0m\u001b[0m\n\u001b[0m",
      "\u001b[1;31mTypeError\u001b[0m: 'str' object does not support item assignment"
     ]
    }
   ],
   "source": [
    "a[1]='y'"
   ]
  },
  {
   "cell_type": "markdown",
   "id": "51acbb00",
   "metadata": {},
   "source": [
    "즉 a 변수에\"Piton\" 문자열을 대입하고 a[1]의 값이 i니까 a[1]을 y로 바꾸어 준다는 생각이다. 하지만 결과는 어떻게 나올까?:\n",
    "당연히 오류가 발생한다. 왜냐하면 문자열의 요솟값은 바꿀 수 있는 값이 아니기 때문이다.(문자열 자료형은 그 요솟값을 변경할 수 없다. 그래서 immutable한 자료형이라고도 부른다)."
   ]
  },
  {
   "cell_type": "markdown",
   "id": "9cfd6e89",
   "metadata": {},
   "source": [
    "하지만 앞에서 살펴본 슬라이싱 기법을 사용하면 Pithon 문자열을 사용해 Python 문자열을 만들 수 있다. 다음예를 보자."
   ]
  },
  {
   "cell_type": "code",
   "execution_count": 129,
   "id": "f24e2e08",
   "metadata": {},
   "outputs": [
    {
     "data": {
      "text/plain": [
       "'P'"
      ]
     },
     "execution_count": 129,
     "metadata": {},
     "output_type": "execute_result"
    }
   ],
   "source": [
    "a=\"Pithon\"\n",
    "a[:1]"
   ]
  },
  {
   "cell_type": "code",
   "execution_count": 130,
   "id": "7460ec81",
   "metadata": {},
   "outputs": [
    {
     "data": {
      "text/plain": [
       "'thon'"
      ]
     },
     "execution_count": 130,
     "metadata": {},
     "output_type": "execute_result"
    }
   ],
   "source": [
    "a[2:]"
   ]
  },
  {
   "cell_type": "code",
   "execution_count": 131,
   "id": "4a43fe71",
   "metadata": {},
   "outputs": [
    {
     "data": {
      "text/plain": [
       "'Python'"
      ]
     },
     "execution_count": 131,
     "metadata": {},
     "output_type": "execute_result"
    }
   ],
   "source": [
    "a[:1]+'y'+a[2:]"
   ]
  },
  {
   "cell_type": "markdown",
   "id": "af2ffbe1",
   "metadata": {},
   "source": [
    "위 예에서 볼 수 있듯이 슬라이싱을 사용하면 \"Pithon\" 문자열을 'P' 부분과 'thon' 부분으로 나눌 수 있기 때문에 그 사이에 'y' 문자를 추가하여 'python' d이라는 새로운 문자열을 만들수 있다."
   ]
  },
  {
   "cell_type": "code",
   "execution_count": 10,
   "id": "1613af96",
   "metadata": {},
   "outputs": [
    {
     "data": {
      "text/plain": [
       "27"
      ]
     },
     "execution_count": 10,
     "metadata": {},
     "output_type": "execute_result"
    }
   ],
   "source": [
    "a=\"It's getting late at night.\"\n",
    "len(a)"
   ]
  },
  {
   "cell_type": "code",
   "execution_count": 11,
   "id": "7af1f3c1",
   "metadata": {},
   "outputs": [
    {
     "data": {
      "text/plain": [
       "34"
      ]
     },
     "execution_count": 11,
     "metadata": {},
     "output_type": "execute_result"
    }
   ],
   "source": [
    "a=\"life is too short, you need python\"\n",
    "len(a)"
   ]
  },
  {
   "cell_type": "code",
   "execution_count": 60,
   "id": "98b5e7ac",
   "metadata": {},
   "outputs": [],
   "source": [
    "a=\"20021225sunny\"\n",
    "year=a[:4]\n",
    "day=a[4:8]\n",
    "weather=a[8:]"
   ]
  },
  {
   "cell_type": "code",
   "execution_count": 57,
   "id": "f3141e2c",
   "metadata": {},
   "outputs": [
    {
     "data": {
      "text/plain": [
       "'2002'"
      ]
     },
     "execution_count": 57,
     "metadata": {},
     "output_type": "execute_result"
    }
   ],
   "source": [
    "year"
   ]
  },
  {
   "cell_type": "code",
   "execution_count": 59,
   "id": "d8da55c1",
   "metadata": {},
   "outputs": [
    {
     "data": {
      "text/plain": [
       "'1225'"
      ]
     },
     "execution_count": 59,
     "metadata": {},
     "output_type": "execute_result"
    }
   ],
   "source": [
    "day"
   ]
  },
  {
   "cell_type": "code",
   "execution_count": 61,
   "id": "b67acceb",
   "metadata": {},
   "outputs": [
    {
     "data": {
      "text/plain": [
       "'sunny'"
      ]
     },
     "execution_count": 61,
     "metadata": {},
     "output_type": "execute_result"
    }
   ],
   "source": [
    "weather"
   ]
  },
  {
   "cell_type": "code",
   "execution_count": null,
   "id": "da9ee9c3",
   "metadata": {},
   "outputs": [],
   "source": []
  }
 ],
 "metadata": {
  "kernelspec": {
   "display_name": "Python 3",
   "language": "python",
   "name": "python3"
  },
  "language_info": {
   "codemirror_mode": {
    "name": "ipython",
    "version": 3
   },
   "file_extension": ".py",
   "mimetype": "text/x-python",
   "name": "python",
   "nbconvert_exporter": "python",
   "pygments_lexer": "ipython3",
   "version": "3.8.8"
  }
 },
 "nbformat": 4,
 "nbformat_minor": 5
}
