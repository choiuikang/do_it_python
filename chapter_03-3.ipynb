{
 "cells": [
  {
   "cell_type": "markdown",
   "id": "9ef9d122",
   "metadata": {},
   "source": [
    "# for문\n",
    "파이썬의 직관적인 특징을 가장 잘 대변해 주는 것이 바로 이 for문이다. while문과 비슷한 반복문인 for문은 매우 유용하고 문장 구조가 한눈에 쏙 들어온다는 장점이 있다. for문을 잘 사용하면 프로그래밍이 즐거워질 것이다.<br>\n",
    "## for문의 기본 구조\n",
    "### for 변수 in리스트(또는 튜플, 문자열):\n",
    "- 수행할 문장1\n",
    "- 수행할 문장2\n",
    "- .....<br>\n",
    "for문의 기본 구조는 위쪽과 같다.<br>리스트나 튜플,문자열의 첫 번째 요소부터 마지막 요소까지 차례로 변수에 대입되어 '수행할 문장1','수행할 문장2'등이 수행된다."
   ]
  },
  {
   "cell_type": "markdown",
   "id": "45797697",
   "metadata": {},
   "source": [
    "## 예제를 통해 for문 이해하기\n",
    "for 문은 예제를 통해서 살펴보는 것이 가장 알기 쉽다. 다음 예제를 직접 입력해 보자."
   ]
  },
  {
   "cell_type": "markdown",
   "id": "e7dd35c2",
   "metadata": {},
   "source": [
    "### 1. 전형적인 for문"
   ]
  },
  {
   "cell_type": "code",
   "execution_count": 2,
   "id": "86a9275e",
   "metadata": {},
   "outputs": [
    {
     "name": "stdout",
     "output_type": "stream",
     "text": [
      "one\n",
      "two\n",
      "three\n"
     ]
    }
   ],
   "source": [
    "test_list=['one','two','three']\n",
    "for i in test_list:\n",
    "    print(i)"
   ]
  },
  {
   "cell_type": "markdown",
   "id": "b42018fb",
   "metadata": {},
   "source": [
    "['one','two','three']리스트의 첫 번째 요소인 'one' 먼저 i 변수에 대입된 후 print(i)문장을 수핸한다. 다음에 두 번째 요소'two'가 i변수에 대입된 후 print(i) 문장을 수행하고 리스트의 마지막 요소까지 이것을 반복한다."
   ]
  },
  {
   "cell_type": "markdown",
   "id": "db4a1659",
   "metadata": {},
   "source": [
    "### 2. 다양한  for 문의 사용"
   ]
  },
  {
   "cell_type": "code",
   "execution_count": 3,
   "id": "dc33e70c",
   "metadata": {},
   "outputs": [
    {
     "name": "stdout",
     "output_type": "stream",
     "text": [
      "3\n",
      "7\n",
      "11\n"
     ]
    }
   ],
   "source": [
    "a=[(1,2),(3,4),(5,6)]\n",
    "for(first, last) in a:\n",
    "    print(first+last)"
   ]
  },
  {
   "cell_type": "markdown",
   "id": "8a09aaf3",
   "metadata": {},
   "source": [
    "위 예는 a리스트의 요솟값이 튜플이기 떄문에 각각의 요소가 자동으로 (first,last) 변수에 대입된다."
   ]
  },
  {
   "cell_type": "markdown",
   "id": "f7df505e",
   "metadata": {},
   "source": [
    "### 3for문의 응용\n",
    "for문의 쓰임새를 알기 위해 다음을 가정해 보자.<br> 총 5명의 학생이 시험을 보았는데 시험 점수가 60점이 넘으면 합격이고 그렇지 않으면 불합격이다. 합격인지 불합격인지 결과를 보여 주시오.<br>우선 학생 5명의 시험 점수를 리스트로 표현해 보았다."
   ]
  },
  {
   "cell_type": "code",
   "execution_count": 5,
   "id": "6d862740",
   "metadata": {},
   "outputs": [],
   "source": [
    "marks=[90, 25, 67, 45, 80]"
   ]
  },
  {
   "cell_type": "markdown",
   "id": "2e504e3b",
   "metadata": {},
   "source": [
    "1번 학생은 90점이고 5번 학생은 80점이다.<br> 이런 점수를 차례롤 검사해서 합격했는지 불합격했는지 통보해 주는 프로그램을 만들어 보자. 역시 IDLE에디터로 작성한다."
   ]
  },
  {
   "cell_type": "code",
   "execution_count": 11,
   "id": "9c6f9c89",
   "metadata": {},
   "outputs": [
    {
     "name": "stdout",
     "output_type": "stream",
     "text": [
      "1번 학생은 합격입니다.\n",
      "2번 학생은 불합격입니다.\n",
      "3번 학생은 합격입니다.\n",
      "4번 학생은 불합격입니다.\n",
      "5번 학생은 합격입니다.\n"
     ]
    }
   ],
   "source": [
    "# marks1.py\n",
    "marks=[90,25,67,45,80]\n",
    "number=0\n",
    "for mark in marks:\n",
    "    number=number +1\n",
    "    if mark>=60:\n",
    "        print(\"%d번 학생은 합격입니다.\"%number)\n",
    "    else:\n",
    "        print(\"%d번 학생은 불합격입니다.\"% number)           "
   ]
  },
  {
   "cell_type": "markdown",
   "id": "9c3da962",
   "metadata": {},
   "source": [
    "각각의 학생에게 번호를 붙여 주기 위해 number 변수를 사용하였다. 점수 리스트 marks에서 차례로 점수를 꺼내에 mark라는 변수에 대입하고 for문 안의 문장들을 수행한다. 우선 for문이 한 번씩 수행될 때 마다 number는 1씩 증가한다.<br>이 프로그램을 실행하면 mark가 60 이상일 때 합격 메시지를 출력하고 60을 넘지 않을 대 불합격 메시지를 출력한다."
   ]
  },
  {
   "cell_type": "markdown",
   "id": "72183995",
   "metadata": {},
   "source": [
    "## for문과 continue문\n",
    "while문에서 살펴본 continue문을 for문에서도 사용할 수 있다. 즉 for문 안의 문장을 수행하는 도중에 continue문을 만나면 for문의 처음으로 돌아가게 된다."
   ]
  },
  {
   "cell_type": "markdown",
   "id": "9569673b",
   "metadata": {},
   "source": [
    "앞에서 for문 응용 예제를 그대로 사용해서 60점 이상이 사람에게는 죽하 메시지를 보내고 나머지 사람에게는 아무 메세지도 전하지 않는 프로그램을 에디터를 사용해 작성해 보자."
   ]
  },
  {
   "cell_type": "code",
   "execution_count": 13,
   "id": "eb5fa623",
   "metadata": {},
   "outputs": [
    {
     "name": "stdout",
     "output_type": "stream",
     "text": [
      "1번 학생 축하합니다.합격입니다.\n",
      "3번 학생 축하합니다.합격입니다.\n",
      "5번 학생 축하합니다.합격입니다.\n"
     ]
    }
   ],
   "source": [
    "# marks2.py\n",
    "marks=[90,25,67,45,80]\n",
    "number=0\n",
    "for mark in marks:\n",
    "    number=number+1\n",
    "    if mark < 60: continue\n",
    "    print(\"%d번 학생 축하합니다.합격입니다.\"% number)"
   ]
  },
  {
   "cell_type": "markdown",
   "id": "c28b67d6",
   "metadata": {},
   "source": [
    "점수가 60점 이하인 학생일 경우에는 mark<60이 참이되어 continue문이 수행된다. 따라서 축하 메시지를 출력하는 부분인 print문을 수행하지 않고 for문의 처음으로 돌아가게 된다."
   ]
  },
  {
   "cell_type": "markdown",
   "id": "69a07447",
   "metadata": {},
   "source": [
    "## for문과 함께 자주 사용하는 range함수\n",
    "for문은 숫자 리스트를 자동으로 만들어 주는 range함수와 함께 사용하는 경우가 많다. 다음은 range 함수의 간단한 사용법이다."
   ]
  },
  {
   "cell_type": "code",
   "execution_count": 15,
   "id": "8328a5c3",
   "metadata": {},
   "outputs": [
    {
     "data": {
      "text/plain": [
       "range(0, 10)"
      ]
     },
     "execution_count": 15,
     "metadata": {},
     "output_type": "execute_result"
    }
   ],
   "source": [
    "a=range(10)\n",
    "a"
   ]
  },
  {
   "cell_type": "markdown",
   "id": "7f5f5bf8",
   "metadata": {},
   "source": [
    "range(0,10)은 0부터 10미만의 숫자를 포함하는 range 객체를 만들어 준다.<br>시작 숫자와 끝 숫자를 지정하려면 range(시작 숫자,끝 숫자) 형태를 사용하는데 , 이때 끝 숫자는 포함되지 않는다."
   ]
  },
  {
   "cell_type": "code",
   "execution_count": 17,
   "id": "09d5d701",
   "metadata": {},
   "outputs": [
    {
     "data": {
      "text/plain": [
       "range(1, 11)"
      ]
     },
     "execution_count": 17,
     "metadata": {},
     "output_type": "execute_result"
    }
   ],
   "source": [
    "a=range(1,11)\n",
    "a"
   ]
  },
  {
   "cell_type": "markdown",
   "id": "3a56f2a9",
   "metadata": {},
   "source": [
    "## range 함수의 예시 살펴보기\n",
    "for와 range함수를 사용하면 1부터 10까지 더하는 것을 다음과 같이 쉽게 구현할 수 있다."
   ]
  },
  {
   "cell_type": "code",
   "execution_count": 19,
   "id": "67947f50",
   "metadata": {},
   "outputs": [
    {
     "name": "stdout",
     "output_type": "stream",
     "text": [
      "55\n"
     ]
    }
   ],
   "source": [
    "add=0\n",
    "for i in range(1,11):\n",
    "    add=add+i\n",
    "print(add)"
   ]
  },
  {
   "cell_type": "markdown",
   "id": "3617a17a",
   "metadata": {},
   "source": [
    "range(1,11)은 숫자 1부터 10까지(1이상 11미만)의 숫자를 데이터로 갖는 객체이다. 따라서 위 예에서 i 변수에 리스트의 숫자가 1부터 10까지 하나씩 차례로 대입되면서 add=add+i문장을 반복적으로 수행하고  add는 최종적으로 55가 된다."
   ]
  },
  {
   "cell_type": "markdown",
   "id": "300ece34",
   "metadata": {},
   "source": [
    "또한 우리가 앞에서 살펴본'60점 이상이면 합격' 이라는 문장을 출력하는 예제도 range함수를 사용해서 바꿀 수 있다. 다음을 보자."
   ]
  },
  {
   "cell_type": "code",
   "execution_count": 27,
   "id": "df4fdc37",
   "metadata": {},
   "outputs": [
    {
     "name": "stdout",
     "output_type": "stream",
     "text": [
      "1번 학생 축하합니다. 합격입니다.\n",
      "3번 학생 축하합니다. 합격입니다.\n",
      "5번 학생 축하합니다. 합격입니다.\n"
     ]
    }
   ],
   "source": [
    "# marks3.py\n",
    "marks=[90,25,67,45,80]\n",
    "for number in range(len(marks)):\n",
    "    if marks[number] < 60: continue\n",
    "    print(\"%d번 학생 축하합니다. 합격입니다.\" % (number+1))"
   ]
  },
  {
   "cell_type": "markdown",
   "id": "2da1fd52",
   "metadata": {},
   "source": [
    "len 함수는 리스트 안의 요소 개수를 돌려주는 함수이다. 따라서 len(marks)는 5가 될 것이고 range(len(marks))는 rnage(5)가 될 것이다. nubmer 변수에는 차례로 0부터 4까지의 숫자가 대입될 것이고, marks[number]는 차례대로 90,25,67,45,80 값을 갖게 된다. "
   ]
  },
  {
   "cell_type": "markdown",
   "id": "b9d57997",
   "metadata": {},
   "source": [
    "## for와 range를 사용한 구구단\n",
    "for와 range함수를 사용하면 소스 코드 단 4줄만으로 구구단을 출력할 수 있다. 들여쓰기에 주의하며 입력해 보자."
   ]
  },
  {
   "cell_type": "code",
   "execution_count": 29,
   "id": "0ab56df3",
   "metadata": {},
   "outputs": [
    {
     "name": "stdout",
     "output_type": "stream",
     "text": [
      "24681012141618\n",
      "369121518212427\n",
      "4812162024283236\n",
      "51015202530354045\n",
      "61218243036424854\n",
      "71421283542495663\n",
      "81624324048566472\n",
      "91827364554637281\n"
     ]
    }
   ],
   "source": [
    "for i in range(2,10):\n",
    "    for j in range(1,10):\n",
    "        print(i*j, end=\"\")\n",
    "    print('')"
   ]
  },
  {
   "cell_type": "markdown",
   "id": "062b7163",
   "metadata": {},
   "source": [
    "위 예를 보면 for문을 두 번 사용했다. 1번 for문에서 2부터 9까지의 숫자 (rnage(2,10))가 차례로 i에 대입된다. i가 처음 2일 때 2번for문을 만나게 된다. 2번 for문에서 1부터 0까지의 숫자 (range(1,10))가 j에 대입되고 그다음 문장 print(i*j)를 수행한다<br> 따라서 i가 2일 때 2*1,2*2,2*3,......2*9까지 차례대로 수행되며 그 값을 출력하게 된다. 그다음으로 i가 3일 때 역시 2일 때와 마찬가지로 수행될 것이고 i가 9일때 까지 계속 반복된다."
   ]
  },
  {
   "cell_type": "markdown",
   "id": "4c6380df",
   "metadata": {},
   "source": [
    "### 매개변수 end를 넣어 준 이유는 무엇일까?\n",
    "앞의 예제에서 print(i*j, end=\"\")와 같이 매개변수 end를 넣어 준 이유는 해당 결괏값을 출력할 때 다음 줄로 넘기지 않고 그 줄에 계속해서 출력하기 위해서이다. 그다음에 이어지는 print('')는 2단, 3단 들을 구분하기 위해 두 번째 for문이 끝나면 걸괏값을 다음 줄부터 출력하게 해주는 문장이다."
   ]
  },
  {
   "cell_type": "markdown",
   "id": "834cfb61",
   "metadata": {},
   "source": [
    "## 리스트 내포 사용하기\n",
    "리스트 안의 for문을 포함하는 리스트 내포를 사용하면 좀 더 편리하고 직관적인 프로그램을 만들 수 있다. 다음 예제를 보자."
   ]
  },
  {
   "cell_type": "code",
   "execution_count": 31,
   "id": "559dac4e",
   "metadata": {},
   "outputs": [
    {
     "name": "stdout",
     "output_type": "stream",
     "text": [
      "[3, 6, 9, 12]\n"
     ]
    }
   ],
   "source": [
    "a=[1,2,3,4]\n",
    "result=[]\n",
    "for num in a:\n",
    "        result.append(num*3)\n",
    "        \n",
    "print(result)"
   ]
  },
  {
   "cell_type": "markdown",
   "id": "802663b8",
   "metadata": {},
   "source": [
    "위 예제는 a리스트의 각 항복에 3을 곱한 결과를 result 리스트에 담는 예제이다."
   ]
  },
  {
   "cell_type": "markdown",
   "id": "94d39ad4",
   "metadata": {},
   "source": [
    "이것을 리스트 내포를 사용하면 다음과 같이 간단히 해결할 수 있다."
   ]
  },
  {
   "cell_type": "code",
   "execution_count": 32,
   "id": "659794cf",
   "metadata": {},
   "outputs": [
    {
     "name": "stdout",
     "output_type": "stream",
     "text": [
      "[3, 6, 9, 12]\n"
     ]
    }
   ],
   "source": [
    "a=[1,2,3,4]\n",
    "result=[num*3 for num in a]\n",
    "print(result)"
   ]
  },
  {
   "cell_type": "markdown",
   "id": "4fd7f1a6",
   "metadata": {},
   "source": [
    "만약 [1,2,3,4] 중에서 짝수에만 3을 곱하여 담고 싶다면 다음과 같이 리스트 내포 안에 'if 조건'을 사용할 수 있다."
   ]
  },
  {
   "cell_type": "code",
   "execution_count": 33,
   "id": "51c7df94",
   "metadata": {},
   "outputs": [
    {
     "name": "stdout",
     "output_type": "stream",
     "text": [
      "[6, 12]\n"
     ]
    }
   ],
   "source": [
    "a=[1,2,3,4]\n",
    "result=[num*3 for num in a if num %2==0]\n",
    "print(result)"
   ]
  },
  {
   "cell_type": "markdown",
   "id": "1b99fe1f",
   "metadata": {},
   "source": [
    "리스트 내포의 일반 문법은 다음과 같다. 'if조건' 부분은 앞의 예제에서 볼 수 있듯이 생략할 수 있다."
   ]
  },
  {
   "cell_type": "markdown",
   "id": "bf79d936",
   "metadata": {},
   "source": [
    "[표현식 for 항목 in 반복 가능 객체 if 조건]<br>조금 복잡하지만 for문을 2개 이상 사용하는 것도 가능하다. for문을 여러 개 사용할 때의 문법은 다음과 같다."
   ]
  },
  {
   "cell_type": "markdown",
   "id": "d2b362c0",
   "metadata": {},
   "source": [
    "[표현식 for 항복 1 in 반복가능 객체1 if 조건1<br>\n",
    "$\\quad$$\\quad$$\\,$$\\,$$\\,$for 항목2 if 반복 가능 객체2 if 조건2<br>\n",
    "$\\quad$$\\quad$$\\,$$\\,$$\\,$........<br>\n",
    "$\\quad$$\\quad$$\\,$$\\,$$\\,$for 항목n if 반복 가능 객체n if 조건n]"
   ]
  },
  {
   "cell_type": "markdown",
   "id": "796dc935",
   "metadata": {},
   "source": [
    "만약 구구단의 모든 결과를 리스트에 담고 싶다면 리스트 내포를 사용하여 다음과 같이 간단하게 구현할 수도 있다."
   ]
  },
  {
   "cell_type": "code",
   "execution_count": 36,
   "id": "9e45c608",
   "metadata": {},
   "outputs": [
    {
     "name": "stdout",
     "output_type": "stream",
     "text": [
      "[2, 4, 6, 8, 10, 12, 14, 16, 18, 3, 6, 9, 12, 15, 18, 21, 24, 27, 4, 8, 12, 16, 20, 24, 28, 32, 36, 5, 10, 15, 20, 25, 30, 35, 40, 45, 6, 12, 18, 24, 30, 36, 42, 48, 54, 7, 14, 21, 28, 35, 42, 49, 56, 63, 8, 16, 24, 32, 40, 48, 56, 64, 72, 9, 18, 27, 36, 45, 54, 63, 72, 81]\n"
     ]
    }
   ],
   "source": [
    "result=[x*y for x in range(2,10)\n",
    "    for y in range(1,10)]\n",
    "print(result)"
   ]
  },
  {
   "cell_type": "markdown",
   "id": "a0a8c3ed",
   "metadata": {},
   "source": [
    "지금껏 우리는 프로그램 흐름을 제어하는 if문, while문, for문에 대해 알아보았다. 아마도 여러분은 while문과 for문을 보면서 2가지가 아주 비슷하다는 느낌을 받았을 것이다. 실제로 for문을 사용한 부분을 while문으로 바꿀 수 있는 경우도 많고, while문을 fir문으로 바꾸어서 사용할 수 있는 경우도 많다."
   ]
  },
  {
   "cell_type": "markdown",
   "id": "b097e769",
   "metadata": {},
   "source": [
    "출처 : \"점프투파이썬\""
   ]
  }
 ],
 "metadata": {
  "kernelspec": {
   "display_name": "Python 3",
   "language": "python",
   "name": "python3"
  },
  "language_info": {
   "codemirror_mode": {
    "name": "ipython",
    "version": 3
   },
   "file_extension": ".py",
   "mimetype": "text/x-python",
   "name": "python",
   "nbconvert_exporter": "python",
   "pygments_lexer": "ipython3",
   "version": "3.8.8"
  }
 },
 "nbformat": 4,
 "nbformat_minor": 5
}
