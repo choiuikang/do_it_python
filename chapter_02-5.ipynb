{
 "cells": [
  {
   "cell_type": "markdown",
   "id": "acedc91d",
   "metadata": {},
   "source": [
    "# 딕셔너리 자료형\n",
    "## 딕셔너리란?\n",
    "사람은 누구든지 '이름'='홍길동','생일='몇 월 며칠' 등으로 구별할 수 있다. 파이썬은 영리하게도 이러한 대응 관계를 나타낼 수 있는 자료형을 가지고 있다. 요즘 사용하는 대부분의 언어도 이러한 대응 관계를 나타낼 수 있는 자료형을 가지고 있다. 요즘 사용하는 대부분의 언어도 이러한 대응 관계를 나타내는 자료형을 갖고 있는데, 이를 연관 배열 또는 헤시라고 한다.<dr>파이썬에서는 이러한 자료형을 딕셔너리라고 하는데, 단어 그대로 해석하면 사전이라는 뜻이다. 즉 'pepople'이라는 단어에 '사람', 'baseball'이라는 단어에 '야구' 라는 뜻이 부합되듯이 딕셔너리는 Key와 Value를 한 쌍으로 갖는 자료형이다. 예컨대 Key가 'baseball'이 라면 Value는 '야구'가 될 것이다.<br>딕셔너리는 리스트나 튜플처럼 순차적으로 해당 요솟값을 구하지 않고 Key를 통해 Value를 얻는다. 이것이 바로 딕셔너리의 가장 큰 특징이다. baseball이라는 단어 뜻을 찾기위해 사전의 내용을 순차적으로 모두 검색하는 것이 아니라 baseball이라는 단어가 있는 곳만 펼쳐 보는 것이다."
   ]
  },
  {
   "cell_type": "markdown",
   "id": "7d8d903d",
   "metadata": {},
   "source": [
    "## 딕셔너리는 어떻게 만들까?\n",
    "다음은 기본 딕셔너리의 모습이다.<br>\n",
    "{Key1:Value,Key2:Value2, Key3:Value3....}\n",
    "Key와 Value의 쌍 여러 개가 {}로 둘러싸여 있따. 각각의 요소는 Key:Value 형태로 이루어져 있고 쉼표(,)로 구분되어 있다.\n",
    "<br>다음 딕서녀러 얘를 살펴보자."
   ]
  },
  {
   "cell_type": "code",
   "execution_count": 1,
   "id": "d7be3bf8",
   "metadata": {},
   "outputs": [],
   "source": [
    "dic={'name':'pey','phone':'0119993323','birth':'1118'}"
   ]
  },
  {
   "cell_type": "markdown",
   "id": "816a9502",
   "metadata": {},
   "source": [
    "위에서 Key는 각각 'name','phone','birth'이고, 각각의 Key에 해당하는 Value는 'pey','0119993323','1118'이 된다."
   ]
  },
  {
   "cell_type": "markdown",
   "id": "47c494ee",
   "metadata": {},
   "source": [
    "다음 예는 Key로 정수 값 1, Value로 문자열 'hi'를 사용한 예이다."
   ]
  },
  {
   "cell_type": "code",
   "execution_count": 2,
   "id": "69a4255c",
   "metadata": {},
   "outputs": [],
   "source": [
    "a={1:'hi'}"
   ]
  },
  {
   "cell_type": "markdown",
   "id": "c22c01c8",
   "metadata": {},
   "source": [
    "또한 다음 예처럼 Value에 리스트도 넣을수 있다."
   ]
  },
  {
   "cell_type": "code",
   "execution_count": 3,
   "id": "cb3d7d02",
   "metadata": {},
   "outputs": [],
   "source": [
    "a={'a':[1,2,3]}"
   ]
  },
  {
   "cell_type": "markdown",
   "id": "884561c0",
   "metadata": {},
   "source": [
    "## 딕셔너리 쌍 추가, 삭제하기\n",
    "딕셔너리 쌍을 추가하는 방법과 삭제하는 방법을 살펴보자. 먼저 직셔너리에 쌍을 추가하는 다음 얘를 함꼐 따라 해보자."
   ]
  },
  {
   "cell_type": "markdown",
   "id": "b13e3570",
   "metadata": {},
   "source": [
    "### 1. 딕셔너리 쌍 추가하기"
   ]
  },
  {
   "cell_type": "code",
   "execution_count": 4,
   "id": "10208273",
   "metadata": {},
   "outputs": [
    {
     "data": {
      "text/plain": [
       "{1: 'a', 2: 'b'}"
      ]
     },
     "execution_count": 4,
     "metadata": {},
     "output_type": "execute_result"
    }
   ],
   "source": [
    "a={1:'a'}\n",
    "a[2]='b'\n",
    "a"
   ]
  },
  {
   "cell_type": "markdown",
   "id": "4380f4c6",
   "metadata": {},
   "source": [
    "{1:'a'}딕셔너리에 a[2]='b'와 같이 입력하면 딕셔너리 a에 Key와 Value가 각각 2와 'b'인2:'b'라는 딕셔너리 쌍이 추가된다."
   ]
  },
  {
   "cell_type": "code",
   "execution_count": 6,
   "id": "8363a9c2",
   "metadata": {},
   "outputs": [
    {
     "data": {
      "text/plain": [
       "{1: 'a', 2: 'b', 'name': 'pey'}"
      ]
     },
     "execution_count": 6,
     "metadata": {},
     "output_type": "execute_result"
    }
   ],
   "source": [
    "a['name']='pey'\n",
    "a"
   ]
  },
  {
   "cell_type": "markdown",
   "id": "27b1d31e",
   "metadata": {},
   "source": [
    "딕셔너리 a에 'name':'pey'라는 쌍이 추가되었다."
   ]
  },
  {
   "cell_type": "code",
   "execution_count": 7,
   "id": "ca394c59",
   "metadata": {},
   "outputs": [
    {
     "data": {
      "text/plain": [
       "{1: 'a', 2: 'b', 'name': 'pey', 3: [1, 2, 3]}"
      ]
     },
     "execution_count": 7,
     "metadata": {},
     "output_type": "execute_result"
    }
   ],
   "source": [
    "a[3]=[1,2,3]\n",
    "a"
   ]
  },
  {
   "cell_type": "markdown",
   "id": "66b33920",
   "metadata": {},
   "source": [
    "Key는 3,Value는 [1,2,3]을 가지는 한 쌍이 또 추가되었다."
   ]
  },
  {
   "cell_type": "markdown",
   "id": "eeb46f05",
   "metadata": {},
   "source": [
    "### 2. 딕셔너리 요소 삭제하기"
   ]
  },
  {
   "cell_type": "code",
   "execution_count": 11,
   "id": "ace16d84",
   "metadata": {},
   "outputs": [
    {
     "data": {
      "text/plain": [
       "{2: 'b', 'name': 'pey', 3: [1, 2, 3]}"
      ]
     },
     "execution_count": 11,
     "metadata": {},
     "output_type": "execute_result"
    }
   ],
   "source": [
    "del a[1]\n",
    "a"
   ]
  },
  {
   "cell_type": "markdown",
   "id": "4eccbf99",
   "metadata": {},
   "source": [
    "위 예제는 딕셔너리 요소를 지우는 방법을 보여 준다. del 함수를 사용해서 del a[Key]처럼 입력하면 지정한 Key에 해당하는 {Key:value}쌍이 삭제된다."
   ]
  },
  {
   "cell_type": "markdown",
   "id": "c425d6d5",
   "metadata": {},
   "source": [
    "## 딕셔너리를 사용하는 방법\n",
    "'딕셔너리는 주로 어떤 것을 표현하는 데 사용할까?'라는 의문이 들 것이다. 예를 들어 4명의 사람이 있다고 가정하고, 각자의 특기를 표현할 수 있는 좋은 방법에 대해서 생각해 보자. 리스트나 문자열로는 표현하기가 상당히 까다로울 것이다. 하지만 파이썬의 딕셔너리를 사용한다면 이 상황을 표현하기가 정말 쉽다. <br>다음 예를 보자."
   ]
  },
  {
   "cell_type": "code",
   "execution_count": 12,
   "id": "57a21d30",
   "metadata": {},
   "outputs": [
    {
     "data": {
      "text/plain": [
       "{'김연아': '피겨스케이팅', '류현진': '야구', '박지성': '축구', '귀도': '파이썬'}"
      ]
     },
     "execution_count": 12,
     "metadata": {},
     "output_type": "execute_result"
    }
   ],
   "source": [
    "{\"김연아\":\"피겨스케이팅\",\"류현진\":\"야구\",\"박지성\":\"축구\",\"귀도\":\"파이썬\"}"
   ]
  },
  {
   "cell_type": "markdown",
   "id": "4978155b",
   "metadata": {},
   "source": [
    "사람 이름과 특기를 한 쌍으로 하는 딕셔너리이다. 정말 간편하지 않은가?<br> 지금껏 우리는 딕셔너리를 만드는 방법에 대해서만 살펴보았는데 딕셔너리를 제대로 활요하기 위해서는 알아야 할 것이 더 있다. 이제부터 하나씩 알아보자"
   ]
  },
  {
   "cell_type": "markdown",
   "id": "03c6a265",
   "metadata": {},
   "source": [
    "## 딕셔너리에서 Key 사용해 Value 얻기\n",
    "다음 예를 살펴보자."
   ]
  },
  {
   "cell_type": "code",
   "execution_count": 14,
   "id": "b6d10841",
   "metadata": {},
   "outputs": [
    {
     "data": {
      "text/plain": [
       "10"
      ]
     },
     "execution_count": 14,
     "metadata": {},
     "output_type": "execute_result"
    }
   ],
   "source": [
    "grade={'pey':10, 'julliet':99}\n",
    "grade['pey']"
   ]
  },
  {
   "cell_type": "code",
   "execution_count": 16,
   "id": "ace3e655",
   "metadata": {},
   "outputs": [
    {
     "data": {
      "text/plain": [
       "99"
      ]
     },
     "execution_count": 16,
     "metadata": {},
     "output_type": "execute_result"
    }
   ],
   "source": [
    "grade['julliet']"
   ]
  },
  {
   "cell_type": "markdown",
   "id": "64186f78",
   "metadata": {},
   "source": [
    "리스트나 튜플, 문자열은 요솟값을 얻고자 할 때 인덱싱이나 슬라이싱 기법 중 하나를 사용했다. 하지만 딕셔너리는 단 한 가지 방법뿐이다. 바로 Key를 사용해서 Value를 구하는 방법이다. 위 예에서 'pey'라는 Key의 Value를 얻기 위해 grade['pey']를 사용한 것처럼 어떤 Key의 Value를 얻기 위해서는 '딕셔너리 변수 이름[Key]'를 사용한다.<br> 몇가지 예를 더보자."
   ]
  },
  {
   "cell_type": "code",
   "execution_count": 19,
   "id": "815e8354",
   "metadata": {},
   "outputs": [
    {
     "data": {
      "text/plain": [
       "'a'"
      ]
     },
     "execution_count": 19,
     "metadata": {},
     "output_type": "execute_result"
    }
   ],
   "source": [
    "a={1:'a',2:'b'}\n",
    "a[1]\n"
   ]
  },
  {
   "cell_type": "code",
   "execution_count": 20,
   "id": "481d6e1a",
   "metadata": {},
   "outputs": [
    {
     "data": {
      "text/plain": [
       "'b'"
      ]
     },
     "execution_count": 20,
     "metadata": {},
     "output_type": "execute_result"
    }
   ],
   "source": [
    "a[2]"
   ]
  },
  {
   "cell_type": "markdown",
   "id": "b8cdbae2",
   "metadata": {},
   "source": [
    "먼저 a변수에 {1:'a',2:'b'} 딕셔너리를 대입하였다. 위 예에서 볼 수 있듯이 a[1]은 'a'값을 돌려준다. 여기에서 a[1]이 의미하는 것은 리스트나 튜플의 a[1]과는 전혀 다르다. 딕셔너리 변수에서 []안의 숫자 1은 두번쨰 요소를 뜻하는 것이 아니라 Key에 해당하는 1을 나타낸다. 앞에서도 말했듯이 딕셔너리는 리스트나 튜플에 있는 인덱싱 방법을 적용할수 없다. 따라서 a[1]은 딕셔너리{1:'a',2:'b'}에서 Key가 1인 것의 Valie인 'a'를 돌려주게 된다. a[2]역시 마찬가지이다."
   ]
  },
  {
   "cell_type": "markdown",
   "id": "e84a33aa",
   "metadata": {},
   "source": [
    "이번에는 a라는 변수에 앞의 예에서 사용한 딕셔너리의 Key와 Value를 뒤집어 놓은 딕셔너리를 대입해 보자."
   ]
  },
  {
   "cell_type": "code",
   "execution_count": 21,
   "id": "8be187c6",
   "metadata": {},
   "outputs": [
    {
     "data": {
      "text/plain": [
       "1"
      ]
     },
     "execution_count": 21,
     "metadata": {},
     "output_type": "execute_result"
    }
   ],
   "source": [
    "a={'a':1,'b':2}\n",
    "a['a']"
   ]
  },
  {
   "cell_type": "code",
   "execution_count": 22,
   "id": "ef34809f",
   "metadata": {},
   "outputs": [
    {
     "data": {
      "text/plain": [
       "2"
      ]
     },
     "execution_count": 22,
     "metadata": {},
     "output_type": "execute_result"
    }
   ],
   "source": [
    "a['b']"
   ]
  },
  {
   "cell_type": "markdown",
   "id": "c4a2abfe",
   "metadata": {},
   "source": [
    "역시 a['a'],a['b']처럼 Key를 사용해서 Value를 얻을수 있다. 정리하면 , 딕셔너리 a는 a[Key]로 입력해서 Key에 해당하는 Value를 얻는다."
   ]
  },
  {
   "cell_type": "markdown",
   "id": "8da6d432",
   "metadata": {},
   "source": [
    "다음 예는 이전에 한 번 언급한 딕셔너리인데 Key를 사용해서 Value를 얻는 방법을 잘 보여준다."
   ]
  },
  {
   "cell_type": "code",
   "execution_count": 25,
   "id": "f7457db9",
   "metadata": {},
   "outputs": [
    {
     "data": {
      "text/plain": [
       "'pey'"
      ]
     },
     "execution_count": 25,
     "metadata": {},
     "output_type": "execute_result"
    }
   ],
   "source": [
    "dic={'name':'pey','phone':'0119993323', 'birth':'1118'}\n",
    "dic['name']"
   ]
  },
  {
   "cell_type": "code",
   "execution_count": 26,
   "id": "f208a6a4",
   "metadata": {},
   "outputs": [
    {
     "data": {
      "text/plain": [
       "'0119993323'"
      ]
     },
     "execution_count": 26,
     "metadata": {},
     "output_type": "execute_result"
    }
   ],
   "source": [
    "dic['phone']"
   ]
  },
  {
   "cell_type": "code",
   "execution_count": 29,
   "id": "191d4ddf",
   "metadata": {},
   "outputs": [
    {
     "data": {
      "text/plain": [
       "'1118'"
      ]
     },
     "execution_count": 29,
     "metadata": {},
     "output_type": "execute_result"
    }
   ],
   "source": [
    "dic['birth']"
   ]
  },
  {
   "cell_type": "markdown",
   "id": "50fcdd00",
   "metadata": {},
   "source": [
    "### 딕셔너리 만들 때 주의할 사항\n",
    "먼저 딕셔너리에서 Key는 고유한 값이므로 중복되는 Key 값을 설정해 놓으면 하나를 제외한 나머지 것들이 모두 무시된다는 점을 주의해야 한다. 다음 예에서 볼 수 있듯이 동일한 Key가 2개 존재할 경우 1:'a' 쌍이 무시된다."
   ]
  },
  {
   "cell_type": "code",
   "execution_count": 30,
   "id": "f8142f8c",
   "metadata": {},
   "outputs": [
    {
     "data": {
      "text/plain": [
       "{1: 'b'}"
      ]
     },
     "execution_count": 30,
     "metadata": {},
     "output_type": "execute_result"
    }
   ],
   "source": [
    "a={1:'a',1:'b'}\n",
    "a"
   ]
  },
  {
   "cell_type": "markdown",
   "id": "b686b3bc",
   "metadata": {},
   "source": [
    "이렇게 Key가 중복되었을 때 1개를 제외한 나머지 key:Value값이 모두 무시되는 이유는 Key를 통해서 Value를 얻는 딕셔너리의 특징에서 비롯된다. 즉 동일한 Key가 존재하면 어떤 key에 해당하는 Value를 불러야 할지 알 수 없기 떄문이다.<br> 또 한 가지 주의해야 할 사항은 Key에 리스트는 쓸 수 없다는 것이다. 하지만 튜플은 Key로 쓸 수 있다. 딕셔너리의 Key로 쓸 수 있느냐 없느냐는 Key가 변하는 값인지 변하지 않는 값인지에 달려 있다. 리스트는 그 값이 변할 수 있기 때문에 Key로 쓸 수 없다. 다음 예처럼 지스트를 Key로 설정하면 리스트를 키 값으로 사용할 수 없다는 오류가 발생한다."
   ]
  },
  {
   "cell_type": "code",
   "execution_count": 31,
   "id": "7110f072",
   "metadata": {},
   "outputs": [
    {
     "ename": "TypeError",
     "evalue": "unhashable type: 'list'",
     "output_type": "error",
     "traceback": [
      "\u001b[1;31m---------------------------------------------------------------------------\u001b[0m",
      "\u001b[1;31mTypeError\u001b[0m                                 Traceback (most recent call last)",
      "\u001b[1;32m<ipython-input-31-9b2293d523ba>\u001b[0m in \u001b[0;36m<module>\u001b[1;34m\u001b[0m\n\u001b[1;32m----> 1\u001b[1;33m \u001b[0ma\u001b[0m\u001b[1;33m=\u001b[0m\u001b[1;33m{\u001b[0m\u001b[1;33m[\u001b[0m\u001b[1;36m1\u001b[0m\u001b[1;33m,\u001b[0m\u001b[1;36m2\u001b[0m\u001b[1;33m]\u001b[0m\u001b[1;33m:\u001b[0m\u001b[1;34m'hi'\u001b[0m\u001b[1;33m}\u001b[0m\u001b[1;33m\u001b[0m\u001b[1;33m\u001b[0m\u001b[0m\n\u001b[0m",
      "\u001b[1;31mTypeError\u001b[0m: unhashable type: 'list'"
     ]
    }
   ],
   "source": [
    "a={[1,2]:'hi'}"
   ]
  },
  {
   "cell_type": "markdown",
   "id": "f935c936",
   "metadata": {},
   "source": [
    "따라서 딕셔너리의 Key 값으로 딕셔너리를 사용할 수 없음은 당연하다. 단 Value에는 변하는 값이든 변하지 않는 값이든 상관없이 아무 값이나 넣을 수 있다."
   ]
  },
  {
   "cell_type": "markdown",
   "id": "266fe335",
   "metadata": {},
   "source": [
    "## 딕셔너리 관련 함수\n",
    "딕셔너리를 자유자재로 사용하기 위해 딕셔너리가 자체적으로 가지고 있는 관련 함수를 사용해 보자."
   ]
  },
  {
   "cell_type": "markdown",
   "id": "b44d1c55",
   "metadata": {},
   "source": [
    "### key 리스트 만들기 (keys)"
   ]
  },
  {
   "cell_type": "code",
   "execution_count": 34,
   "id": "44e9058b",
   "metadata": {},
   "outputs": [
    {
     "data": {
      "text/plain": [
       "dict_keys(['name', 'phone', 'birth'])"
      ]
     },
     "execution_count": 34,
     "metadata": {},
     "output_type": "execute_result"
    }
   ],
   "source": [
    "a={'name':'pey','phone':'0119993323','birth':'1118'}\n",
    "a.keys()"
   ]
  },
  {
   "cell_type": "markdown",
   "id": "bc2291c6",
   "metadata": {},
   "source": [
    "a.keys()는 딕셔너리 a의 Key만을 모아서 dict_keys 객체를 돌려준다."
   ]
  },
  {
   "cell_type": "markdown",
   "id": "71d814e1",
   "metadata": {},
   "source": [
    "dict_keys 객체는 다음과 같이 사용할 수 있다. 리스트를 사용하는 것과 차이가 없지만 , 리스트 고유의 append, insert, pop, remove, sort함수는 수행할 수 없다."
   ]
  },
  {
   "cell_type": "code",
   "execution_count": 37,
   "id": "abf55b06",
   "metadata": {},
   "outputs": [
    {
     "name": "stdout",
     "output_type": "stream",
     "text": [
      "name\n",
      "phone\n",
      "birth\n"
     ]
    }
   ],
   "source": [
    "for k in a.keys():\n",
    "    print(k)"
   ]
  },
  {
   "cell_type": "markdown",
   "id": "2faf363e",
   "metadata": {},
   "source": [
    "dict_keys 객체를 리스트로 변환하려면 다음과 같이 하면된다."
   ]
  },
  {
   "cell_type": "code",
   "execution_count": 38,
   "id": "9c149750",
   "metadata": {},
   "outputs": [
    {
     "data": {
      "text/plain": [
       "['name', 'phone', 'birth']"
      ]
     },
     "execution_count": 38,
     "metadata": {},
     "output_type": "execute_result"
    }
   ],
   "source": [
    "list(a.keys())"
   ]
  },
  {
   "cell_type": "markdown",
   "id": "0e323ecc",
   "metadata": {},
   "source": [
    "### Value리스트 만들기(Value)"
   ]
  },
  {
   "cell_type": "code",
   "execution_count": 39,
   "id": "749b0241",
   "metadata": {},
   "outputs": [
    {
     "data": {
      "text/plain": [
       "dict_values(['pey', '0119993323', '1118'])"
      ]
     },
     "execution_count": 39,
     "metadata": {},
     "output_type": "execute_result"
    }
   ],
   "source": [
    "a.values()"
   ]
  },
  {
   "cell_type": "markdown",
   "id": "a1afa91b",
   "metadata": {},
   "source": [
    "Key를 얻는 것과 마찬가지 방법으로 Value만 얻고 싶다면 Value 함수를 사용하면 된다. Value함수를 호출하면 dict_values 객체를 돌려준다."
   ]
  },
  {
   "cell_type": "markdown",
   "id": "8737e722",
   "metadata": {},
   "source": [
    "### Key,Value 쌍 얻기(items)"
   ]
  },
  {
   "cell_type": "code",
   "execution_count": 40,
   "id": "7611f6e3",
   "metadata": {},
   "outputs": [
    {
     "data": {
      "text/plain": [
       "dict_items([('name', 'pey'), ('phone', '0119993323'), ('birth', '1118')])"
      ]
     },
     "execution_count": 40,
     "metadata": {},
     "output_type": "execute_result"
    }
   ],
   "source": [
    "a.items()"
   ]
  },
  {
   "cell_type": "markdown",
   "id": "db37a438",
   "metadata": {},
   "source": [
    "items 함수는 Key와 Value의 쌍을 튜플로 묶은 값을 dict_items 객체로 돌려준다. dict_values 객체와 dict_items 객체 역시 dict_keys 객체와 마찬가지로 리스트를 사용하는 것과 동일하게 사용 할 수 있다."
   ]
  },
  {
   "cell_type": "markdown",
   "id": "57d783fa",
   "metadata": {},
   "source": [
    "### Key:Value 쌍 모두 지우기(clear)"
   ]
  },
  {
   "cell_type": "code",
   "execution_count": 41,
   "id": "a70d1c88",
   "metadata": {},
   "outputs": [
    {
     "data": {
      "text/plain": [
       "{}"
      ]
     },
     "execution_count": 41,
     "metadata": {},
     "output_type": "execute_result"
    }
   ],
   "source": [
    "a.clear()\n",
    "a"
   ]
  },
  {
   "cell_type": "markdown",
   "id": "b39ca64f",
   "metadata": {},
   "source": [
    "clear 함수는 딕셔너리 안의 모든 요소를 삭제한다. 리스트를 [], 빈 튜플을 ()로 표현 하는 것과 마찬가지로 빈 딕셔너리도 {}로 표현한다."
   ]
  },
  {
   "cell_type": "markdown",
   "id": "cc1aa623",
   "metadata": {},
   "source": [
    "### Key로 Value 얻기(get)"
   ]
  },
  {
   "cell_type": "code",
   "execution_count": 42,
   "id": "464b6225",
   "metadata": {},
   "outputs": [
    {
     "data": {
      "text/plain": [
       "'pey'"
      ]
     },
     "execution_count": 42,
     "metadata": {},
     "output_type": "execute_result"
    }
   ],
   "source": [
    "a={'name':'pey','phone':'0119993323','birth':'1118'}\n",
    "a.get('name')"
   ]
  },
  {
   "cell_type": "code",
   "execution_count": 43,
   "id": "a3b946d3",
   "metadata": {},
   "outputs": [
    {
     "data": {
      "text/plain": [
       "'0119993323'"
      ]
     },
     "execution_count": 43,
     "metadata": {},
     "output_type": "execute_result"
    }
   ],
   "source": [
    "a.get('phone')"
   ]
  },
  {
   "cell_type": "markdown",
   "id": "e4f09803",
   "metadata": {},
   "source": [
    "get(x) 함수는 x 라는 Key에 대응 되는 value를 돌려준다. 앞에서도 살펴보았듯이 a.get('name')은 a['name']을 사용했을 떄와 동일한 결괏값을 돌려받는다.<dr> 다만 다음예제에서 볼 수 있듯이 a['noKey']처럼 존재하지 않는 키로 값을 가져오려고 할 경우 a['nokey']는 Key 오류를 발생시키고 a.get('nokey')는 None을 돌려준다는 차이가 있다. 어떤것을 사용할지는 여러분의 선택이다."
   ]
  },
  {
   "cell_type": "code",
   "execution_count": 44,
   "id": "910703e2",
   "metadata": {},
   "outputs": [
    {
     "name": "stdout",
     "output_type": "stream",
     "text": [
      "None\n"
     ]
    }
   ],
   "source": [
    "a={'name':'pey','phone':'0119993323','birth':'1118'}\n",
    "print(a.get('nokey'))"
   ]
  },
  {
   "cell_type": "code",
   "execution_count": 45,
   "id": "0014deb8",
   "metadata": {},
   "outputs": [
    {
     "ename": "KeyError",
     "evalue": "'nokey'",
     "output_type": "error",
     "traceback": [
      "\u001b[1;31m---------------------------------------------------------------------------\u001b[0m",
      "\u001b[1;31mKeyError\u001b[0m                                  Traceback (most recent call last)",
      "\u001b[1;32m<ipython-input-45-54514d6fa670>\u001b[0m in \u001b[0;36m<module>\u001b[1;34m\u001b[0m\n\u001b[1;32m----> 1\u001b[1;33m \u001b[0mprint\u001b[0m\u001b[1;33m(\u001b[0m\u001b[0ma\u001b[0m\u001b[1;33m[\u001b[0m\u001b[1;34m'nokey'\u001b[0m\u001b[1;33m]\u001b[0m\u001b[1;33m)\u001b[0m\u001b[1;33m\u001b[0m\u001b[1;33m\u001b[0m\u001b[0m\n\u001b[0m",
      "\u001b[1;31mKeyError\u001b[0m: 'nokey'"
     ]
    }
   ],
   "source": [
    "print(a['nokey'])"
   ]
  },
  {
   "cell_type": "markdown",
   "id": "c1667095",
   "metadata": {},
   "source": [
    "딕셔너리 안에 찾으려는 Key 값이 없을 경우 미리 정해 둔 디폴트 값을 대신 가져오게 하고 싶을때에는 get(x, '디폴트 값')을 사용하면 편리하다."
   ]
  },
  {
   "cell_type": "code",
   "execution_count": 46,
   "id": "d1be3526",
   "metadata": {},
   "outputs": [
    {
     "data": {
      "text/plain": [
       "'bar'"
      ]
     },
     "execution_count": 46,
     "metadata": {},
     "output_type": "execute_result"
    }
   ],
   "source": [
    "a.get('foo','bar')"
   ]
  },
  {
   "cell_type": "markdown",
   "id": "0f23d972",
   "metadata": {},
   "source": [
    "### 해당 Key가 딕셔너리 안에 있는지 조사하기(in)"
   ]
  },
  {
   "cell_type": "code",
   "execution_count": 47,
   "id": "9d5b3fdd",
   "metadata": {},
   "outputs": [
    {
     "data": {
      "text/plain": [
       "True"
      ]
     },
     "execution_count": 47,
     "metadata": {},
     "output_type": "execute_result"
    }
   ],
   "source": [
    "a={'name':'pey','phone':'0119993323','birth':'1118'}\n",
    "'name' in a"
   ]
  },
  {
   "cell_type": "code",
   "execution_count": 48,
   "id": "0a937850",
   "metadata": {},
   "outputs": [
    {
     "data": {
      "text/plain": [
       "False"
      ]
     },
     "execution_count": 48,
     "metadata": {},
     "output_type": "execute_result"
    }
   ],
   "source": [
    "'email' in a"
   ]
  },
  {
   "cell_type": "markdown",
   "id": "b16fd309",
   "metadata": {},
   "source": [
    "'name' 문자열은 a 딕셔너리의 key 중 하나이다. 따라서 'name' in a를 호출하면 참(True)을 돌려준다. 반대로 'email'은 a 딕셔너리 안에 존재하지 않는 key이므로 거짓(false)을 돌려준다."
   ]
  },
  {
   "cell_type": "markdown",
   "id": "a06a3e0d",
   "metadata": {},
   "source": [
    "출처 : \"점프투파이썬\""
   ]
  }
 ],
 "metadata": {
  "kernelspec": {
   "display_name": "Python 3",
   "language": "python",
   "name": "python3"
  },
  "language_info": {
   "codemirror_mode": {
    "name": "ipython",
    "version": 3
   },
   "file_extension": ".py",
   "mimetype": "text/x-python",
   "name": "python",
   "nbconvert_exporter": "python",
   "pygments_lexer": "ipython3",
   "version": "3.8.8"
  }
 },
 "nbformat": 4,
 "nbformat_minor": 5
}
