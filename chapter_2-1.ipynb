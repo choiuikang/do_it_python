{
 "cells": [
  {
   "cell_type": "markdown",
   "id": "95f394b4",
   "metadata": {},
   "source": [
    "## 숫자형\n",
    "\n",
    "숫자형이란 숫자 형태로 이루어진 자료형으로, 우리가 이미 잘 알고 있는 것이다. 우리가 흔히 사용하는 것을 생각해 보자. 123 같은 정수, 12,34 같은 실수, 드물게 사용하긴 하지만 8진수나 16진수 같은것도 있다."
   ]
  },
  {
   "cell_type": "markdown",
   "id": "9b97bd63",
   "metadata": {},
   "source": [
    "항목              파이썬 사용 예\n",
    "정수                123,-345,0\n",
    "실수          123.45, -1234.5, 3.4e10\n",
    "8진수               0o34, 0o25\n",
    "16진수               0x2A,0oFF"
   ]
  },
  {
   "cell_type": "markdown",
   "id": "c820e974",
   "metadata": {},
   "source": [
    "### 정수형\n",
    "정수형이란 말 그대로 정수를 뜻하는 자로형을 말한다. 다음 예는 양의 정수와 음의정수, 숫자 0을 변수 A에 대입하는 예이다."
   ]
  },
  {
   "cell_type": "code",
   "execution_count": 2,
   "id": "fb985451",
   "metadata": {},
   "outputs": [],
   "source": [
    "a=123"
   ]
  },
  {
   "cell_type": "code",
   "execution_count": 24,
   "id": "76ae6b8b",
   "metadata": {},
   "outputs": [],
   "source": [
    "a=-178"
   ]
  },
  {
   "cell_type": "code",
   "execution_count": 25,
   "id": "ad8296be",
   "metadata": {},
   "outputs": [],
   "source": [
    "a=0"
   ]
  },
  {
   "cell_type": "markdown",
   "id": "ab0218e4",
   "metadata": {},
   "source": [
    "### 실수형\n",
    "파이썬에서 실수형은 소수점이 포함된 숫자를 말한다. 다음은 실수를 변수 a에 대입하는 예이다."
   ]
  },
  {
   "cell_type": "code",
   "execution_count": 26,
   "id": "f3583411",
   "metadata": {},
   "outputs": [],
   "source": [
    "a=1.2"
   ]
  },
  {
   "cell_type": "code",
   "execution_count": 27,
   "id": "c9a1b754",
   "metadata": {},
   "outputs": [],
   "source": [
    "a=-3.45"
   ]
  },
  {
   "cell_type": "markdown",
   "id": "981117fb",
   "metadata": {},
   "source": [
    "위 방식은 우리가 일반적으로 볼 수 있는 실수형의 소수점 표현방식이다."
   ]
  },
  {
   "cell_type": "code",
   "execution_count": 28,
   "id": "ec30702a",
   "metadata": {},
   "outputs": [],
   "source": [
    "a=4.24E10"
   ]
  },
  {
   "cell_type": "code",
   "execution_count": 29,
   "id": "1ca4d24b",
   "metadata": {},
   "outputs": [],
   "source": [
    "a=4.24e-10"
   ]
  },
  {
   "cell_type": "markdown",
   "id": "60d189da",
   "metadata": {},
   "source": [
    "위 방식은 '컴퓨터식 지수 표현방식'으로 파이썬에서는 4.24e10 또는  4.24E10 처럼 표현한다.(e와 E 둘 중 어느 것을 사용해도 무방하다.)\n",
    "여기에서 4.24E10은 4.24*10^10, 4.25e-10은 4.24*10^-10을 의미한다."
   ]
  },
  {
   "cell_type": "markdown",
   "id": "a16de175",
   "metadata": {},
   "source": [
    "### 8진수와 16진수\n",
    "8진수를 만들기 위해서는 숫ㅈ자가 0o 또는 0O로 시작하면 된다."
   ]
  },
  {
   "cell_type": "code",
   "execution_count": 30,
   "id": "b0b33f95",
   "metadata": {},
   "outputs": [],
   "source": [
    "a=0o177"
   ]
  },
  {
   "cell_type": "markdown",
   "id": "e5c996de",
   "metadata": {},
   "source": [
    "16진수를 만들기 위해서는 0x로 시작하면 된다."
   ]
  },
  {
   "cell_type": "code",
   "execution_count": 31,
   "id": "53d8cc45",
   "metadata": {},
   "outputs": [],
   "source": [
    "a=0x8ff"
   ]
  },
  {
   "cell_type": "code",
   "execution_count": 32,
   "id": "916baf0f",
   "metadata": {},
   "outputs": [],
   "source": [
    "b=0xABC"
   ]
  },
  {
   "cell_type": "markdown",
   "id": "70519027",
   "metadata": {},
   "source": [
    "8진수나 16진수는 파이썬에서 잘 사용하지 않는 형태의 숫자 자료형이니 간단히 눈으로 익히고 넘어가자."
   ]
  },
  {
   "cell_type": "markdown",
   "id": "75f657d5",
   "metadata": {},
   "source": [
    "## 숫자형을 확용하기 위한 연산자"
   ]
  },
  {
   "cell_type": "markdown",
   "id": "24997a38",
   "metadata": {},
   "source": [
    "### 사칙연산\n",
    "프로그래밍을 한 번도 해본 적이 없는 독자라도 사칙연산(+, -, *, /)은 알고 있을 것이다. 파이썬 역시 계산기와 마찬가지로 다음처럼 연산자를 사용해서 사칙연산을 수행한다."
   ]
  },
  {
   "cell_type": "code",
   "execution_count": 33,
   "id": "a52f0cf8",
   "metadata": {},
   "outputs": [],
   "source": [
    "a=3"
   ]
  },
  {
   "cell_type": "code",
   "execution_count": 34,
   "id": "d7b33567",
   "metadata": {},
   "outputs": [],
   "source": [
    "b=4"
   ]
  },
  {
   "cell_type": "code",
   "execution_count": 35,
   "id": "80111362",
   "metadata": {},
   "outputs": [
    {
     "data": {
      "text/plain": [
       "7"
      ]
     },
     "execution_count": 35,
     "metadata": {},
     "output_type": "execute_result"
    }
   ],
   "source": [
    "a+b"
   ]
  },
  {
   "cell_type": "code",
   "execution_count": 36,
   "id": "1745b7fb",
   "metadata": {},
   "outputs": [
    {
     "data": {
      "text/plain": [
       "12"
      ]
     },
     "execution_count": 36,
     "metadata": {},
     "output_type": "execute_result"
    }
   ],
   "source": [
    "a*b"
   ]
  },
  {
   "cell_type": "code",
   "execution_count": 37,
   "id": "c3f769c3",
   "metadata": {},
   "outputs": [
    {
     "data": {
      "text/plain": [
       "0.75"
      ]
     },
     "execution_count": 37,
     "metadata": {},
     "output_type": "execute_result"
    }
   ],
   "source": [
    "a/b"
   ]
  },
  {
   "cell_type": "markdown",
   "id": "7da9d131",
   "metadata": {},
   "source": [
    "### x의 y제곱을 나타내는 **연산자\n",
    "다음으로 알아야 할 연산자로 ** 연산자가 있다. 이 연삱다는 x**y처럼 사용했을 떄 x의 y제곱 값을 돌려준다. 다음 예를 통해 알아보자."
   ]
  },
  {
   "cell_type": "code",
   "execution_count": 38,
   "id": "5ccccc99",
   "metadata": {},
   "outputs": [],
   "source": [
    "a=3"
   ]
  },
  {
   "cell_type": "code",
   "execution_count": 39,
   "id": "6450001e",
   "metadata": {},
   "outputs": [],
   "source": [
    "b=4"
   ]
  },
  {
   "cell_type": "code",
   "execution_count": 40,
   "id": "362ff0b1",
   "metadata": {},
   "outputs": [
    {
     "data": {
      "text/plain": [
       "81"
      ]
     },
     "execution_count": 40,
     "metadata": {},
     "output_type": "execute_result"
    }
   ],
   "source": [
    "a**b"
   ]
  },
  {
   "cell_type": "markdown",
   "id": "59d25767",
   "metadata": {},
   "source": [
    "### 나눗셈 후 나머지를 반환하는 % 연산자\n",
    "프로그래밍을 처음 접하는 독ㅈ자라면 % 연산자를 본 적이 없을것이다. %는 나눗셈의 나머지 값을 돌려주는 연산자이다. 7을3으로 나누면 나머지는 1일 될것이고 3을 7로나누면 나머지는 3이 될 것이다. 다음 예로 확인해 보자."
   ]
  },
  {
   "cell_type": "code",
   "execution_count": 41,
   "id": "363756a8",
   "metadata": {},
   "outputs": [
    {
     "data": {
      "text/plain": [
       "1"
      ]
     },
     "execution_count": 41,
     "metadata": {},
     "output_type": "execute_result"
    }
   ],
   "source": [
    "7%3"
   ]
  },
  {
   "cell_type": "code",
   "execution_count": 42,
   "id": "d2c23380",
   "metadata": {},
   "outputs": [
    {
     "data": {
      "text/plain": [
       "3"
      ]
     },
     "execution_count": 42,
     "metadata": {},
     "output_type": "execute_result"
    }
   ],
   "source": [
    "3%7"
   ]
  },
  {
   "cell_type": "markdown",
   "id": "aa571856",
   "metadata": {},
   "source": [
    "### 나눗셈후 몫을 반환하는 //연산자\n",
    "/연산자를 사용하여 7나누기 4를 하면 그 결과는 예상대로 1.75가 된다."
   ]
  },
  {
   "cell_type": "code",
   "execution_count": 43,
   "id": "b3cbe903",
   "metadata": {},
   "outputs": [
    {
     "data": {
      "text/plain": [
       "1.75"
      ]
     },
     "execution_count": 43,
     "metadata": {},
     "output_type": "execute_result"
    }
   ],
   "source": [
    "7/4"
   ]
  },
  {
   "cell_type": "markdown",
   "id": "33cb2973",
   "metadata": {},
   "source": [
    "이번에는 나눗셈 후 몫을 반화하는 // 연산자를 사용한 경우를 보자."
   ]
  },
  {
   "cell_type": "code",
   "execution_count": 44,
   "id": "29a39807",
   "metadata": {},
   "outputs": [
    {
     "data": {
      "text/plain": [
       "1"
      ]
     },
     "execution_count": 44,
     "metadata": {},
     "output_type": "execute_result"
    }
   ],
   "source": [
    "7//4"
   ]
  },
  {
   "cell_type": "code",
   "execution_count": 45,
   "id": "e59eb0cd",
   "metadata": {},
   "outputs": [
    {
     "data": {
      "text/plain": [
       "1"
      ]
     },
     "execution_count": 45,
     "metadata": {},
     "output_type": "execute_result"
    }
   ],
   "source": [
    "7//4"
   ]
  },
  {
   "cell_type": "markdown",
   "id": "d2c29027",
   "metadata": {},
   "source": [
    "## 문제\n",
    "14를 3으로 나누었을 때 몫과 나머지를 확인해보자.="
   ]
  },
  {
   "cell_type": "code",
   "execution_count": 46,
   "id": "1599aadb",
   "metadata": {},
   "outputs": [
    {
     "data": {
      "text/plain": [
       "4"
      ]
     },
     "execution_count": 46,
     "metadata": {},
     "output_type": "execute_result"
    }
   ],
   "source": [
    "14//3"
   ]
  },
  {
   "cell_type": "code",
   "execution_count": 53,
   "id": "b91acefa",
   "metadata": {},
   "outputs": [
    {
     "data": {
      "text/plain": [
       "2"
      ]
     },
     "execution_count": 53,
     "metadata": {},
     "output_type": "execute_result"
    }
   ],
   "source": [
    "14%3"
   ]
  },
  {
   "cell_type": "code",
   "execution_count": null,
   "id": "05b75215",
   "metadata": {},
   "outputs": [],
   "source": []
  }
 ],
 "metadata": {
  "kernelspec": {
   "display_name": "Python 3",
   "language": "python",
   "name": "python3"
  },
  "language_info": {
   "codemirror_mode": {
    "name": "ipython",
    "version": 3
   },
   "file_extension": ".py",
   "mimetype": "text/x-python",
   "name": "python",
   "nbconvert_exporter": "python",
   "pygments_lexer": "ipython3",
   "version": "3.8.8"
  }
 },
 "nbformat": 4,
 "nbformat_minor": 5
}
