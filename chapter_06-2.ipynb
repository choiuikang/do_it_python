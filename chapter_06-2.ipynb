{
 "cells": [
  {
   "cell_type": "markdown",
   "id": "7246b279",
   "metadata": {},
   "source": [
    "# 3과 5의 배수 합하기\n",
    "자, 다음문제를 어떻게 풀면 좋을지 생각해보자.<br>\n",
    "10 미만의 자연수에서 3과 5의 배수를 구하면 3,5,6,9이다. 이들의 총합은 23이다.<br>1000미만의 자연수에서 3의 배수와 5의 배수의 총합을 구하라."
   ]
  },
  {
   "cell_type": "markdown",
   "id": "51524638",
   "metadata": {},
   "source": [
    "입력받는 값은? 1부터 999까지(1000미만의 자연수)<br>\n",
    "출력하는 값은? 3의 배수와 5의 배수의 총합<br>\n",
    "생각해 볼 것은 ? 하나. 3의 배수와 5의 배수는 어떻게 찾지?<br>\n",
    "둘. 3의 배수와 5의 배수가 겹칠 때는 어떻게 하지?"
   ]
  },
  {
   "cell_type": "markdown",
   "id": "a41a0eb8",
   "metadata": {},
   "source": [
    "이 문제를 풀기위한 중요 포인트는 두 가지이다. 한가지는 1000미만의 자연수를 구하는 방법이고 또 다른 한 가지는 3과 5의 배수를 구하는 것이다. 이 두가지만 해결되면 문제는 쉽게 해결될 것으로 보인다."
   ]
  },
  {
   "cell_type": "markdown",
   "id": "b39b23ac",
   "metadata": {},
   "source": [
    "1.먼저 1000미만의 자연수는 어떻게 구할 수 있을지 생각해 보자. 여러 가지 방법이 떠오를 것이다. 다음과 같이 변수를 초깃값 1을 준 후 루프를 돌리며 1씩 증가시켜서 999까지 진행하는 방법이 가장 일반적인 방법일 것이다."
   ]
  },
  {
   "cell_type": "code",
   "execution_count": 21,
   "id": "7b2c392a",
   "metadata": {},
   "outputs": [
    {
     "name": "stdout",
     "output_type": "stream",
     "text": [
      "1\n",
      "2\n",
      "3\n",
      "4\n",
      "5\n",
      "6\n",
      "7\n",
      "8\n",
      "9\n"
     ]
    }
   ],
   "source": [
    "n = 1\n",
    "while n <10:\n",
    "    print(n)\n",
    "    n +=1"
   ]
  },
  {
   "cell_type": "markdown",
   "id": "11b76f6b",
   "metadata": {},
   "source": [
    "(결괏값이 많이나와 10으로 수정)<br>\n",
    "또는 다음과 같이 좀더 파이썬다운 rnage 함수를 사용할 수도 있다."
   ]
  },
  {
   "cell_type": "code",
   "execution_count": 20,
   "id": "0359a224",
   "metadata": {},
   "outputs": [
    {
     "name": "stdout",
     "output_type": "stream",
     "text": [
      "1\n",
      "2\n",
      "3\n",
      "4\n",
      "5\n",
      "6\n",
      "7\n",
      "8\n",
      "9\n"
     ]
    }
   ],
   "source": [
    "for n in range(1,10):\n",
    "    print(n)"
   ]
  },
  {
   "cell_type": "markdown",
   "id": "994c3b96",
   "metadata": {},
   "source": [
    "(결괏값이 많이나와 10으로 수정)<br>\n",
    "두 가지 예 모두 실행하면 1부터 999까지 출력하는 것을 확인할 수 있다."
   ]
  },
  {
   "cell_type": "markdown",
   "id": "c9ca7ba9",
   "metadata": {},
   "source": [
    "### 2. 1000까지의 자연수를 차례로 구하는 방법을 알았으니 3과 5의 배수를 구하는 방법을 알아보자. 1000미만의 자연수중 3의 배수는 다음과 같이 증가할 것이다."
   ]
  },
  {
   "cell_type": "markdown",
   "id": "af5dce20",
   "metadata": {},
   "source": [
    "3,6,9,12,15,18,....,999"
   ]
  },
  {
   "cell_type": "markdown",
   "id": "484b14b9",
   "metadata": {},
   "source": [
    "그렇다면 1부터 1000까지 수가 진행되는 동안 그 수가 3의 배수인지는 어떻게 알 수 있을까? 1부터 1000까지의 수 중 3의로 나누었을 때 나누어떨어지는 경우, 즉 3으로 나누었을 때 나머지가 0인 경우가 바로 3의 배수이다. 따라서 다음과 같이 % 연산자를 사용하면 3의 배수를 쉽게 찾을수있다."
   ]
  },
  {
   "cell_type": "code",
   "execution_count": 16,
   "id": "ace860ee",
   "metadata": {},
   "outputs": [
    {
     "name": "stdout",
     "output_type": "stream",
     "text": [
      "3\n",
      "6\n",
      "9\n"
     ]
    }
   ],
   "source": [
    "for n in range(1,10):\n",
    "    if n %3==0:\n",
    "         print(n)"
   ]
  },
  {
   "cell_type": "markdown",
   "id": "9e7ffaa2",
   "metadata": {},
   "source": [
    "(결괏값이 많이나와 10으로 수정)<br>\n",
    "그렇다면 5의 배수는 n%가 0이 되는 수로 구할수 있을 것이다."
   ]
  },
  {
   "cell_type": "markdown",
   "id": "20d15912",
   "metadata": {},
   "source": [
    "### 3. 이러한 내용을 바탕으로 만든 최종 풀이는 다음과 같다."
   ]
  },
  {
   "cell_type": "code",
   "execution_count": 19,
   "id": "c6564ddf",
   "metadata": {},
   "outputs": [
    {
     "name": "stdout",
     "output_type": "stream",
     "text": [
      "2318\n"
     ]
    }
   ],
   "source": [
    "result=0\n",
    "for n in range(1,1000):\n",
    "    if n%3==0 or n %5==0:\n",
    "        result +=n\n",
    "print(result)"
   ]
  },
  {
   "cell_type": "markdown",
   "id": "65fac2c0",
   "metadata": {},
   "source": [
    "3과 5의 배수에 해당하는 수를 result 변수에 게속해서 더해 주었다."
   ]
  },
  {
   "cell_type": "markdown",
   "id": "16eb011b",
   "metadata": {},
   "source": [
    "이 문제에는 한가지 함정이 있는데 3으로도 5로도 나누어지는 15와 같은 수를 이중으로 더해서는 안된다는 점이다. 따라서 15와 같이 3의 배수도 되고 5의 배수도 되는 값이 이중으로 더해지지 않기 위해 or 연산자를 사용하였다."
   ]
  },
  {
   "cell_type": "markdown",
   "id": "f4a15b41",
   "metadata": {},
   "source": [
    "다음 예는 15와 같은 수를 이중으로 더하여 잘못된 결과를 출력하는 잘못된 풀이이다."
   ]
  },
  {
   "cell_type": "code",
   "execution_count": 13,
   "id": "2028c06c",
   "metadata": {},
   "outputs": [
    {
     "name": "stdout",
     "output_type": "stream",
     "text": [
      "266333\n"
     ]
    }
   ],
   "source": [
    "result=0\n",
    "for n in range(1,1000):\n",
    "    if n %3 == 0:\n",
    "        result +=n\n",
    "    if n %5 == 0:\n",
    "        result+=n\n",
    "print(result)"
   ]
  },
  {
   "cell_type": "markdown",
   "id": "f1427d14",
   "metadata": {},
   "source": [
    "출처 : \"점프투파이썬\""
   ]
  }
 ],
 "metadata": {
  "kernelspec": {
   "display_name": "Python 3",
   "language": "python",
   "name": "python3"
  },
  "language_info": {
   "codemirror_mode": {
    "name": "ipython",
    "version": 3
   },
   "file_extension": ".py",
   "mimetype": "text/x-python",
   "name": "python",
   "nbconvert_exporter": "python",
   "pygments_lexer": "ipython3",
   "version": "3.8.8"
  }
 },
 "nbformat": 4,
 "nbformat_minor": 5
}
