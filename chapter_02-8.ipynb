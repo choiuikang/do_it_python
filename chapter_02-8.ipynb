{
 "cells": [
  {
   "cell_type": "markdown",
   "id": "a57bb5c8",
   "metadata": {},
   "source": [
    "# 자료형의 값을 정장하는 공간, 변수\n",
    "지금부터 설명할 내용은 프로그래밍 초보자가 얼른 이하하기 어려운 부분이므로 당장 이해가 되지 않는다면 그냥 건너뛰어도 된다. 파이썬에 대해서 공부하다 보면 자연스럽게 알게 될것이다. 우리는 앞에서 이미 변수를 사용해 왔다.<br> 다음 예와 같은 a,b,c를 변수라고 한다."
   ]
  },
  {
   "cell_type": "code",
   "execution_count": 1,
   "id": "ff88138b",
   "metadata": {},
   "outputs": [],
   "source": [
    "a=1\n",
    "b=\"python\"\n",
    "c=[1,2,3]"
   ]
  },
  {
   "cell_type": "markdown",
   "id": "dae7cfad",
   "metadata": {},
   "source": [
    "변수를 만들 때는 위 예처럼= 기호를 사용한다. <br>\n",
    "변수 이름 =변수에 저장할 값<br>\n",
    "다른 프로그래밍 언어인 C나 JAVA에서는 변수를 만들 때 자료형을 직접 지정해야 한다. 하지만 파이썬은 변수에 저장된 값을 스스로 판단하여 자료형을 지정하기 때문에 더 편리하다."
   ]
  },
  {
   "cell_type": "markdown",
   "id": "2380cecc",
   "metadata": {},
   "source": [
    "## 변수란?\n",
    "파이썬에서 사용하는 변수는 객체를 가리키는 것이라고도 말할 수 있다. 객체란 우리가 지금껏 보아 온 자료형과 같은 것을 의미하는 말이다."
   ]
  },
  {
   "cell_type": "code",
   "execution_count": 2,
   "id": "8acd4551",
   "metadata": {},
   "outputs": [],
   "source": [
    "a=[1,2,3]"
   ]
  },
  {
   "cell_type": "markdown",
   "id": "6b1d8635",
   "metadata": {},
   "source": [
    "만약 위 코드처럼 a=[1,2,3]이라고 하면 [1,2,3] 값을 가지는 리스트 자료형이 자동으로 메모리에 생성되고 변수 a는 [1,2,3,]리스트가 저장된 메모리의 주소를 가리키게 된다."
   ]
  },
  {
   "cell_type": "markdown",
   "id": "23754556",
   "metadata": {},
   "source": [
    "a 변수가 가리키는 메모리의 주소는 다음과 같이 확인할 수 있다."
   ]
  },
  {
   "cell_type": "code",
   "execution_count": 1,
   "id": "fb168ea8",
   "metadata": {
    "scrolled": false
   },
   "outputs": [
    {
     "data": {
      "text/plain": [
       "1299088387136"
      ]
     },
     "execution_count": 1,
     "metadata": {},
     "output_type": "execute_result"
    }
   ],
   "source": [
    "a=[1,2,3]\n",
    "id(a)"
   ]
  },
  {
   "cell_type": "markdown",
   "id": "22d19aa9",
   "metadata": {},
   "source": [
    "id 함수는 변수가 가리키고 있는 객체의 주소 값을 돌려주는 파이썬 내장 함수이다. 즉 여기에서 필자가 만든 변수a가 가리키는 [1,2,3]리스트의 주소 값은 1299088387136 임을 알수 있다."
   ]
  },
  {
   "cell_type": "markdown",
   "id": "5dc3346d",
   "metadata": {},
   "source": [
    "##  리스트를 복사 할때\n",
    "여기에서는 리스트 자료형에서 가장 혼동하기 쉬운 '복사'에 대해 설명하겠다. 다음 예를 통해 알아보자."
   ]
  },
  {
   "cell_type": "code",
   "execution_count": 3,
   "id": "e513538e",
   "metadata": {},
   "outputs": [],
   "source": [
    "a=[1,2,3]\n",
    "b=a"
   ]
  },
  {
   "cell_type": "markdown",
   "id": "b4788fe7",
   "metadata": {},
   "source": [
    "b 변수에 a변수를 대입하면 어떻게 될까? b와 a는 같은 걸까 다른 걸까? 결론부터 말하면 b는 a 와 완전히 동일하다고 할 수 있다. 다만 [1,2,3] 리스트를 참조하는 변수가 a 변수 1개에서 b변수가 추가되어 2개로 늘어났다는 차이만 있을 뿐이다.\n",
    "<br> id함수를 사용하면 이러한 사실을 확인할 수 있다."
   ]
  },
  {
   "cell_type": "code",
   "execution_count": 4,
   "id": "9239ef4b",
   "metadata": {},
   "outputs": [
    {
     "data": {
      "text/plain": [
       "1299088418880"
      ]
     },
     "execution_count": 4,
     "metadata": {},
     "output_type": "execute_result"
    }
   ],
   "source": [
    "id(a)"
   ]
  },
  {
   "cell_type": "code",
   "execution_count": 5,
   "id": "d1d0670d",
   "metadata": {},
   "outputs": [
    {
     "data": {
      "text/plain": [
       "1299088418880"
      ]
     },
     "execution_count": 5,
     "metadata": {},
     "output_type": "execute_result"
    }
   ],
   "source": [
    "id(b)"
   ]
  },
  {
   "cell_type": "markdown",
   "id": "b67fbe40",
   "metadata": {},
   "source": [
    "id(a)의 값이 id(b)의 값과 돌일함을 확인할 수 있다. 즉 a가 가리키는 대상과 b가 가리키는 대상이 동일하다는 것을 알 수 있다. 동일한 객체를 가리키고 있는지에 대해서 판단하는 파이썬 명령어 is를 다음과 같이 실행해도 역시 참을 돌려준다."
   ]
  },
  {
   "cell_type": "code",
   "execution_count": 6,
   "id": "719bb348",
   "metadata": {},
   "outputs": [
    {
     "data": {
      "text/plain": [
       "True"
      ]
     },
     "execution_count": 6,
     "metadata": {},
     "output_type": "execute_result"
    }
   ],
   "source": [
    "a is b"
   ]
  },
  {
   "cell_type": "markdown",
   "id": "26711743",
   "metadata": {},
   "source": [
    "이제 다음 예를 계속해서 수행해 보자."
   ]
  },
  {
   "cell_type": "code",
   "execution_count": 7,
   "id": "0f0d2a39",
   "metadata": {},
   "outputs": [
    {
     "data": {
      "text/plain": [
       "[1, 4, 3]"
      ]
     },
     "execution_count": 7,
     "metadata": {},
     "output_type": "execute_result"
    }
   ],
   "source": [
    "a[1]=4\n",
    "a"
   ]
  },
  {
   "cell_type": "code",
   "execution_count": 8,
   "id": "469b976e",
   "metadata": {},
   "outputs": [
    {
     "data": {
      "text/plain": [
       "[1, 4, 3]"
      ]
     },
     "execution_count": 8,
     "metadata": {},
     "output_type": "execute_result"
    }
   ],
   "source": [
    "b"
   ]
  },
  {
   "cell_type": "markdown",
   "id": "bd26edd4",
   "metadata": {},
   "source": [
    "a 리스트의 두 번째 요소를 값 4로 바꾸었더니 a만 바뀌는 것이 아니라 b도 똑같이 바뀌었다. 그 이유는 앞에서 살펴본 것처럼 a,b 모두 동일한 리스트를 가리키고 있기 때문이다. 그렇다면 b변수를 생성할 때a 변수의 값을 가져오면서 a와는 다른 주소를 가리키도록 만들수 없을까? 다음 2가지 방법이 있다."
   ]
  },
  {
   "cell_type": "markdown",
   "id": "3513a16a",
   "metadata": {},
   "source": [
    "## 1.[:]사용\n",
    "첫 번째 방법으로는 다음과 같이 리스트 전체를 가리키는 [:]을 사용해서 복사하는 것이다."
   ]
  },
  {
   "cell_type": "code",
   "execution_count": 9,
   "id": "2f62bf61",
   "metadata": {},
   "outputs": [
    {
     "data": {
      "text/plain": [
       "[1, 4, 3]"
      ]
     },
     "execution_count": 9,
     "metadata": {},
     "output_type": "execute_result"
    }
   ],
   "source": [
    "a=[1,2,3]\n",
    "b=a[:]\n",
    "a[1]=4\n",
    "a"
   ]
  },
  {
   "cell_type": "code",
   "execution_count": 10,
   "id": "54138c93",
   "metadata": {},
   "outputs": [
    {
     "data": {
      "text/plain": [
       "[1, 2, 3]"
      ]
     },
     "execution_count": 10,
     "metadata": {},
     "output_type": "execute_result"
    }
   ],
   "source": [
    "b"
   ]
  },
  {
   "cell_type": "markdown",
   "id": "f9d712ca",
   "metadata": {},
   "source": [
    "위 예에서 볼 수 있듯이 a리스트 값을 바꾸더라도 b리스트에는 영향을 끼치지 않는다."
   ]
  },
  {
   "cell_type": "markdown",
   "id": "ca1f1f49",
   "metadata": {},
   "source": [
    "## 2. copy 모듈 사용\n",
    "두 번째는 copy 모듈을 사용하는 방법이다. 다음 예를 보면 from copy import copy 라는 처음 보는 형태의 문장이 나오는데 , 이것은 뒤에 설명할 파이썬 모듈 부분에서 자세히 다룬다.<br> 여기에서는 단순히 copy 함수를 쓰기 위해서 사용하는 것이라고만 알아두자."
   ]
  },
  {
   "cell_type": "code",
   "execution_count": 11,
   "id": "9ca50f0c",
   "metadata": {},
   "outputs": [],
   "source": [
    "from copy import copy\n",
    "a=[1,2,3]\n",
    "b=copy(a)"
   ]
  },
  {
   "cell_type": "markdown",
   "id": "28e0cf3b",
   "metadata": {},
   "source": [
    "위 예에서 b=copy(a)는 b=a[:]과 동일하다.<br> 두 변수가 같은 값을 가지면서 다른 객체를 제대로 생성했는지 다음과 같이 확인해 보자."
   ]
  },
  {
   "cell_type": "code",
   "execution_count": 12,
   "id": "57372019",
   "metadata": {},
   "outputs": [
    {
     "data": {
      "text/plain": [
       "[1, 2, 3]"
      ]
     },
     "execution_count": 12,
     "metadata": {},
     "output_type": "execute_result"
    }
   ],
   "source": [
    "a"
   ]
  },
  {
   "cell_type": "code",
   "execution_count": 13,
   "id": "a4bd8f6f",
   "metadata": {},
   "outputs": [
    {
     "data": {
      "text/plain": [
       "[1, 2, 3]"
      ]
     },
     "execution_count": 13,
     "metadata": {},
     "output_type": "execute_result"
    }
   ],
   "source": [
    "b"
   ]
  },
  {
   "cell_type": "code",
   "execution_count": 14,
   "id": "261679ff",
   "metadata": {},
   "outputs": [
    {
     "data": {
      "text/plain": [
       "False"
      ]
     },
     "execution_count": 14,
     "metadata": {},
     "output_type": "execute_result"
    }
   ],
   "source": [
    "b is a"
   ]
  },
  {
   "cell_type": "markdown",
   "id": "17360163",
   "metadata": {},
   "source": [
    "위 예에서 b is a가 False를 돌려주므로 b와 a가 가리키는 객체는 서로 다르다는 것을 알수 있다."
   ]
  },
  {
   "cell_type": "markdown",
   "id": "f0defe2e",
   "metadata": {},
   "source": [
    "## 변수를 만드는 여러가지 방법"
   ]
  },
  {
   "cell_type": "code",
   "execution_count": 16,
   "id": "8357fde6",
   "metadata": {},
   "outputs": [],
   "source": [
    "a,b=('python','Life')"
   ]
  },
  {
   "cell_type": "markdown",
   "id": "c29271c4",
   "metadata": {},
   "source": [
    "위 예문처럼 튜플로 a,b에 값을 대입할 수 있다. 이 방법은 다음 예문과 완전히 동일하다."
   ]
  },
  {
   "cell_type": "code",
   "execution_count": 17,
   "id": "02174f88",
   "metadata": {},
   "outputs": [],
   "source": [
    "(a,b)='python','Life'"
   ]
  },
  {
   "cell_type": "markdown",
   "id": "1a571d66",
   "metadata": {},
   "source": [
    "튜플 부분에서도 언급했지만 튜플은 괄호를 생략해도 된다.\n",
    "<br> 다음처럼 리스트로 변수를 만들 수도 있다."
   ]
  },
  {
   "cell_type": "code",
   "execution_count": 18,
   "id": "3e375fdb",
   "metadata": {},
   "outputs": [],
   "source": [
    "[a,b]=['python','Life']"
   ]
  },
  {
   "cell_type": "markdown",
   "id": "65b77325",
   "metadata": {},
   "source": [
    "또한 여러 개의 변수에 같은 값을 대입할 수도 있다."
   ]
  },
  {
   "cell_type": "code",
   "execution_count": 19,
   "id": "c91c5ba9",
   "metadata": {},
   "outputs": [],
   "source": [
    "a=b='pytheon'"
   ]
  },
  {
   "cell_type": "markdown",
   "id": "2bff381d",
   "metadata": {},
   "source": [
    "파이썬에서는 위 방법을 사용하여 두 변수의 값을 아주 간단히 바꿀 수 있다."
   ]
  },
  {
   "cell_type": "code",
   "execution_count": 20,
   "id": "ffec4e1e",
   "metadata": {},
   "outputs": [
    {
     "data": {
      "text/plain": [
       "5"
      ]
     },
     "execution_count": 20,
     "metadata": {},
     "output_type": "execute_result"
    }
   ],
   "source": [
    "a=3\n",
    "b=5\n",
    "a,b=b,a\n",
    "a"
   ]
  },
  {
   "cell_type": "code",
   "execution_count": 21,
   "id": "53ec490a",
   "metadata": {},
   "outputs": [
    {
     "data": {
      "text/plain": [
       "3"
      ]
     },
     "execution_count": 21,
     "metadata": {},
     "output_type": "execute_result"
    }
   ],
   "source": [
    "b"
   ]
  },
  {
   "cell_type": "markdown",
   "id": "f45f49b4",
   "metadata": {},
   "source": [
    "처음에 a에 값 3,b에는 값 5가 대입되어 있었지만 a,b=b,a 문장을 수행한 후에는 그 값이 서로 바뀌었음을 확인할 수 있다."
   ]
  },
  {
   "cell_type": "markdown",
   "id": "eed4c9dd",
   "metadata": {},
   "source": [
    "출처 : \"점프투파이썬\""
   ]
  }
 ],
 "metadata": {
  "kernelspec": {
   "display_name": "Python 3",
   "language": "python",
   "name": "python3"
  },
  "language_info": {
   "codemirror_mode": {
    "name": "ipython",
    "version": 3
   },
   "file_extension": ".py",
   "mimetype": "text/x-python",
   "name": "python",
   "nbconvert_exporter": "python",
   "pygments_lexer": "ipython3",
   "version": "3.8.8"
  }
 },
 "nbformat": 4,
 "nbformat_minor": 5
}
