{
 "cells": [
  {
   "cell_type": "markdown",
   "id": "a57bb5c8",
   "metadata": {},
   "source": [
    "# 자료형의 값을 정장하는 공간, 변수\n",
    "지금부터 설명할 내용은 프로그래밍 초보자가 얼른 이하하기 어려운 부분이므로 당장 이해가 되지 않는다면 그냥 건너뛰어도 된다. 파이썬에 대해서 공부하다 보면 자연스럽게 알게 될것이다. 우리는 앞에서 이미 변수를 사용해 왔다.<br> 다음 예와 같은 a,b,c를 변수라고 한다."
   ]
  },
  {
   "cell_type": "code",
   "execution_count": 1,
   "id": "ff88138b",
   "metadata": {},
   "outputs": [],
   "source": [
    "a=1\n",
    "b=\"python\"\n",
    "c=[1,2,3]"
   ]
  },
  {
   "cell_type": "markdown",
   "id": "dae7cfad",
   "metadata": {},
   "source": [
    "변수를 만들 때는 위 예처럼= 기호를 사용한다. <br>\n",
    "변수 이름 =변수에 저장할 값<br>\n",
    "다른 프로그래밍 언어인 C나 JAVA에서는 변수를 만들 때 자료형을 직접 지정해야 한다. 하지만 파이썬은 변수에 저장된 값을 스스로 판단하여 자료형을 지정하기 때문에 더 편리하다."
   ]
  },
  {
   "cell_type": "markdown",
   "id": "2380cecc",
   "metadata": {},
   "source": [
    "## 변수란?\n",
    "파이썬에서 사용하는 변수는 객체를 가리키는 것이라고도 말할 수 있다. 객체란 우리가 지금껏 보아 온 자료형과 같은 것을 의미하는 말이다."
   ]
  },
  {
   "cell_type": "code",
   "execution_count": 2,
   "id": "8acd4551",
   "metadata": {},
   "outputs": [],
   "source": [
    "a=[1,2,3]"
   ]
  },
  {
   "cell_type": "markdown",
   "id": "6b1d8635",
   "metadata": {},
   "source": [
    "만약 위 코드처럼 a=[1,2,3]이라고 하면 [1,2,3] 값"
   ]
  }
 ],
 "metadata": {
  "kernelspec": {
   "display_name": "Python 3",
   "language": "python",
   "name": "python3"
  },
  "language_info": {
   "codemirror_mode": {
    "name": "ipython",
    "version": 3
   },
   "file_extension": ".py",
   "mimetype": "text/x-python",
   "name": "python",
   "nbconvert_exporter": "python",
   "pygments_lexer": "ipython3",
   "version": "3.8.8"
  }
 },
 "nbformat": 4,
 "nbformat_minor": 5
}
